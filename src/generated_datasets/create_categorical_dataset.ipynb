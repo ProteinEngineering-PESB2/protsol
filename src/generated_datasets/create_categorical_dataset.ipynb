{
 "cells": [
  {
   "cell_type": "code",
   "execution_count": 75,
   "metadata": {},
   "outputs": [],
   "source": [
    "import pandas as pd\n",
    "import os\n",
    "import numpy as np"
   ]
  },
  {
   "cell_type": "code",
   "execution_count": 76,
   "metadata": {},
   "outputs": [],
   "source": [
    "canonical_residues = ['A','C', 'D', 'E', 'F', 'G', 'H', 'I', 'N', 'K', \n",
    "    'L', 'M', 'P', 'Q', 'R', 'S', 'T', 'V', 'W', 'Y']"
   ]
  },
  {
   "cell_type": "code",
   "execution_count": 77,
   "metadata": {},
   "outputs": [],
   "source": [
    "def check_canonical_residues(sequence):\n",
    "    is_canon=True\n",
    "\n",
    "    for residue in sequence:\n",
    "        if residue not in canonical_residues:\n",
    "            is_canon=False\n",
    "            break\n",
    "    \n",
    "    return is_canon"
   ]
  },
  {
   "cell_type": "code",
   "execution_count": 78,
   "metadata": {},
   "outputs": [],
   "source": [
    "processed_files = os.listdir(\"../../process_data/categorical/\")"
   ]
  },
  {
   "cell_type": "code",
   "execution_count": 79,
   "metadata": {},
   "outputs": [
    {
     "data": {
      "text/plain": [
       "(356088, 4)"
      ]
     },
     "execution_count": 79,
     "metadata": {},
     "output_type": "execute_result"
    }
   ],
   "source": [
    "list_df = []\n",
    "\n",
    "for element in processed_files:\n",
    "    df_data = pd.read_csv(f\"../../process_data/categorical/{element}\")\n",
    "    df_data[\"source\"] = element\n",
    "    \n",
    "    if \"id_seq\" not in df_data.columns.tolist():\n",
    "        df_data[\"id_seq\"] = [i for i in range(len(df_data))]\n",
    "    \n",
    "    df_data = df_data[[\"id_seq\", \"sequence\", \"response\", \"source\"]]\n",
    "    list_df.append(df_data)\n",
    "\n",
    "full_df = pd.concat(list_df, axis=0)\n",
    "full_df.shape"
   ]
  },
  {
   "cell_type": "code",
   "execution_count": 80,
   "metadata": {},
   "outputs": [],
   "source": [
    "full_df.reset_index(inplace=True)"
   ]
  },
  {
   "cell_type": "code",
   "execution_count": 81,
   "metadata": {},
   "outputs": [
    {
     "data": {
      "text/plain": [
       "164262"
      ]
     },
     "execution_count": 81,
     "metadata": {},
     "output_type": "execute_result"
    }
   ],
   "source": [
    "unique_sequences = full_df[\"sequence\"].unique()\n",
    "len(unique_sequences)"
   ]
  },
  {
   "cell_type": "code",
   "execution_count": 82,
   "metadata": {},
   "outputs": [],
   "source": [
    "grouped_sequences = full_df.groupby(by=[\"sequence\"]).count()"
   ]
  },
  {
   "cell_type": "code",
   "execution_count": 83,
   "metadata": {},
   "outputs": [
    {
     "data": {
      "text/plain": [
       "(164262, 4)"
      ]
     },
     "execution_count": 83,
     "metadata": {},
     "output_type": "execute_result"
    }
   ],
   "source": [
    "grouped_sequences.shape"
   ]
  },
  {
   "cell_type": "code",
   "execution_count": 84,
   "metadata": {},
   "outputs": [],
   "source": [
    "grouped_sequences_only_one_response = grouped_sequences[grouped_sequences[\"id_seq\"] == 1]\n",
    "grouped_sequences_more_than_one_response = grouped_sequences[grouped_sequences[\"id_seq\"] != 1]"
   ]
  },
  {
   "cell_type": "code",
   "execution_count": 85,
   "metadata": {},
   "outputs": [
    {
     "data": {
      "text/plain": [
       "(91075, 4)"
      ]
     },
     "execution_count": 85,
     "metadata": {},
     "output_type": "execute_result"
    }
   ],
   "source": [
    "grouped_sequences_more_than_one_response.shape"
   ]
  },
  {
   "cell_type": "code",
   "execution_count": 86,
   "metadata": {},
   "outputs": [
    {
     "data": {
      "text/plain": [
       "1    39348\n",
       "0    33839\n",
       "Name: response, dtype: int64"
      ]
     },
     "execution_count": 86,
     "metadata": {},
     "output_type": "execute_result"
    }
   ],
   "source": [
    "df_sequences_unique_response = pd.DataFrame()\n",
    "df_sequences_unique_response[\"sequence\"] = grouped_sequences_only_one_response.index.tolist()\n",
    "df_sequences_unique_response = df_sequences_unique_response.merge(right=full_df, on=\"sequence\")\n",
    "df_sequences_unique_response = df_sequences_unique_response[[\"sequence\", \"response\"]]\n",
    "df_sequences_unique_response[\"response\"].value_counts()"
   ]
  },
  {
   "cell_type": "code",
   "execution_count": 87,
   "metadata": {},
   "outputs": [
    {
     "data": {
      "text/html": [
       "<div>\n",
       "<style scoped>\n",
       "    .dataframe tbody tr th:only-of-type {\n",
       "        vertical-align: middle;\n",
       "    }\n",
       "\n",
       "    .dataframe tbody tr th {\n",
       "        vertical-align: top;\n",
       "    }\n",
       "\n",
       "    .dataframe thead th {\n",
       "        text-align: right;\n",
       "    }\n",
       "</style>\n",
       "<table border=\"1\" class=\"dataframe\">\n",
       "  <thead>\n",
       "    <tr style=\"text-align: right;\">\n",
       "      <th></th>\n",
       "      <th>sequence</th>\n",
       "      <th>response</th>\n",
       "    </tr>\n",
       "  </thead>\n",
       "  <tbody>\n",
       "    <tr>\n",
       "      <th>0</th>\n",
       "      <td>AAAAAARAGKVRGQTPKVAKQEKKKKKTGRAKRRMQYNRRFVNVKG...</td>\n",
       "      <td>1</td>\n",
       "    </tr>\n",
       "    <tr>\n",
       "      <th>1</th>\n",
       "      <td>AAAAANHSTQESGFDYEGLIDSELQKKRLDKSYRYFNNINRLAKEF...</td>\n",
       "      <td>1</td>\n",
       "    </tr>\n",
       "    <tr>\n",
       "      <th>2</th>\n",
       "      <td>AAADGDDSLYPIAVLIDELRNEDVQLRLNSIKKLSTIALALGVERT...</td>\n",
       "      <td>1</td>\n",
       "    </tr>\n",
       "    <tr>\n",
       "      <th>3</th>\n",
       "      <td>AAAEIETIVRESEANRIQAQTWFSHPEKSKVSFRYDERETSSIRSI...</td>\n",
       "      <td>1</td>\n",
       "    </tr>\n",
       "    <tr>\n",
       "      <th>4</th>\n",
       "      <td>AAAFQEEFTVREDLMGLAIGTHGANIQQARKVPGVTAIELGEETCT...</td>\n",
       "      <td>1</td>\n",
       "    </tr>\n",
       "  </tbody>\n",
       "</table>\n",
       "</div>"
      ],
      "text/plain": [
       "                                            sequence  response\n",
       "0  AAAAAARAGKVRGQTPKVAKQEKKKKKTGRAKRRMQYNRRFVNVKG...         1\n",
       "1  AAAAANHSTQESGFDYEGLIDSELQKKRLDKSYRYFNNINRLAKEF...         1\n",
       "2  AAADGDDSLYPIAVLIDELRNEDVQLRLNSIKKLSTIALALGVERT...         1\n",
       "3  AAAEIETIVRESEANRIQAQTWFSHPEKSKVSFRYDERETSSIRSI...         1\n",
       "4  AAAFQEEFTVREDLMGLAIGTHGANIQQARKVPGVTAIELGEETCT...         1"
      ]
     },
     "execution_count": 87,
     "metadata": {},
     "output_type": "execute_result"
    }
   ],
   "source": [
    "df_sequences_unique_response.head(5)"
   ]
  },
  {
   "cell_type": "code",
   "execution_count": 88,
   "metadata": {},
   "outputs": [],
   "source": [
    "process_sequences = []\n",
    "sequences_ignored = []\n",
    "\n",
    "for index in grouped_sequences_more_than_one_response.index:\n",
    "\n",
    "    filter_doc = full_df[full_df[\"sequence\"] == index]\n",
    "    responses = filter_doc[\"response\"].unique()\n",
    "\n",
    "    if len(responses) == 1:\n",
    "        row = [\n",
    "            index,\n",
    "            responses[0]\n",
    "        ]\n",
    "        process_sequences.append(row)\n",
    "    else:\n",
    "        sequences_ignored.append(index)\n",
    "\n",
    "df_valid_sequences = pd.DataFrame(data=process_sequences, columns=[\"sequence\", \"response\"])\n",
    "df_sequences_to_check = pd.DataFrame()\n",
    "df_sequences_to_check[\"sequence\"] = sequences_ignored"
   ]
  },
  {
   "cell_type": "code",
   "execution_count": 89,
   "metadata": {},
   "outputs": [
    {
     "data": {
      "text/plain": [
       "(79566, 2)"
      ]
     },
     "execution_count": 89,
     "metadata": {},
     "output_type": "execute_result"
    }
   ],
   "source": [
    "df_valid_sequences.shape"
   ]
  },
  {
   "cell_type": "code",
   "execution_count": 90,
   "metadata": {},
   "outputs": [
    {
     "data": {
      "text/plain": [
       "(11509, 1)"
      ]
     },
     "execution_count": 90,
     "metadata": {},
     "output_type": "execute_result"
    }
   ],
   "source": [
    "df_sequences_to_check.shape"
   ]
  },
  {
   "cell_type": "code",
   "execution_count": 91,
   "metadata": {},
   "outputs": [
    {
     "data": {
      "text/html": [
       "<div>\n",
       "<style scoped>\n",
       "    .dataframe tbody tr th:only-of-type {\n",
       "        vertical-align: middle;\n",
       "    }\n",
       "\n",
       "    .dataframe tbody tr th {\n",
       "        vertical-align: top;\n",
       "    }\n",
       "\n",
       "    .dataframe thead th {\n",
       "        text-align: right;\n",
       "    }\n",
       "</style>\n",
       "<table border=\"1\" class=\"dataframe\">\n",
       "  <thead>\n",
       "    <tr style=\"text-align: right;\">\n",
       "      <th></th>\n",
       "      <th>sequence</th>\n",
       "      <th>response</th>\n",
       "    </tr>\n",
       "  </thead>\n",
       "  <tbody>\n",
       "    <tr>\n",
       "      <th>0</th>\n",
       "      <td>AAAAAAMIVQRVVLNSRPGKNGNPVAENFRMEEVYLPDNINEGQVQ...</td>\n",
       "      <td>1</td>\n",
       "    </tr>\n",
       "    <tr>\n",
       "      <th>1</th>\n",
       "      <td>AAAAAAMTMMDMNFKYCHKIMKKHSKSFSYAFDLLPEDQRKAVWAI...</td>\n",
       "      <td>1</td>\n",
       "    </tr>\n",
       "    <tr>\n",
       "      <th>2</th>\n",
       "      <td>AAADLAVGQVVAQREIRLDAQAFAQFAALTGDAHPIHYDAGYVQRQ...</td>\n",
       "      <td>0</td>\n",
       "    </tr>\n",
       "    <tr>\n",
       "      <th>3</th>\n",
       "      <td>AAADSTSMSYSVTLTGPGPWGFRLQGGKDFNMPLTISRITPGSKAA...</td>\n",
       "      <td>1</td>\n",
       "    </tr>\n",
       "    <tr>\n",
       "      <th>4</th>\n",
       "      <td>AAAIAGAKLRKVSRMEDTSFPSGGNAIGVNSASSKTDTGRGNGPLP...</td>\n",
       "      <td>1</td>\n",
       "    </tr>\n",
       "  </tbody>\n",
       "</table>\n",
       "</div>"
      ],
      "text/plain": [
       "                                            sequence  response\n",
       "0  AAAAAAMIVQRVVLNSRPGKNGNPVAENFRMEEVYLPDNINEGQVQ...         1\n",
       "1  AAAAAAMTMMDMNFKYCHKIMKKHSKSFSYAFDLLPEDQRKAVWAI...         1\n",
       "2  AAADLAVGQVVAQREIRLDAQAFAQFAALTGDAHPIHYDAGYVQRQ...         0\n",
       "3  AAADSTSMSYSVTLTGPGPWGFRLQGGKDFNMPLTISRITPGSKAA...         1\n",
       "4  AAAIAGAKLRKVSRMEDTSFPSGGNAIGVNSASSKTDTGRGNGPLP...         1"
      ]
     },
     "execution_count": 91,
     "metadata": {},
     "output_type": "execute_result"
    }
   ],
   "source": [
    "df_processed = pd.concat([df_valid_sequences, df_sequences_unique_response], axis=0)\n",
    "df_processed.reset_index(inplace=True)\n",
    "df_processed = df_processed.drop(columns=[\"index\"])\n",
    "df_processed.head(5)"
   ]
  },
  {
   "cell_type": "code",
   "execution_count": 92,
   "metadata": {},
   "outputs": [
    {
     "data": {
      "text/plain": [
       "1    77344\n",
       "0    75409\n",
       "Name: response, dtype: int64"
      ]
     },
     "execution_count": 92,
     "metadata": {},
     "output_type": "execute_result"
    }
   ],
   "source": [
    "df_processed[\"response\"].value_counts()"
   ]
  },
  {
   "cell_type": "code",
   "execution_count": 93,
   "metadata": {},
   "outputs": [
    {
     "data": {
      "text/plain": [
       "(152753,)"
      ]
     },
     "execution_count": 93,
     "metadata": {},
     "output_type": "execute_result"
    }
   ],
   "source": [
    "df_processed[\"sequence\"].unique().shape"
   ]
  },
  {
   "cell_type": "code",
   "execution_count": 94,
   "metadata": {},
   "outputs": [
    {
     "data": {
      "text/html": [
       "<div>\n",
       "<style scoped>\n",
       "    .dataframe tbody tr th:only-of-type {\n",
       "        vertical-align: middle;\n",
       "    }\n",
       "\n",
       "    .dataframe tbody tr th {\n",
       "        vertical-align: top;\n",
       "    }\n",
       "\n",
       "    .dataframe thead th {\n",
       "        text-align: right;\n",
       "    }\n",
       "</style>\n",
       "<table border=\"1\" class=\"dataframe\">\n",
       "  <thead>\n",
       "    <tr style=\"text-align: right;\">\n",
       "      <th></th>\n",
       "      <th>sequence</th>\n",
       "    </tr>\n",
       "  </thead>\n",
       "  <tbody>\n",
       "    <tr>\n",
       "      <th>0</th>\n",
       "      <td>AAAKPADKALQAQLPEMALPREAAPRLDGLAAVLPQIHPAEAGKPA...</td>\n",
       "    </tr>\n",
       "    <tr>\n",
       "      <th>1</th>\n",
       "      <td>AAAPAVENKPVNPAKAKKEDRRNRDDEGQGRNAKGKGGKGGRDRNN...</td>\n",
       "    </tr>\n",
       "    <tr>\n",
       "      <th>2</th>\n",
       "      <td>AACQDEDHTVPTLPSGNDPEINDPVVEFYDWEKNRTELLTSTDMVL...</td>\n",
       "    </tr>\n",
       "    <tr>\n",
       "      <th>3</th>\n",
       "      <td>AACQGKPLPNTAMHSDAPTEWSFNFFTPKALPAVVTFAAILDVDGN...</td>\n",
       "    </tr>\n",
       "    <tr>\n",
       "      <th>4</th>\n",
       "      <td>AACSSEDDSSPEVNPENAAITFELSAVNGLTDGIGTRMPVYSQEAT...</td>\n",
       "    </tr>\n",
       "  </tbody>\n",
       "</table>\n",
       "</div>"
      ],
      "text/plain": [
       "                                            sequence\n",
       "0  AAAKPADKALQAQLPEMALPREAAPRLDGLAAVLPQIHPAEAGKPA...\n",
       "1  AAAPAVENKPVNPAKAKKEDRRNRDDEGQGRNAKGKGGKGGRDRNN...\n",
       "2  AACQDEDHTVPTLPSGNDPEINDPVVEFYDWEKNRTELLTSTDMVL...\n",
       "3  AACQGKPLPNTAMHSDAPTEWSFNFFTPKALPAVVTFAAILDVDGN...\n",
       "4  AACSSEDDSSPEVNPENAAITFELSAVNGLTDGIGTRMPVYSQEAT..."
      ]
     },
     "execution_count": 94,
     "metadata": {},
     "output_type": "execute_result"
    }
   ],
   "source": [
    "df_sequences_to_check.head(5)"
   ]
  },
  {
   "cell_type": "code",
   "execution_count": 95,
   "metadata": {},
   "outputs": [
    {
     "data": {
      "text/html": [
       "<div>\n",
       "<style scoped>\n",
       "    .dataframe tbody tr th:only-of-type {\n",
       "        vertical-align: middle;\n",
       "    }\n",
       "\n",
       "    .dataframe tbody tr th {\n",
       "        vertical-align: top;\n",
       "    }\n",
       "\n",
       "    .dataframe thead th {\n",
       "        text-align: right;\n",
       "    }\n",
       "</style>\n",
       "<table border=\"1\" class=\"dataframe\">\n",
       "  <thead>\n",
       "    <tr style=\"text-align: right;\">\n",
       "      <th></th>\n",
       "      <th>index</th>\n",
       "      <th>id_seq</th>\n",
       "      <th>sequence</th>\n",
       "      <th>response</th>\n",
       "      <th>source</th>\n",
       "    </tr>\n",
       "  </thead>\n",
       "  <tbody>\n",
       "    <tr>\n",
       "      <th>23780</th>\n",
       "      <td>23780</td>\n",
       "      <td>23780</td>\n",
       "      <td>MISVDTMTNASSTEGISLHHISVSDLDNNCYLLTTESDEGTQGLLI...</td>\n",
       "      <td>0</td>\n",
       "      <td>deep_sol_export_data.csv</td>\n",
       "    </tr>\n",
       "    <tr>\n",
       "      <th>124541</th>\n",
       "      <td>30724</td>\n",
       "      <td>Psol_train_21781</td>\n",
       "      <td>MISVDTMTNASSTEGISLHHISVSDLDNNCYLLTTESDEGTQGLLI...</td>\n",
       "      <td>0</td>\n",
       "      <td>EPSOL_exported_data.csv</td>\n",
       "    </tr>\n",
       "    <tr>\n",
       "      <th>232230</th>\n",
       "      <td>52456</td>\n",
       "      <td>52456</td>\n",
       "      <td>MISVDTMTNASSTEGISLHHISVSDLDNNCYLLTTESDEGTQGLLI...</td>\n",
       "      <td>1</td>\n",
       "      <td>PLM_sol_export_data.csv</td>\n",
       "    </tr>\n",
       "    <tr>\n",
       "      <th>302889</th>\n",
       "      <td>18222</td>\n",
       "      <td>18222</td>\n",
       "      <td>MISVDTMTNASSTEGISLHHISVSDLDNNCYLLTTESDEGTQGLLI...</td>\n",
       "      <td>0</td>\n",
       "      <td>PaRSnIP_export_data.csv</td>\n",
       "    </tr>\n",
       "  </tbody>\n",
       "</table>\n",
       "</div>"
      ],
      "text/plain": [
       "        index            id_seq  \\\n",
       "23780   23780             23780   \n",
       "124541  30724  Psol_train_21781   \n",
       "232230  52456             52456   \n",
       "302889  18222             18222   \n",
       "\n",
       "                                                 sequence  response  \\\n",
       "23780   MISVDTMTNASSTEGISLHHISVSDLDNNCYLLTTESDEGTQGLLI...         0   \n",
       "124541  MISVDTMTNASSTEGISLHHISVSDLDNNCYLLTTESDEGTQGLLI...         0   \n",
       "232230  MISVDTMTNASSTEGISLHHISVSDLDNNCYLLTTESDEGTQGLLI...         1   \n",
       "302889  MISVDTMTNASSTEGISLHHISVSDLDNNCYLLTTESDEGTQGLLI...         0   \n",
       "\n",
       "                          source  \n",
       "23780   deep_sol_export_data.csv  \n",
       "124541   EPSOL_exported_data.csv  \n",
       "232230   PLM_sol_export_data.csv  \n",
       "302889   PaRSnIP_export_data.csv  "
      ]
     },
     "execution_count": 95,
     "metadata": {},
     "output_type": "execute_result"
    }
   ],
   "source": [
    "full_df[full_df[\"sequence\"] == df_sequences_to_check[\"sequence\"][4569]]"
   ]
  },
  {
   "cell_type": "code",
   "execution_count": 96,
   "metadata": {},
   "outputs": [],
   "source": [
    "length_sequences = []\n",
    "\n",
    "for index in df_processed.index:\n",
    "    length_sequences.append(len(df_processed[\"sequence\"][index]))\n",
    "\n",
    "df_processed[\"length_sequence\"] = length_sequences"
   ]
  },
  {
   "cell_type": "code",
   "execution_count": 97,
   "metadata": {},
   "outputs": [],
   "source": [
    "length_sequences = []\n",
    "\n",
    "for index in df_sequences_to_check.index:\n",
    "    length_sequences.append(len(df_sequences_to_check[\"sequence\"][index]))\n",
    "\n",
    "df_sequences_to_check[\"length_sequence\"] = length_sequences"
   ]
  },
  {
   "cell_type": "code",
   "execution_count": 98,
   "metadata": {},
   "outputs": [
    {
     "data": {
      "text/html": [
       "<div>\n",
       "<style scoped>\n",
       "    .dataframe tbody tr th:only-of-type {\n",
       "        vertical-align: middle;\n",
       "    }\n",
       "\n",
       "    .dataframe tbody tr th {\n",
       "        vertical-align: top;\n",
       "    }\n",
       "\n",
       "    .dataframe thead th {\n",
       "        text-align: right;\n",
       "    }\n",
       "</style>\n",
       "<table border=\"1\" class=\"dataframe\">\n",
       "  <thead>\n",
       "    <tr style=\"text-align: right;\">\n",
       "      <th></th>\n",
       "      <th>sequence</th>\n",
       "      <th>length_sequence</th>\n",
       "    </tr>\n",
       "  </thead>\n",
       "  <tbody>\n",
       "    <tr>\n",
       "      <th>0</th>\n",
       "      <td>AAAKPADKALQAQLPEMALPREAAPRLDGLAAVLPQIHPAEAGKPA...</td>\n",
       "      <td>149</td>\n",
       "    </tr>\n",
       "    <tr>\n",
       "      <th>1</th>\n",
       "      <td>AAAPAVENKPVNPAKAKKEDRRNRDDEGQGRNAKGKGGKGGRDRNN...</td>\n",
       "      <td>163</td>\n",
       "    </tr>\n",
       "    <tr>\n",
       "      <th>2</th>\n",
       "      <td>AACQDEDHTVPTLPSGNDPEINDPVVEFYDWEKNRTELLTSTDMVL...</td>\n",
       "      <td>376</td>\n",
       "    </tr>\n",
       "    <tr>\n",
       "      <th>3</th>\n",
       "      <td>AACQGKPLPNTAMHSDAPTEWSFNFFTPKALPAVVTFAAILDVDGN...</td>\n",
       "      <td>204</td>\n",
       "    </tr>\n",
       "    <tr>\n",
       "      <th>4</th>\n",
       "      <td>AACSSEDDSSPEVNPENAAITFELSAVNGLTDGIGTRMPVYSQEAT...</td>\n",
       "      <td>346</td>\n",
       "    </tr>\n",
       "  </tbody>\n",
       "</table>\n",
       "</div>"
      ],
      "text/plain": [
       "                                            sequence  length_sequence\n",
       "0  AAAKPADKALQAQLPEMALPREAAPRLDGLAAVLPQIHPAEAGKPA...              149\n",
       "1  AAAPAVENKPVNPAKAKKEDRRNRDDEGQGRNAKGKGGKGGRDRNN...              163\n",
       "2  AACQDEDHTVPTLPSGNDPEINDPVVEFYDWEKNRTELLTSTDMVL...              376\n",
       "3  AACQGKPLPNTAMHSDAPTEWSFNFFTPKALPAVVTFAAILDVDGN...              204\n",
       "4  AACSSEDDSSPEVNPENAAITFELSAVNGLTDGIGTRMPVYSQEAT...              346"
      ]
     },
     "execution_count": 98,
     "metadata": {},
     "output_type": "execute_result"
    }
   ],
   "source": [
    "df_sequences_to_check.head(5)"
   ]
  },
  {
   "cell_type": "code",
   "execution_count": 100,
   "metadata": {},
   "outputs": [
    {
     "data": {
      "text/html": [
       "<div>\n",
       "<style scoped>\n",
       "    .dataframe tbody tr th:only-of-type {\n",
       "        vertical-align: middle;\n",
       "    }\n",
       "\n",
       "    .dataframe tbody tr th {\n",
       "        vertical-align: top;\n",
       "    }\n",
       "\n",
       "    .dataframe thead th {\n",
       "        text-align: right;\n",
       "    }\n",
       "</style>\n",
       "<table border=\"1\" class=\"dataframe\">\n",
       "  <thead>\n",
       "    <tr style=\"text-align: right;\">\n",
       "      <th></th>\n",
       "      <th>sequence</th>\n",
       "      <th>response</th>\n",
       "      <th>length_sequence</th>\n",
       "    </tr>\n",
       "  </thead>\n",
       "  <tbody>\n",
       "    <tr>\n",
       "      <th>0</th>\n",
       "      <td>AAAAAAMIVQRVVLNSRPGKNGNPVAENFRMEEVYLPDNINEGQVQ...</td>\n",
       "      <td>1</td>\n",
       "      <td>357</td>\n",
       "    </tr>\n",
       "    <tr>\n",
       "      <th>1</th>\n",
       "      <td>AAAAAAMTMMDMNFKYCHKIMKKHSKSFSYAFDLLPEDQRKAVWAI...</td>\n",
       "      <td>1</td>\n",
       "      <td>293</td>\n",
       "    </tr>\n",
       "    <tr>\n",
       "      <th>2</th>\n",
       "      <td>AAADLAVGQVVAQREIRLDAQAFAQFAALTGDAHPIHYDAGYVQRQ...</td>\n",
       "      <td>0</td>\n",
       "      <td>151</td>\n",
       "    </tr>\n",
       "    <tr>\n",
       "      <th>3</th>\n",
       "      <td>AAADSTSMSYSVTLTGPGPWGFRLQGGKDFNMPLTISRITPGSKAA...</td>\n",
       "      <td>1</td>\n",
       "      <td>734</td>\n",
       "    </tr>\n",
       "    <tr>\n",
       "      <th>4</th>\n",
       "      <td>AAAIAGAKLRKVSRMEDTSFPSGGNAIGVNSASSKTDTGRGNGPLP...</td>\n",
       "      <td>1</td>\n",
       "      <td>178</td>\n",
       "    </tr>\n",
       "  </tbody>\n",
       "</table>\n",
       "</div>"
      ],
      "text/plain": [
       "                                            sequence  response  \\\n",
       "0  AAAAAAMIVQRVVLNSRPGKNGNPVAENFRMEEVYLPDNINEGQVQ...         1   \n",
       "1  AAAAAAMTMMDMNFKYCHKIMKKHSKSFSYAFDLLPEDQRKAVWAI...         1   \n",
       "2  AAADLAVGQVVAQREIRLDAQAFAQFAALTGDAHPIHYDAGYVQRQ...         0   \n",
       "3  AAADSTSMSYSVTLTGPGPWGFRLQGGKDFNMPLTISRITPGSKAA...         1   \n",
       "4  AAAIAGAKLRKVSRMEDTSFPSGGNAIGVNSASSKTDTGRGNGPLP...         1   \n",
       "\n",
       "   length_sequence  \n",
       "0              357  \n",
       "1              293  \n",
       "2              151  \n",
       "3              734  \n",
       "4              178  "
      ]
     },
     "execution_count": 100,
     "metadata": {},
     "output_type": "execute_result"
    }
   ],
   "source": [
    "df_processed.head(5)"
   ]
  },
  {
   "cell_type": "code",
   "execution_count": 101,
   "metadata": {},
   "outputs": [
    {
     "data": {
      "text/plain": [
       "(151864, 3)"
      ]
     },
     "execution_count": 101,
     "metadata": {},
     "output_type": "execute_result"
    }
   ],
   "source": [
    "df_processed_filter = df_processed[df_processed[\"length_sequence\"]<1200]\n",
    "df_processed_filter.reset_index(inplace=True)\n",
    "df_processed_filter = df_processed_filter.drop(columns=[\"index\"])\n",
    "df_processed_filter.shape"
   ]
  },
  {
   "cell_type": "code",
   "execution_count": 102,
   "metadata": {},
   "outputs": [
    {
     "data": {
      "text/plain": [
       "(11450, 2)"
      ]
     },
     "execution_count": 102,
     "metadata": {},
     "output_type": "execute_result"
    }
   ],
   "source": [
    "df_processed_filter_to_check = df_sequences_to_check[df_sequences_to_check[\"length_sequence\"]<1200]\n",
    "df_processed_filter_to_check.reset_index(inplace=True)\n",
    "df_processed_filter_to_check = df_processed_filter_to_check.drop(columns=[\"index\"])\n",
    "df_processed_filter_to_check.shape"
   ]
  },
  {
   "cell_type": "code",
   "execution_count": 103,
   "metadata": {},
   "outputs": [],
   "source": [
    "df_processed_filter[\"is_canon_seq\"] = [check_canonical_residues(sequence) for sequence in df_processed_filter[\"sequence\"]]"
   ]
  },
  {
   "cell_type": "code",
   "execution_count": 104,
   "metadata": {},
   "outputs": [
    {
     "data": {
      "text/plain": [
       "True     151355\n",
       "False       509\n",
       "Name: is_canon_seq, dtype: int64"
      ]
     },
     "execution_count": 104,
     "metadata": {},
     "output_type": "execute_result"
    }
   ],
   "source": [
    "df_processed_filter[\"is_canon_seq\"].value_counts()"
   ]
  },
  {
   "cell_type": "code",
   "execution_count": 110,
   "metadata": {},
   "outputs": [],
   "source": [
    "df_processed_filter = df_processed_filter[df_processed_filter[\"is_canon_seq\"]==True]\n",
    "df_processed_filter.to_csv(\"../../datasets_for_training/binary_processed_dataset.csv\", index=False)"
   ]
  },
  {
   "cell_type": "code",
   "execution_count": 105,
   "metadata": {},
   "outputs": [],
   "source": [
    "df_processed_filter_to_check[\"is_canon_seq\"] = [check_canonical_residues(sequence) for sequence in df_processed_filter_to_check[\"sequence\"]]"
   ]
  },
  {
   "cell_type": "code",
   "execution_count": 106,
   "metadata": {},
   "outputs": [
    {
     "data": {
      "text/plain": [
       "True    11450\n",
       "Name: is_canon_seq, dtype: int64"
      ]
     },
     "execution_count": 106,
     "metadata": {},
     "output_type": "execute_result"
    }
   ],
   "source": [
    "df_processed_filter_to_check[\"is_canon_seq\"].value_counts()"
   ]
  },
  {
   "cell_type": "code",
   "execution_count": 107,
   "metadata": {},
   "outputs": [
    {
     "data": {
      "text/html": [
       "<div>\n",
       "<style scoped>\n",
       "    .dataframe tbody tr th:only-of-type {\n",
       "        vertical-align: middle;\n",
       "    }\n",
       "\n",
       "    .dataframe tbody tr th {\n",
       "        vertical-align: top;\n",
       "    }\n",
       "\n",
       "    .dataframe thead th {\n",
       "        text-align: right;\n",
       "    }\n",
       "</style>\n",
       "<table border=\"1\" class=\"dataframe\">\n",
       "  <thead>\n",
       "    <tr style=\"text-align: right;\">\n",
       "      <th></th>\n",
       "      <th>sequence</th>\n",
       "      <th>length_sequence</th>\n",
       "      <th>is_canon_seq</th>\n",
       "    </tr>\n",
       "  </thead>\n",
       "  <tbody>\n",
       "    <tr>\n",
       "      <th>0</th>\n",
       "      <td>AAAKPADKALQAQLPEMALPREAAPRLDGLAAVLPQIHPAEAGKPA...</td>\n",
       "      <td>149</td>\n",
       "      <td>True</td>\n",
       "    </tr>\n",
       "    <tr>\n",
       "      <th>1</th>\n",
       "      <td>AAAPAVENKPVNPAKAKKEDRRNRDDEGQGRNAKGKGGKGGRDRNN...</td>\n",
       "      <td>163</td>\n",
       "      <td>True</td>\n",
       "    </tr>\n",
       "    <tr>\n",
       "      <th>2</th>\n",
       "      <td>AACQDEDHTVPTLPSGNDPEINDPVVEFYDWEKNRTELLTSTDMVL...</td>\n",
       "      <td>376</td>\n",
       "      <td>True</td>\n",
       "    </tr>\n",
       "    <tr>\n",
       "      <th>3</th>\n",
       "      <td>AACQGKPLPNTAMHSDAPTEWSFNFFTPKALPAVVTFAAILDVDGN...</td>\n",
       "      <td>204</td>\n",
       "      <td>True</td>\n",
       "    </tr>\n",
       "    <tr>\n",
       "      <th>4</th>\n",
       "      <td>AACSSEDDSSPEVNPENAAITFELSAVNGLTDGIGTRMPVYSQEAT...</td>\n",
       "      <td>346</td>\n",
       "      <td>True</td>\n",
       "    </tr>\n",
       "  </tbody>\n",
       "</table>\n",
       "</div>"
      ],
      "text/plain": [
       "                                            sequence  length_sequence  \\\n",
       "0  AAAKPADKALQAQLPEMALPREAAPRLDGLAAVLPQIHPAEAGKPA...              149   \n",
       "1  AAAPAVENKPVNPAKAKKEDRRNRDDEGQGRNAKGKGGKGGRDRNN...              163   \n",
       "2  AACQDEDHTVPTLPSGNDPEINDPVVEFYDWEKNRTELLTSTDMVL...              376   \n",
       "3  AACQGKPLPNTAMHSDAPTEWSFNFFTPKALPAVVTFAAILDVDGN...              204   \n",
       "4  AACSSEDDSSPEVNPENAAITFELSAVNGLTDGIGTRMPVYSQEAT...              346   \n",
       "\n",
       "   is_canon_seq  \n",
       "0          True  \n",
       "1          True  \n",
       "2          True  \n",
       "3          True  \n",
       "4          True  "
      ]
     },
     "execution_count": 107,
     "metadata": {},
     "output_type": "execute_result"
    }
   ],
   "source": [
    "df_processed_filter_to_check.head(5)"
   ]
  },
  {
   "cell_type": "code",
   "execution_count": 108,
   "metadata": {},
   "outputs": [],
   "source": [
    "df_processed_filter_to_check.to_csv(\"../../datasets_for_training/sequences_with_multiple_categories.csv\", index=False)"
   ]
  }
 ],
 "metadata": {
  "kernelspec": {
   "display_name": "amp_class_models",
   "language": "python",
   "name": "python3"
  },
  "language_info": {
   "codemirror_mode": {
    "name": "ipython",
    "version": 3
   },
   "file_extension": ".py",
   "mimetype": "text/x-python",
   "name": "python",
   "nbconvert_exporter": "python",
   "pygments_lexer": "ipython3",
   "version": "3.9.19 (main, Mar 21 2024, 17:11:28) \n[GCC 11.2.0]"
  },
  "orig_nbformat": 4,
  "vscode": {
   "interpreter": {
    "hash": "7083de4b0402f53e7c3ee94a03dce799a26de2893c2a83f7f50740b3282fcfd1"
   }
  }
 },
 "nbformat": 4,
 "nbformat_minor": 2
}
