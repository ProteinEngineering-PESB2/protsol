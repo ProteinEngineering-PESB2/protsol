{
 "cells": [
  {
   "cell_type": "code",
   "execution_count": 2,
   "metadata": {},
   "outputs": [],
   "source": [
    "import pandas as pd"
   ]
  },
  {
   "cell_type": "code",
   "execution_count": 3,
   "metadata": {},
   "outputs": [],
   "source": [
    "canonical_residues = ['A','C', 'D', 'E', 'F', 'G', 'H', 'I', 'N', 'K', \n",
    "    'L', 'M', 'P', 'Q', 'R', 'S', 'T', 'V', 'W', 'Y']"
   ]
  },
  {
   "cell_type": "code",
   "execution_count": 4,
   "metadata": {},
   "outputs": [],
   "source": [
    "def check_canonical_residues(sequence):\n",
    "    is_canon=True\n",
    "\n",
    "    for residue in sequence:\n",
    "        if residue not in canonical_residues:\n",
    "            is_canon=False\n",
    "            break\n",
    "    \n",
    "    return is_canon"
   ]
  },
  {
   "cell_type": "code",
   "execution_count": 5,
   "metadata": {},
   "outputs": [
    {
     "data": {
      "text/html": [
       "<div>\n",
       "<style scoped>\n",
       "    .dataframe tbody tr th:only-of-type {\n",
       "        vertical-align: middle;\n",
       "    }\n",
       "\n",
       "    .dataframe tbody tr th {\n",
       "        vertical-align: top;\n",
       "    }\n",
       "\n",
       "    .dataframe thead th {\n",
       "        text-align: right;\n",
       "    }\n",
       "</style>\n",
       "<table border=\"1\" class=\"dataframe\">\n",
       "  <thead>\n",
       "    <tr style=\"text-align: right;\">\n",
       "      <th></th>\n",
       "      <th>gi</th>\n",
       "      <th>variation</th>\n",
       "      <th>sequence</th>\n",
       "      <th>response</th>\n",
       "    </tr>\n",
       "  </thead>\n",
       "  <tbody>\n",
       "    <tr>\n",
       "      <th>0</th>\n",
       "      <td>117391</td>\n",
       "      <td>M226K</td>\n",
       "      <td>MSEGVGTFRMVPEEEQELRAQLEQLTTKDHGPVFGPCSQLPRHTLQ...</td>\n",
       "      <td>-1</td>\n",
       "    </tr>\n",
       "    <tr>\n",
       "      <th>1</th>\n",
       "      <td>117391</td>\n",
       "      <td>R151Q</td>\n",
       "      <td>MSEGVGTFRMVPEEEQELRAQLEQLTTKDHGPVFGPCSQLPRHTLQ...</td>\n",
       "      <td>-1</td>\n",
       "    </tr>\n",
       "    <tr>\n",
       "      <th>2</th>\n",
       "      <td>117391</td>\n",
       "      <td>R234W</td>\n",
       "      <td>MSEGVGTFRMVPEEEQELRAQLEQLTTKDHGPVFGPCSQLPRHTLQ...</td>\n",
       "      <td>0</td>\n",
       "    </tr>\n",
       "    <tr>\n",
       "      <th>3</th>\n",
       "      <td>117544</td>\n",
       "      <td>P193F</td>\n",
       "      <td>MNPYQNKNEYETLNASQKKLNISNNYTRYPIENSPKQLLQSTNYKD...</td>\n",
       "      <td>-1</td>\n",
       "    </tr>\n",
       "    <tr>\n",
       "      <th>4</th>\n",
       "      <td>117544</td>\n",
       "      <td>P193G</td>\n",
       "      <td>MNPYQNKNEYETLNASQKKLNISNNYTRYPIENSPKQLLQSTNYKD...</td>\n",
       "      <td>-1</td>\n",
       "    </tr>\n",
       "    <tr>\n",
       "      <th>...</th>\n",
       "      <td>...</td>\n",
       "      <td>...</td>\n",
       "      <td>...</td>\n",
       "      <td>...</td>\n",
       "    </tr>\n",
       "    <tr>\n",
       "      <th>6369</th>\n",
       "      <td>82581658</td>\n",
       "      <td>N49E</td>\n",
       "      <td>MTLSIIVAHDKQRVIGYQNQLPWHLPNDLKHVKQLTTGNTLVMGRK...</td>\n",
       "      <td>1</td>\n",
       "    </tr>\n",
       "    <tr>\n",
       "      <th>6370</th>\n",
       "      <td>82581658</td>\n",
       "      <td>Q18D</td>\n",
       "      <td>MTLSIIVAHDKQRVIGYQNQLPWHLPNDLKHVKQLTTGNTLVMGRK...</td>\n",
       "      <td>0</td>\n",
       "    </tr>\n",
       "    <tr>\n",
       "      <th>6371</th>\n",
       "      <td>82581658</td>\n",
       "      <td>Q66D</td>\n",
       "      <td>MTLSIIVAHDKQRVIGYQNQLPWHLPNDLKHVKQLTTGNTLVMGRK...</td>\n",
       "      <td>1</td>\n",
       "    </tr>\n",
       "    <tr>\n",
       "      <th>6372</th>\n",
       "      <td>116666949</td>\n",
       "      <td>N439D</td>\n",
       "      <td>MSILNDYKRKTEGSVFWAQRARSVMPDGVTADTRAFDPHGLFISDA...</td>\n",
       "      <td>1</td>\n",
       "    </tr>\n",
       "    <tr>\n",
       "      <th>6373</th>\n",
       "      <td>116666949</td>\n",
       "      <td>Q444E</td>\n",
       "      <td>MSILNDYKRKTEGSVFWAQRARSVMPDGVTADTRAFDPHGLFISDA...</td>\n",
       "      <td>1</td>\n",
       "    </tr>\n",
       "  </tbody>\n",
       "</table>\n",
       "<p>6374 rows × 4 columns</p>\n",
       "</div>"
      ],
      "text/plain": [
       "             gi variation                                           sequence  \\\n",
       "0        117391     M226K  MSEGVGTFRMVPEEEQELRAQLEQLTTKDHGPVFGPCSQLPRHTLQ...   \n",
       "1        117391     R151Q  MSEGVGTFRMVPEEEQELRAQLEQLTTKDHGPVFGPCSQLPRHTLQ...   \n",
       "2        117391     R234W  MSEGVGTFRMVPEEEQELRAQLEQLTTKDHGPVFGPCSQLPRHTLQ...   \n",
       "3        117544     P193F  MNPYQNKNEYETLNASQKKLNISNNYTRYPIENSPKQLLQSTNYKD...   \n",
       "4        117544     P193G  MNPYQNKNEYETLNASQKKLNISNNYTRYPIENSPKQLLQSTNYKD...   \n",
       "...         ...       ...                                                ...   \n",
       "6369   82581658      N49E  MTLSIIVAHDKQRVIGYQNQLPWHLPNDLKHVKQLTTGNTLVMGRK...   \n",
       "6370   82581658      Q18D  MTLSIIVAHDKQRVIGYQNQLPWHLPNDLKHVKQLTTGNTLVMGRK...   \n",
       "6371   82581658      Q66D  MTLSIIVAHDKQRVIGYQNQLPWHLPNDLKHVKQLTTGNTLVMGRK...   \n",
       "6372  116666949     N439D  MSILNDYKRKTEGSVFWAQRARSVMPDGVTADTRAFDPHGLFISDA...   \n",
       "6373  116666949     Q444E  MSILNDYKRKTEGSVFWAQRARSVMPDGVTADTRAFDPHGLFISDA...   \n",
       "\n",
       "      response  \n",
       "0           -1  \n",
       "1           -1  \n",
       "2            0  \n",
       "3           -1  \n",
       "4           -1  \n",
       "...        ...  \n",
       "6369         1  \n",
       "6370         0  \n",
       "6371         1  \n",
       "6372         1  \n",
       "6373         1  \n",
       "\n",
       "[6374 rows x 4 columns]"
      ]
     },
     "execution_count": 5,
     "metadata": {},
     "output_type": "execute_result"
    }
   ],
   "source": [
    "df_data = pd.read_csv(\"../../process_data/mutations_categorical/PON-Sol2_export_data.csv\")\n",
    "df_data"
   ]
  },
  {
   "cell_type": "code",
   "execution_count": 6,
   "metadata": {},
   "outputs": [
    {
     "data": {
      "text/plain": [
       "-1    3148\n",
       " 0    2188\n",
       " 1    1038\n",
       "Name: response, dtype: int64"
      ]
     },
     "execution_count": 6,
     "metadata": {},
     "output_type": "execute_result"
    }
   ],
   "source": [
    "df_data[\"response\"].value_counts()"
   ]
  },
  {
   "cell_type": "code",
   "execution_count": 7,
   "metadata": {},
   "outputs": [],
   "source": [
    "length_sequences = []\n",
    "\n",
    "for index in df_data.index:\n",
    "    length_sequences.append(len(df_data[\"sequence\"][index]))\n",
    "\n",
    "df_data[\"length_sequence\"] = length_sequences"
   ]
  },
  {
   "cell_type": "code",
   "execution_count": 9,
   "metadata": {},
   "outputs": [],
   "source": [
    "df_data[\"is_canon_seq\"] = [check_canonical_residues(sequence) for sequence in df_data[\"sequence\"]]"
   ]
  },
  {
   "cell_type": "code",
   "execution_count": 10,
   "metadata": {},
   "outputs": [],
   "source": [
    "df_data_filter = df_data[(df_data[\"is_canon_seq\"] == True) & (df_data[\"length_sequence\"] <1024)]"
   ]
  },
  {
   "cell_type": "code",
   "execution_count": 12,
   "metadata": {},
   "outputs": [
    {
     "data": {
      "text/plain": [
       "-1    3148\n",
       " 0    2188\n",
       " 1    1038\n",
       "Name: response, dtype: int64"
      ]
     },
     "execution_count": 12,
     "metadata": {},
     "output_type": "execute_result"
    }
   ],
   "source": [
    "df_data[\"response\"].value_counts()"
   ]
  },
  {
   "cell_type": "code",
   "execution_count": 11,
   "metadata": {},
   "outputs": [
    {
     "data": {
      "text/plain": [
       "-1    3140\n",
       " 0    2168\n",
       " 1    1038\n",
       "Name: response, dtype: int64"
      ]
     },
     "execution_count": 11,
     "metadata": {},
     "output_type": "execute_result"
    }
   ],
   "source": [
    "df_data_filter[\"response\"].value_counts()"
   ]
  },
  {
   "cell_type": "code",
   "execution_count": 13,
   "metadata": {},
   "outputs": [],
   "source": [
    "df_data_filter.to_csv(\"../../datasets_for_training/mutational_categories.csv\", index=False)"
   ]
  }
 ],
 "metadata": {
  "kernelspec": {
   "display_name": "amp_class_models",
   "language": "python",
   "name": "python3"
  },
  "language_info": {
   "codemirror_mode": {
    "name": "ipython",
    "version": 3
   },
   "file_extension": ".py",
   "mimetype": "text/x-python",
   "name": "python",
   "nbconvert_exporter": "python",
   "pygments_lexer": "ipython3",
   "version": "3.9.19 (main, Mar 21 2024, 17:11:28) \n[GCC 11.2.0]"
  },
  "orig_nbformat": 4,
  "vscode": {
   "interpreter": {
    "hash": "7083de4b0402f53e7c3ee94a03dce799a26de2893c2a83f7f50740b3282fcfd1"
   }
  }
 },
 "nbformat": 4,
 "nbformat_minor": 2
}
