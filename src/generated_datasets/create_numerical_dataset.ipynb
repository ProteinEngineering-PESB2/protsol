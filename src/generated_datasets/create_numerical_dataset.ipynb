{
 "cells": [
  {
   "cell_type": "code",
   "execution_count": 1,
   "metadata": {},
   "outputs": [],
   "source": [
    "import pandas as pd"
   ]
  },
  {
   "cell_type": "code",
   "execution_count": 2,
   "metadata": {},
   "outputs": [],
   "source": [
    "canonical_residues = ['A','C', 'D', 'E', 'F', 'G', 'H', 'I', 'N', 'K', \n",
    "    'L', 'M', 'P', 'Q', 'R', 'S', 'T', 'V', 'W', 'Y']"
   ]
  },
  {
   "cell_type": "code",
   "execution_count": 3,
   "metadata": {},
   "outputs": [],
   "source": [
    "def check_canonical_residues(sequence):\n",
    "    is_canon=True\n",
    "\n",
    "    for residue in sequence:\n",
    "        if residue not in canonical_residues:\n",
    "            is_canon=False\n",
    "            break\n",
    "    \n",
    "    return is_canon"
   ]
  },
  {
   "cell_type": "code",
   "execution_count": 4,
   "metadata": {},
   "outputs": [
    {
     "data": {
      "text/html": [
       "<div>\n",
       "<style scoped>\n",
       "    .dataframe tbody tr th:only-of-type {\n",
       "        vertical-align: middle;\n",
       "    }\n",
       "\n",
       "    .dataframe tbody tr th {\n",
       "        vertical-align: top;\n",
       "    }\n",
       "\n",
       "    .dataframe thead th {\n",
       "        text-align: right;\n",
       "    }\n",
       "</style>\n",
       "<table border=\"1\" class=\"dataframe\">\n",
       "  <thead>\n",
       "    <tr style=\"text-align: right;\">\n",
       "      <th></th>\n",
       "      <th>id_seq</th>\n",
       "      <th>response</th>\n",
       "      <th>sequence</th>\n",
       "    </tr>\n",
       "  </thead>\n",
       "  <tbody>\n",
       "    <tr>\n",
       "      <th>0</th>\n",
       "      <td>aaeX</td>\n",
       "      <td>0.34</td>\n",
       "      <td>MSLFPVIVVFGLSFPPIFFELLLSLAIFWLVRRVLVPTGIYDFVWH...</td>\n",
       "    </tr>\n",
       "    <tr>\n",
       "      <th>1</th>\n",
       "      <td>aas</td>\n",
       "      <td>0.07</td>\n",
       "      <td>MLFSFFRNLCRVLYRVRVTGDTQALKGERVLITPNHVSFIDGILLG...</td>\n",
       "    </tr>\n",
       "    <tr>\n",
       "      <th>2</th>\n",
       "      <td>aat</td>\n",
       "      <td>0.08</td>\n",
       "      <td>MRLVQLSRHSIAFPSPEGALREPNGLLALGGDLSPARLLMAYQRGI...</td>\n",
       "    </tr>\n",
       "    <tr>\n",
       "      <th>3</th>\n",
       "      <td>abgA</td>\n",
       "      <td>0.31</td>\n",
       "      <td>MESLNQFVNSLAPKLSHWRRDFHHYAESGWVEFRTATLVAEELHQL...</td>\n",
       "    </tr>\n",
       "    <tr>\n",
       "      <th>4</th>\n",
       "      <td>abgB</td>\n",
       "      <td>0.49</td>\n",
       "      <td>MQEIYRFIDDAIEADRQRYTDIADQIWDHPETRFEEFWSAEHLASA...</td>\n",
       "    </tr>\n",
       "  </tbody>\n",
       "</table>\n",
       "</div>"
      ],
      "text/plain": [
       "  id_seq  response                                           sequence\n",
       "0   aaeX      0.34  MSLFPVIVVFGLSFPPIFFELLLSLAIFWLVRRVLVPTGIYDFVWH...\n",
       "1    aas      0.07  MLFSFFRNLCRVLYRVRVTGDTQALKGERVLITPNHVSFIDGILLG...\n",
       "2    aat      0.08  MRLVQLSRHSIAFPSPEGALREPNGLLALGGDLSPARLLMAYQRGI...\n",
       "3   abgA      0.31  MESLNQFVNSLAPKLSHWRRDFHHYAESGWVEFRTATLVAEELHQL...\n",
       "4   abgB      0.49  MQEIYRFIDDAIEADRQRYTDIADQIWDHPETRFEEFWSAEHLASA..."
      ]
     },
     "execution_count": 4,
     "metadata": {},
     "output_type": "execute_result"
    }
   ],
   "source": [
    "df_gatsol = pd.read_csv(\"../../process_data/numerical/GATSOL_export_data.csv\")\n",
    "df_gatsol.head(5)"
   ]
  },
  {
   "cell_type": "code",
   "execution_count": 5,
   "metadata": {},
   "outputs": [
    {
     "data": {
      "text/html": [
       "<div>\n",
       "<style scoped>\n",
       "    .dataframe tbody tr th:only-of-type {\n",
       "        vertical-align: middle;\n",
       "    }\n",
       "\n",
       "    .dataframe tbody tr th {\n",
       "        vertical-align: top;\n",
       "    }\n",
       "\n",
       "    .dataframe thead th {\n",
       "        text-align: right;\n",
       "    }\n",
       "</style>\n",
       "<table border=\"1\" class=\"dataframe\">\n",
       "  <thead>\n",
       "    <tr style=\"text-align: right;\">\n",
       "      <th></th>\n",
       "      <th>sequence</th>\n",
       "      <th>response</th>\n",
       "    </tr>\n",
       "  </thead>\n",
       "  <tbody>\n",
       "    <tr>\n",
       "      <th>0</th>\n",
       "      <td>MSEMLFFVITTIVKAVVILAVMASLAGLATYAERKVLAYMQRRVGP...</td>\n",
       "      <td>71</td>\n",
       "    </tr>\n",
       "    <tr>\n",
       "      <th>1</th>\n",
       "      <td>MSAAIDAVELSRELIRKPSVTPADEGAMDVVERTLAGLGFACRRMR...</td>\n",
       "      <td>21</td>\n",
       "    </tr>\n",
       "    <tr>\n",
       "      <th>2</th>\n",
       "      <td>MRMIQRERKREKEEGQLKERTVVNMADPDDNEAEATGLQQYSGETT...</td>\n",
       "      <td>100</td>\n",
       "    </tr>\n",
       "    <tr>\n",
       "      <th>3</th>\n",
       "      <td>MSENQDLQKSFLETVKFDDKGLVPAIVQDFETGKVLMMAWMNRQSL...</td>\n",
       "      <td>81</td>\n",
       "    </tr>\n",
       "    <tr>\n",
       "      <th>4</th>\n",
       "      <td>MSENLNREPELNIGYITQVIGPVIDAVFSAGQLPKIYNALEVKSKD...</td>\n",
       "      <td>100</td>\n",
       "    </tr>\n",
       "  </tbody>\n",
       "</table>\n",
       "</div>"
      ],
      "text/plain": [
       "                                            sequence  response\n",
       "0  MSEMLFFVITTIVKAVVILAVMASLAGLATYAERKVLAYMQRRVGP...        71\n",
       "1  MSAAIDAVELSRELIRKPSVTPADEGAMDVVERTLAGLGFACRRMR...        21\n",
       "2  MRMIQRERKREKEEGQLKERTVVNMADPDDNEAEATGLQQYSGETT...       100\n",
       "3  MSENQDLQKSFLETVKFDDKGLVPAIVQDFETGKVLMMAWMNRQSL...        81\n",
       "4  MSENLNREPELNIGYITQVIGPVIDAVFSAGQLPKIYNALEVKSKD...       100"
      ]
     },
     "execution_count": 5,
     "metadata": {},
     "output_type": "execute_result"
    }
   ],
   "source": [
    "df_protsol = pd.read_csv(\"../../process_data/numerical/prosol_export_data.csv\")\n",
    "df_protsol.head(5)"
   ]
  },
  {
   "cell_type": "code",
   "execution_count": 6,
   "metadata": {},
   "outputs": [],
   "source": [
    "df_gatsol[\"is_in_protsol\"] = df_gatsol[\"sequence\"].isin(df_protsol[\"sequence\"].tolist())"
   ]
  },
  {
   "cell_type": "code",
   "execution_count": 7,
   "metadata": {},
   "outputs": [
    {
     "data": {
      "text/plain": [
       "False    1581\n",
       "True     1206\n",
       "Name: is_in_protsol, dtype: int64"
      ]
     },
     "execution_count": 7,
     "metadata": {},
     "output_type": "execute_result"
    }
   ],
   "source": [
    "df_gatsol[\"is_in_protsol\"].value_counts()"
   ]
  },
  {
   "cell_type": "code",
   "execution_count": 8,
   "metadata": {},
   "outputs": [],
   "source": [
    "positive_gatsol = df_gatsol[df_gatsol[\"is_in_protsol\"]==True]\n",
    "positive_gatsol = positive_gatsol.reset_index()\n",
    "negative_gatsol = df_gatsol[df_gatsol[\"is_in_protsol\"]==False]\n",
    "negative_gatsol = negative_gatsol.reset_index()"
   ]
  },
  {
   "cell_type": "code",
   "execution_count": 9,
   "metadata": {},
   "outputs": [
    {
     "data": {
      "text/html": [
       "<div>\n",
       "<style scoped>\n",
       "    .dataframe tbody tr th:only-of-type {\n",
       "        vertical-align: middle;\n",
       "    }\n",
       "\n",
       "    .dataframe tbody tr th {\n",
       "        vertical-align: top;\n",
       "    }\n",
       "\n",
       "    .dataframe thead th {\n",
       "        text-align: right;\n",
       "    }\n",
       "</style>\n",
       "<table border=\"1\" class=\"dataframe\">\n",
       "  <thead>\n",
       "    <tr style=\"text-align: right;\">\n",
       "      <th></th>\n",
       "      <th>sequence</th>\n",
       "      <th>response</th>\n",
       "    </tr>\n",
       "  </thead>\n",
       "  <tbody>\n",
       "    <tr>\n",
       "      <th>183404</th>\n",
       "      <td>MLDKIVIANRGEIALRILRACKELGIKTVAVHSSADRDLKHVLLAD...</td>\n",
       "      <td>98</td>\n",
       "    </tr>\n",
       "  </tbody>\n",
       "</table>\n",
       "</div>"
      ],
      "text/plain": [
       "                                                 sequence  response\n",
       "183404  MLDKIVIANRGEIALRILRACKELGIKTVAVHSSADRDLKHVLLAD...        98"
      ]
     },
     "execution_count": 9,
     "metadata": {},
     "output_type": "execute_result"
    }
   ],
   "source": [
    "df_protsol[df_protsol[\"sequence\"] == positive_gatsol[\"sequence\"][5]]"
   ]
  },
  {
   "cell_type": "code",
   "execution_count": 10,
   "metadata": {},
   "outputs": [
    {
     "data": {
      "text/plain": [
       "index                                                            8\n",
       "id_seq                                                        accC\n",
       "response                                                       0.3\n",
       "sequence         MLDKIVIANRGEIALRILRACKELGIKTVAVHSSADRDLKHVLLAD...\n",
       "is_in_protsol                                                 True\n",
       "Name: 5, dtype: object"
      ]
     },
     "execution_count": 10,
     "metadata": {},
     "output_type": "execute_result"
    }
   ],
   "source": [
    "positive_gatsol.iloc[5]"
   ]
  },
  {
   "cell_type": "code",
   "execution_count": 11,
   "metadata": {},
   "outputs": [],
   "source": [
    "length_sequences = []\n",
    "\n",
    "for index in df_protsol.index:\n",
    "    length_sequences.append(len(df_protsol[\"sequence\"][index]))\n",
    "\n",
    "df_protsol[\"length_sequence\"] = length_sequences"
   ]
  },
  {
   "cell_type": "code",
   "execution_count": 12,
   "metadata": {},
   "outputs": [
    {
     "data": {
      "text/plain": [
       "(194508, 3)"
      ]
     },
     "execution_count": 12,
     "metadata": {},
     "output_type": "execute_result"
    }
   ],
   "source": [
    "df_processed_filter = df_protsol[df_protsol[\"length_sequence\"]<1022]\n",
    "df_processed_filter.reset_index(inplace=True)\n",
    "df_processed_filter = df_processed_filter.drop(columns=[\"index\"])\n",
    "df_processed_filter.shape"
   ]
  },
  {
   "cell_type": "code",
   "execution_count": 13,
   "metadata": {},
   "outputs": [],
   "source": [
    "df_processed_filter[\"is_canon_seq\"] = [check_canonical_residues(sequence) for sequence in df_processed_filter[\"sequence\"]]"
   ]
  },
  {
   "cell_type": "code",
   "execution_count": 14,
   "metadata": {},
   "outputs": [
    {
     "data": {
      "text/plain": [
       "True    194508\n",
       "Name: is_canon_seq, dtype: int64"
      ]
     },
     "execution_count": 14,
     "metadata": {},
     "output_type": "execute_result"
    }
   ],
   "source": [
    "df_processed_filter[\"is_canon_seq\"].value_counts()"
   ]
  },
  {
   "cell_type": "code",
   "execution_count": 15,
   "metadata": {},
   "outputs": [],
   "source": [
    "df_processed_filter.to_csv(\"../../datasets_for_training/numerical_dataset_with_responses.csv\", index=False)"
   ]
  }
 ],
 "metadata": {
  "kernelspec": {
   "display_name": "amp_class_models",
   "language": "python",
   "name": "python3"
  },
  "language_info": {
   "codemirror_mode": {
    "name": "ipython",
    "version": 3
   },
   "file_extension": ".py",
   "mimetype": "text/x-python",
   "name": "python",
   "nbconvert_exporter": "python",
   "pygments_lexer": "ipython3",
   "version": "3.9.19"
  },
  "orig_nbformat": 4,
  "vscode": {
   "interpreter": {
    "hash": "7083de4b0402f53e7c3ee94a03dce799a26de2893c2a83f7f50740b3282fcfd1"
   }
  }
 },
 "nbformat": 4,
 "nbformat_minor": 2
}
