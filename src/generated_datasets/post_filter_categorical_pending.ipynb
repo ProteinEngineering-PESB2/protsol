{
 "cells": [
  {
   "cell_type": "code",
   "execution_count": 1,
   "metadata": {},
   "outputs": [],
   "source": [
    "import pandas as pd"
   ]
  },
  {
   "cell_type": "code",
   "execution_count": 2,
   "metadata": {},
   "outputs": [
    {
     "data": {
      "text/html": [
       "<div>\n",
       "<style scoped>\n",
       "    .dataframe tbody tr th:only-of-type {\n",
       "        vertical-align: middle;\n",
       "    }\n",
       "\n",
       "    .dataframe tbody tr th {\n",
       "        vertical-align: top;\n",
       "    }\n",
       "\n",
       "    .dataframe thead th {\n",
       "        text-align: right;\n",
       "    }\n",
       "</style>\n",
       "<table border=\"1\" class=\"dataframe\">\n",
       "  <thead>\n",
       "    <tr style=\"text-align: right;\">\n",
       "      <th></th>\n",
       "      <th>sequence</th>\n",
       "      <th>response</th>\n",
       "      <th>length_sequence</th>\n",
       "      <th>is_canon_seq</th>\n",
       "    </tr>\n",
       "  </thead>\n",
       "  <tbody>\n",
       "    <tr>\n",
       "      <th>0</th>\n",
       "      <td>AAAAAAMIVQRVVLNSRPGKNGNPVAENFRMEEVYLPDNINEGQVQ...</td>\n",
       "      <td>1</td>\n",
       "      <td>357</td>\n",
       "      <td>True</td>\n",
       "    </tr>\n",
       "    <tr>\n",
       "      <th>1</th>\n",
       "      <td>AAAAAAMTMMDMNFKYCHKIMKKHSKSFSYAFDLLPEDQRKAVWAI...</td>\n",
       "      <td>1</td>\n",
       "      <td>293</td>\n",
       "      <td>True</td>\n",
       "    </tr>\n",
       "    <tr>\n",
       "      <th>2</th>\n",
       "      <td>AAADLAVGQVVAQREIRLDAQAFAQFAALTGDAHPIHYDAGYVQRQ...</td>\n",
       "      <td>0</td>\n",
       "      <td>151</td>\n",
       "      <td>True</td>\n",
       "    </tr>\n",
       "    <tr>\n",
       "      <th>3</th>\n",
       "      <td>AAADSTSMSYSVTLTGPGPWGFRLQGGKDFNMPLTISRITPGSKAA...</td>\n",
       "      <td>1</td>\n",
       "      <td>734</td>\n",
       "      <td>True</td>\n",
       "    </tr>\n",
       "    <tr>\n",
       "      <th>4</th>\n",
       "      <td>AAAIAGAKLRKVSRMEDTSFPSGGNAIGVNSASSKTDTGRGNGPLP...</td>\n",
       "      <td>1</td>\n",
       "      <td>178</td>\n",
       "      <td>True</td>\n",
       "    </tr>\n",
       "    <tr>\n",
       "      <th>...</th>\n",
       "      <td>...</td>\n",
       "      <td>...</td>\n",
       "      <td>...</td>\n",
       "      <td>...</td>\n",
       "    </tr>\n",
       "    <tr>\n",
       "      <th>150710</th>\n",
       "      <td>YYTPGSLIDLLLDSALDPVIEDAVRDKLPEDAIAALKGLKVIDPAC...</td>\n",
       "      <td>1</td>\n",
       "      <td>132</td>\n",
       "      <td>True</td>\n",
       "    </tr>\n",
       "    <tr>\n",
       "      <th>150711</th>\n",
       "      <td>YYTPSPIVSFIVSSLNEMLKKEFKLNHGLANKEKVTVLDFATGTGT...</td>\n",
       "      <td>0</td>\n",
       "      <td>334</td>\n",
       "      <td>True</td>\n",
       "    </tr>\n",
       "    <tr>\n",
       "      <th>150712</th>\n",
       "      <td>YYWSYGLAKSTQNSSYPGVICEYVFGEDDGELQNITFANATQVKSI...</td>\n",
       "      <td>0</td>\n",
       "      <td>65</td>\n",
       "      <td>True</td>\n",
       "    </tr>\n",
       "    <tr>\n",
       "      <th>150713</th>\n",
       "      <td>YYYGGEAYYTQITTSGEKKDEKTNSGEAMTIYYYQQPAFNKNGEEK...</td>\n",
       "      <td>1</td>\n",
       "      <td>94</td>\n",
       "      <td>True</td>\n",
       "    </tr>\n",
       "    <tr>\n",
       "      <th>150714</th>\n",
       "      <td>YYYYPTNNNGYQTYYYYPNNNNNNGQNTYYYDNGNNGNTGTTYYYY...</td>\n",
       "      <td>0</td>\n",
       "      <td>67</td>\n",
       "      <td>True</td>\n",
       "    </tr>\n",
       "  </tbody>\n",
       "</table>\n",
       "<p>150715 rows × 4 columns</p>\n",
       "</div>"
      ],
      "text/plain": [
       "                                                 sequence  response  \\\n",
       "0       AAAAAAMIVQRVVLNSRPGKNGNPVAENFRMEEVYLPDNINEGQVQ...         1   \n",
       "1       AAAAAAMTMMDMNFKYCHKIMKKHSKSFSYAFDLLPEDQRKAVWAI...         1   \n",
       "2       AAADLAVGQVVAQREIRLDAQAFAQFAALTGDAHPIHYDAGYVQRQ...         0   \n",
       "3       AAADSTSMSYSVTLTGPGPWGFRLQGGKDFNMPLTISRITPGSKAA...         1   \n",
       "4       AAAIAGAKLRKVSRMEDTSFPSGGNAIGVNSASSKTDTGRGNGPLP...         1   \n",
       "...                                                   ...       ...   \n",
       "150710  YYTPGSLIDLLLDSALDPVIEDAVRDKLPEDAIAALKGLKVIDPAC...         1   \n",
       "150711  YYTPSPIVSFIVSSLNEMLKKEFKLNHGLANKEKVTVLDFATGTGT...         0   \n",
       "150712  YYWSYGLAKSTQNSSYPGVICEYVFGEDDGELQNITFANATQVKSI...         0   \n",
       "150713  YYYGGEAYYTQITTSGEKKDEKTNSGEAMTIYYYQQPAFNKNGEEK...         1   \n",
       "150714  YYYYPTNNNGYQTYYYYPNNNNNNGQNTYYYDNGNNGNTGTTYYYY...         0   \n",
       "\n",
       "        length_sequence  is_canon_seq  \n",
       "0                   357          True  \n",
       "1                   293          True  \n",
       "2                   151          True  \n",
       "3                   734          True  \n",
       "4                   178          True  \n",
       "...                 ...           ...  \n",
       "150710              132          True  \n",
       "150711              334          True  \n",
       "150712               65          True  \n",
       "150713               94          True  \n",
       "150714               67          True  \n",
       "\n",
       "[150715 rows x 4 columns]"
      ]
     },
     "execution_count": 2,
     "metadata": {},
     "output_type": "execute_result"
    }
   ],
   "source": [
    "df_data = pd.read_csv(\"../../datasets_for_training/binary_processed_dataset.csv\")\n",
    "df_data"
   ]
  },
  {
   "cell_type": "code",
   "execution_count": 3,
   "metadata": {},
   "outputs": [],
   "source": [
    "df_data_filter = df_data[(df_data[\"is_canon_seq\"] == True) & (df_data[\"length_sequence\"] <1024)]"
   ]
  },
  {
   "cell_type": "code",
   "execution_count": 4,
   "metadata": {},
   "outputs": [
    {
     "data": {
      "text/plain": [
       "(150715, 4)"
      ]
     },
     "execution_count": 4,
     "metadata": {},
     "output_type": "execute_result"
    }
   ],
   "source": [
    "df_data.shape"
   ]
  }
 ],
 "metadata": {
  "kernelspec": {
   "display_name": "amp_class_models",
   "language": "python",
   "name": "python3"
  },
  "language_info": {
   "codemirror_mode": {
    "name": "ipython",
    "version": 3
   },
   "file_extension": ".py",
   "mimetype": "text/x-python",
   "name": "python",
   "nbconvert_exporter": "python",
   "pygments_lexer": "ipython3",
   "version": "3.9.19"
  },
  "orig_nbformat": 4,
  "vscode": {
   "interpreter": {
    "hash": "7083de4b0402f53e7c3ee94a03dce799a26de2893c2a83f7f50740b3282fcfd1"
   }
  }
 },
 "nbformat": 4,
 "nbformat_minor": 2
}
