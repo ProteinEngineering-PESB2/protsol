{
 "cells": [
  {
   "cell_type": "code",
   "execution_count": 1,
   "metadata": {},
   "outputs": [],
   "source": [
    "import pandas as pd\n",
    "from Bio import SeqIO"
   ]
  },
  {
   "cell_type": "code",
   "execution_count": 2,
   "metadata": {},
   "outputs": [
    {
     "data": {
      "text/html": [
       "<div>\n",
       "<style scoped>\n",
       "    .dataframe tbody tr th:only-of-type {\n",
       "        vertical-align: middle;\n",
       "    }\n",
       "\n",
       "    .dataframe tbody tr th {\n",
       "        vertical-align: top;\n",
       "    }\n",
       "\n",
       "    .dataframe thead th {\n",
       "        text-align: right;\n",
       "    }\n",
       "</style>\n",
       "<table border=\"1\" class=\"dataframe\">\n",
       "  <thead>\n",
       "    <tr style=\"text-align: right;\">\n",
       "      <th></th>\n",
       "      <th>id</th>\n",
       "      <th>exp</th>\n",
       "      <th>sol</th>\n",
       "    </tr>\n",
       "  </thead>\n",
       "  <tbody>\n",
       "    <tr>\n",
       "      <th>0</th>\n",
       "      <td>AR3338B</td>\n",
       "      <td>5.0</td>\n",
       "      <td>0</td>\n",
       "    </tr>\n",
       "    <tr>\n",
       "      <th>1</th>\n",
       "      <td>AR3347A</td>\n",
       "      <td>0.0</td>\n",
       "      <td>0</td>\n",
       "    </tr>\n",
       "    <tr>\n",
       "      <th>2</th>\n",
       "      <td>AR3353C</td>\n",
       "      <td>4.0</td>\n",
       "      <td>3</td>\n",
       "    </tr>\n",
       "    <tr>\n",
       "      <th>3</th>\n",
       "      <td>AR3354C</td>\n",
       "      <td>0.0</td>\n",
       "      <td>0</td>\n",
       "    </tr>\n",
       "    <tr>\n",
       "      <th>4</th>\n",
       "      <td>AR3358A</td>\n",
       "      <td>5.0</td>\n",
       "      <td>2</td>\n",
       "    </tr>\n",
       "    <tr>\n",
       "      <th>...</th>\n",
       "      <td>...</td>\n",
       "      <td>...</td>\n",
       "      <td>...</td>\n",
       "    </tr>\n",
       "    <tr>\n",
       "      <th>9698</th>\n",
       "      <td>ZR94</td>\n",
       "      <td>0.0</td>\n",
       "      <td>3</td>\n",
       "    </tr>\n",
       "    <tr>\n",
       "      <th>9699</th>\n",
       "      <td>ZR95</td>\n",
       "      <td>4.0</td>\n",
       "      <td>0</td>\n",
       "    </tr>\n",
       "    <tr>\n",
       "      <th>9700</th>\n",
       "      <td>ZR96</td>\n",
       "      <td>5.0</td>\n",
       "      <td>1</td>\n",
       "    </tr>\n",
       "    <tr>\n",
       "      <th>9701</th>\n",
       "      <td>ZR97</td>\n",
       "      <td>2.0</td>\n",
       "      <td>1</td>\n",
       "    </tr>\n",
       "    <tr>\n",
       "      <th>9702</th>\n",
       "      <td>ZR98</td>\n",
       "      <td>3.0</td>\n",
       "      <td>5</td>\n",
       "    </tr>\n",
       "  </tbody>\n",
       "</table>\n",
       "<p>9703 rows × 3 columns</p>\n",
       "</div>"
      ],
      "text/plain": [
       "           id  exp  sol\n",
       "0     AR3338B  5.0    0\n",
       "1     AR3347A  0.0    0\n",
       "2     AR3353C  4.0    3\n",
       "3     AR3354C  0.0    0\n",
       "4     AR3358A  5.0    2\n",
       "...       ...  ...  ...\n",
       "9698     ZR94  0.0    3\n",
       "9699     ZR95  4.0    0\n",
       "9700     ZR96  5.0    1\n",
       "9701     ZR97  2.0    1\n",
       "9702     ZR98  3.0    5\n",
       "\n",
       "[9703 rows x 3 columns]"
      ]
     },
     "execution_count": 2,
     "metadata": {},
     "output_type": "execute_result"
    }
   ],
   "source": [
    "df_nesg = pd.read_csv(\"../../raw_data/DSRESsol/nesg.csv\")\n",
    "df_nesg"
   ]
  },
  {
   "cell_type": "code",
   "execution_count": 4,
   "metadata": {},
   "outputs": [],
   "source": [
    "matrix_data = []\n",
    "\n",
    "for record in SeqIO.parse(\"../../raw_data/DSRESsol/nesg.fasta\", \"fasta\"):\n",
    "    id_seq = record.id\n",
    "    sequence = str(record.seq)\n",
    "    \n",
    "    row = [\n",
    "        id_seq,\n",
    "        sequence    \n",
    "    ]\n",
    "\n",
    "    matrix_data.append(row)\n",
    "\n",
    "fasta_nesg = pd.DataFrame(data=matrix_data, columns=[\"id_seq\", \"sequence\"])"
   ]
  },
  {
   "cell_type": "code",
   "execution_count": 5,
   "metadata": {},
   "outputs": [
    {
     "data": {
      "text/html": [
       "<div>\n",
       "<style scoped>\n",
       "    .dataframe tbody tr th:only-of-type {\n",
       "        vertical-align: middle;\n",
       "    }\n",
       "\n",
       "    .dataframe tbody tr th {\n",
       "        vertical-align: top;\n",
       "    }\n",
       "\n",
       "    .dataframe thead th {\n",
       "        text-align: right;\n",
       "    }\n",
       "</style>\n",
       "<table border=\"1\" class=\"dataframe\">\n",
       "  <thead>\n",
       "    <tr style=\"text-align: right;\">\n",
       "      <th></th>\n",
       "      <th>id_seq</th>\n",
       "      <th>sequence</th>\n",
       "    </tr>\n",
       "  </thead>\n",
       "  <tbody>\n",
       "    <tr>\n",
       "      <th>0</th>\n",
       "      <td>AR3338B</td>\n",
       "      <td>MSVHKLTDLRDNSTNWKINVKILSIWNHPPNSHGEITTMILHDDKN...</td>\n",
       "    </tr>\n",
       "    <tr>\n",
       "      <th>1</th>\n",
       "      <td>AR3347A</td>\n",
       "      <td>IPFDYIVEKTVSTGVLVDVIGALLEVGNLTEDYRGLKLPFKIMDQY...</td>\n",
       "    </tr>\n",
       "    <tr>\n",
       "      <th>2</th>\n",
       "      <td>AR3353C</td>\n",
       "      <td>MEEERRDDYKFLRIQDAFKALHLHVNLIGVIVELGFSNGSDCSCTL...</td>\n",
       "    </tr>\n",
       "    <tr>\n",
       "      <th>3</th>\n",
       "      <td>AR3354C</td>\n",
       "      <td>ALLRRFIGQKVRTVIQVTGSEIGSVVGKSTDDLQIVVRGSSPPSPL...</td>\n",
       "    </tr>\n",
       "    <tr>\n",
       "      <th>4</th>\n",
       "      <td>AR3358A</td>\n",
       "      <td>MAASFAFLRDVRPYKTSWRVQVKVLHSWCQYTNMTGETLKLVLVNS...</td>\n",
       "    </tr>\n",
       "  </tbody>\n",
       "</table>\n",
       "</div>"
      ],
      "text/plain": [
       "    id_seq                                           sequence\n",
       "0  AR3338B  MSVHKLTDLRDNSTNWKINVKILSIWNHPPNSHGEITTMILHDDKN...\n",
       "1  AR3347A  IPFDYIVEKTVSTGVLVDVIGALLEVGNLTEDYRGLKLPFKIMDQY...\n",
       "2  AR3353C  MEEERRDDYKFLRIQDAFKALHLHVNLIGVIVELGFSNGSDCSCTL...\n",
       "3  AR3354C  ALLRRFIGQKVRTVIQVTGSEIGSVVGKSTDDLQIVVRGSSPPSPL...\n",
       "4  AR3358A  MAASFAFLRDVRPYKTSWRVQVKVLHSWCQYTNMTGETLKLVLVNS..."
      ]
     },
     "execution_count": 5,
     "metadata": {},
     "output_type": "execute_result"
    }
   ],
   "source": [
    "fasta_nesg.head(5)"
   ]
  },
  {
   "cell_type": "code",
   "execution_count": 6,
   "metadata": {},
   "outputs": [
    {
     "data": {
      "text/html": [
       "<div>\n",
       "<style scoped>\n",
       "    .dataframe tbody tr th:only-of-type {\n",
       "        vertical-align: middle;\n",
       "    }\n",
       "\n",
       "    .dataframe tbody tr th {\n",
       "        vertical-align: top;\n",
       "    }\n",
       "\n",
       "    .dataframe thead th {\n",
       "        text-align: right;\n",
       "    }\n",
       "</style>\n",
       "<table border=\"1\" class=\"dataframe\">\n",
       "  <thead>\n",
       "    <tr style=\"text-align: right;\">\n",
       "      <th></th>\n",
       "      <th>id_seq</th>\n",
       "      <th>sequence</th>\n",
       "      <th>id</th>\n",
       "      <th>exp</th>\n",
       "      <th>sol</th>\n",
       "    </tr>\n",
       "  </thead>\n",
       "  <tbody>\n",
       "    <tr>\n",
       "      <th>0</th>\n",
       "      <td>AR3338B</td>\n",
       "      <td>MSVHKLTDLRDNSTNWKINVKILSIWNHPPNSHGEITTMILHDDKN...</td>\n",
       "      <td>AR3338B</td>\n",
       "      <td>5.0</td>\n",
       "      <td>0</td>\n",
       "    </tr>\n",
       "    <tr>\n",
       "      <th>1</th>\n",
       "      <td>AR3347A</td>\n",
       "      <td>IPFDYIVEKTVSTGVLVDVIGALLEVGNLTEDYRGLKLPFKIMDQY...</td>\n",
       "      <td>AR3347A</td>\n",
       "      <td>0.0</td>\n",
       "      <td>0</td>\n",
       "    </tr>\n",
       "    <tr>\n",
       "      <th>2</th>\n",
       "      <td>AR3353C</td>\n",
       "      <td>MEEERRDDYKFLRIQDAFKALHLHVNLIGVIVELGFSNGSDCSCTL...</td>\n",
       "      <td>AR3353C</td>\n",
       "      <td>4.0</td>\n",
       "      <td>3</td>\n",
       "    </tr>\n",
       "    <tr>\n",
       "      <th>3</th>\n",
       "      <td>AR3354C</td>\n",
       "      <td>ALLRRFIGQKVRTVIQVTGSEIGSVVGKSTDDLQIVVRGSSPPSPL...</td>\n",
       "      <td>AR3354C</td>\n",
       "      <td>0.0</td>\n",
       "      <td>0</td>\n",
       "    </tr>\n",
       "    <tr>\n",
       "      <th>4</th>\n",
       "      <td>AR3358A</td>\n",
       "      <td>MAASFAFLRDVRPYKTSWRVQVKVLHSWCQYTNMTGETLKLVLVNS...</td>\n",
       "      <td>AR3358A</td>\n",
       "      <td>5.0</td>\n",
       "      <td>2</td>\n",
       "    </tr>\n",
       "  </tbody>\n",
       "</table>\n",
       "</div>"
      ],
      "text/plain": [
       "    id_seq                                           sequence       id  exp  \\\n",
       "0  AR3338B  MSVHKLTDLRDNSTNWKINVKILSIWNHPPNSHGEITTMILHDDKN...  AR3338B  5.0   \n",
       "1  AR3347A  IPFDYIVEKTVSTGVLVDVIGALLEVGNLTEDYRGLKLPFKIMDQY...  AR3347A  0.0   \n",
       "2  AR3353C  MEEERRDDYKFLRIQDAFKALHLHVNLIGVIVELGFSNGSDCSCTL...  AR3353C  4.0   \n",
       "3  AR3354C  ALLRRFIGQKVRTVIQVTGSEIGSVVGKSTDDLQIVVRGSSPPSPL...  AR3354C  0.0   \n",
       "4  AR3358A  MAASFAFLRDVRPYKTSWRVQVKVLHSWCQYTNMTGETLKLVLVNS...  AR3358A  5.0   \n",
       "\n",
       "   sol  \n",
       "0    0  \n",
       "1    0  \n",
       "2    3  \n",
       "3    0  \n",
       "4    2  "
      ]
     },
     "execution_count": 6,
     "metadata": {},
     "output_type": "execute_result"
    }
   ],
   "source": [
    "fasta_nesg = fasta_nesg.merge(right=df_nesg, left_on=\"id_seq\", right_on=\"id\")\n",
    "fasta_nesg.head(5)"
   ]
  },
  {
   "cell_type": "code",
   "execution_count": 7,
   "metadata": {},
   "outputs": [
    {
     "data": {
      "text/plain": [
       "0    3806\n",
       "5    2407\n",
       "3    1183\n",
       "4     926\n",
       "2     857\n",
       "1     524\n",
       "Name: sol, dtype: int64"
      ]
     },
     "execution_count": 7,
     "metadata": {},
     "output_type": "execute_result"
    }
   ],
   "source": [
    "fasta_nesg[\"sol\"].value_counts()"
   ]
  },
  {
   "cell_type": "code",
   "execution_count": 13,
   "metadata": {},
   "outputs": [
    {
     "data": {
      "text/plain": [
       "0    5187\n",
       "1    4516\n",
       "Name: sol, dtype: int64"
      ]
     },
     "execution_count": 13,
     "metadata": {},
     "output_type": "execute_result"
    }
   ],
   "source": [
    "fasta_nesg[\"sol\"] = fasta_nesg[\"sol\"].replace({1:0, 2:0, 3:1, 4:1, 5:1})\n",
    "fasta_nesg[\"sol\"].value_counts()"
   ]
  },
  {
   "cell_type": "code",
   "execution_count": 14,
   "metadata": {},
   "outputs": [
    {
     "data": {
      "text/html": [
       "<div>\n",
       "<style scoped>\n",
       "    .dataframe tbody tr th:only-of-type {\n",
       "        vertical-align: middle;\n",
       "    }\n",
       "\n",
       "    .dataframe tbody tr th {\n",
       "        vertical-align: top;\n",
       "    }\n",
       "\n",
       "    .dataframe thead th {\n",
       "        text-align: right;\n",
       "    }\n",
       "</style>\n",
       "<table border=\"1\" class=\"dataframe\">\n",
       "  <thead>\n",
       "    <tr style=\"text-align: right;\">\n",
       "      <th></th>\n",
       "      <th>id_seq</th>\n",
       "      <th>sequence</th>\n",
       "      <th>id</th>\n",
       "      <th>exp</th>\n",
       "      <th>sol</th>\n",
       "    </tr>\n",
       "  </thead>\n",
       "  <tbody>\n",
       "    <tr>\n",
       "      <th>0</th>\n",
       "      <td>AR3338B</td>\n",
       "      <td>MSVHKLTDLRDNSTNWKINVKILSIWNHPPNSHGEITTMILHDDKN...</td>\n",
       "      <td>AR3338B</td>\n",
       "      <td>5.0</td>\n",
       "      <td>0</td>\n",
       "    </tr>\n",
       "    <tr>\n",
       "      <th>1</th>\n",
       "      <td>AR3347A</td>\n",
       "      <td>IPFDYIVEKTVSTGVLVDVIGALLEVGNLTEDYRGLKLPFKIMDQY...</td>\n",
       "      <td>AR3347A</td>\n",
       "      <td>0.0</td>\n",
       "      <td>0</td>\n",
       "    </tr>\n",
       "    <tr>\n",
       "      <th>2</th>\n",
       "      <td>AR3353C</td>\n",
       "      <td>MEEERRDDYKFLRIQDAFKALHLHVNLIGVIVELGFSNGSDCSCTL...</td>\n",
       "      <td>AR3353C</td>\n",
       "      <td>4.0</td>\n",
       "      <td>1</td>\n",
       "    </tr>\n",
       "    <tr>\n",
       "      <th>3</th>\n",
       "      <td>AR3354C</td>\n",
       "      <td>ALLRRFIGQKVRTVIQVTGSEIGSVVGKSTDDLQIVVRGSSPPSPL...</td>\n",
       "      <td>AR3354C</td>\n",
       "      <td>0.0</td>\n",
       "      <td>0</td>\n",
       "    </tr>\n",
       "    <tr>\n",
       "      <th>4</th>\n",
       "      <td>AR3358A</td>\n",
       "      <td>MAASFAFLRDVRPYKTSWRVQVKVLHSWCQYTNMTGETLKLVLVNS...</td>\n",
       "      <td>AR3358A</td>\n",
       "      <td>5.0</td>\n",
       "      <td>0</td>\n",
       "    </tr>\n",
       "  </tbody>\n",
       "</table>\n",
       "</div>"
      ],
      "text/plain": [
       "    id_seq                                           sequence       id  exp  \\\n",
       "0  AR3338B  MSVHKLTDLRDNSTNWKINVKILSIWNHPPNSHGEITTMILHDDKN...  AR3338B  5.0   \n",
       "1  AR3347A  IPFDYIVEKTVSTGVLVDVIGALLEVGNLTEDYRGLKLPFKIMDQY...  AR3347A  0.0   \n",
       "2  AR3353C  MEEERRDDYKFLRIQDAFKALHLHVNLIGVIVELGFSNGSDCSCTL...  AR3353C  4.0   \n",
       "3  AR3354C  ALLRRFIGQKVRTVIQVTGSEIGSVVGKSTDDLQIVVRGSSPPSPL...  AR3354C  0.0   \n",
       "4  AR3358A  MAASFAFLRDVRPYKTSWRVQVKVLHSWCQYTNMTGETLKLVLVNS...  AR3358A  5.0   \n",
       "\n",
       "   sol  \n",
       "0    0  \n",
       "1    0  \n",
       "2    1  \n",
       "3    0  \n",
       "4    0  "
      ]
     },
     "execution_count": 14,
     "metadata": {},
     "output_type": "execute_result"
    }
   ],
   "source": [
    "fasta_nesg.head(5)"
   ]
  },
  {
   "cell_type": "code",
   "execution_count": 15,
   "metadata": {},
   "outputs": [],
   "source": [
    "fasta_nesg = fasta_nesg[[\"sequence\", \"sol\"]]\n",
    "fasta_nesg.columns = [\"sequence\", \"response\"]"
   ]
  },
  {
   "cell_type": "code",
   "execution_count": 9,
   "metadata": {},
   "outputs": [
    {
     "data": {
      "text/html": [
       "<div>\n",
       "<style scoped>\n",
       "    .dataframe tbody tr th:only-of-type {\n",
       "        vertical-align: middle;\n",
       "    }\n",
       "\n",
       "    .dataframe tbody tr th {\n",
       "        vertical-align: top;\n",
       "    }\n",
       "\n",
       "    .dataframe thead th {\n",
       "        text-align: right;\n",
       "    }\n",
       "</style>\n",
       "<table border=\"1\" class=\"dataframe\">\n",
       "  <thead>\n",
       "    <tr style=\"text-align: right;\">\n",
       "      <th></th>\n",
       "      <th>Seq</th>\n",
       "      <th>solubility</th>\n",
       "    </tr>\n",
       "  </thead>\n",
       "  <tbody>\n",
       "    <tr>\n",
       "      <th>0</th>\n",
       "      <td>MSVHKLTDLRDNSTNWKINVKILSIWNHPPNSHGEITTMILHDDKN...</td>\n",
       "      <td>0</td>\n",
       "    </tr>\n",
       "    <tr>\n",
       "      <th>1</th>\n",
       "      <td>IPFDYIVEKTVSTGVLVDVIGALLEVGNLTEDYRGLKLPFKIMDQY...</td>\n",
       "      <td>0</td>\n",
       "    </tr>\n",
       "    <tr>\n",
       "      <th>2</th>\n",
       "      <td>MEEERRDDYKFLRIQDAFKALHLHVNLIGVIVELGFSNGSDCSCTL...</td>\n",
       "      <td>1</td>\n",
       "    </tr>\n",
       "    <tr>\n",
       "      <th>3</th>\n",
       "      <td>ALLRRFIGQKVRTVIQVTGSEIGSVVGKSTDDLQIVVRGSSPPSPL...</td>\n",
       "      <td>0</td>\n",
       "    </tr>\n",
       "    <tr>\n",
       "      <th>4</th>\n",
       "      <td>MAASFAFLRDVRPYKTSWRVQVKVLHSWCQYTNMTGETLKLVLVNS...</td>\n",
       "      <td>1</td>\n",
       "    </tr>\n",
       "  </tbody>\n",
       "</table>\n",
       "</div>"
      ],
      "text/plain": [
       "                                                 Seq  solubility\n",
       "0  MSVHKLTDLRDNSTNWKINVKILSIWNHPPNSHGEITTMILHDDKN...           0\n",
       "1  IPFDYIVEKTVSTGVLVDVIGALLEVGNLTEDYRGLKLPFKIMDQY...           0\n",
       "2  MEEERRDDYKFLRIQDAFKALHLHVNLIGVIVELGFSNGSDCSCTL...           1\n",
       "3  ALLRRFIGQKVRTVIQVTGSEIGSVVGKSTDDLQIVVRGSSPPSPL...           0\n",
       "4  MAASFAFLRDVRPYKTSWRVQVKVLHSWCQYTNMTGETLKLVLVNS...           1"
      ]
     },
     "execution_count": 9,
     "metadata": {},
     "output_type": "execute_result"
    }
   ],
   "source": [
    "df_nsseq = pd.read_csv(\"../../raw_data/DSRESsol/nsseq.csv\")\n",
    "df_nsseq.head(5)"
   ]
  },
  {
   "cell_type": "code",
   "execution_count": 10,
   "metadata": {},
   "outputs": [
    {
     "data": {
      "text/plain": [
       "0    1865\n",
       "1    1864\n",
       "Name: solubility, dtype: int64"
      ]
     },
     "execution_count": 10,
     "metadata": {},
     "output_type": "execute_result"
    }
   ],
   "source": [
    "df_nsseq[\"solubility\"].value_counts()"
   ]
  },
  {
   "cell_type": "code",
   "execution_count": 16,
   "metadata": {},
   "outputs": [],
   "source": [
    "df_nsseq.columns = [\"sequence\", \"response\"]"
   ]
  },
  {
   "cell_type": "code",
   "execution_count": 17,
   "metadata": {},
   "outputs": [
    {
     "data": {
      "text/html": [
       "<div>\n",
       "<style scoped>\n",
       "    .dataframe tbody tr th:only-of-type {\n",
       "        vertical-align: middle;\n",
       "    }\n",
       "\n",
       "    .dataframe tbody tr th {\n",
       "        vertical-align: top;\n",
       "    }\n",
       "\n",
       "    .dataframe thead th {\n",
       "        text-align: right;\n",
       "    }\n",
       "</style>\n",
       "<table border=\"1\" class=\"dataframe\">\n",
       "  <thead>\n",
       "    <tr style=\"text-align: right;\">\n",
       "      <th></th>\n",
       "      <th>sequence</th>\n",
       "      <th>response</th>\n",
       "    </tr>\n",
       "  </thead>\n",
       "  <tbody>\n",
       "    <tr>\n",
       "      <th>0</th>\n",
       "      <td>MSVHKLTDLRDNSTNWKINVKILSIWNHPPNSHGEITTMILHDDKN...</td>\n",
       "      <td>0</td>\n",
       "    </tr>\n",
       "    <tr>\n",
       "      <th>1</th>\n",
       "      <td>IPFDYIVEKTVSTGVLVDVIGALLEVGNLTEDYRGLKLPFKIMDQY...</td>\n",
       "      <td>0</td>\n",
       "    </tr>\n",
       "    <tr>\n",
       "      <th>2</th>\n",
       "      <td>MEEERRDDYKFLRIQDAFKALHLHVNLIGVIVELGFSNGSDCSCTL...</td>\n",
       "      <td>1</td>\n",
       "    </tr>\n",
       "    <tr>\n",
       "      <th>3</th>\n",
       "      <td>ALLRRFIGQKVRTVIQVTGSEIGSVVGKSTDDLQIVVRGSSPPSPL...</td>\n",
       "      <td>0</td>\n",
       "    </tr>\n",
       "    <tr>\n",
       "      <th>4</th>\n",
       "      <td>MAASFAFLRDVRPYKTSWRVQVKVLHSWCQYTNMTGETLKLVLVNS...</td>\n",
       "      <td>0</td>\n",
       "    </tr>\n",
       "  </tbody>\n",
       "</table>\n",
       "</div>"
      ],
      "text/plain": [
       "                                            sequence  response\n",
       "0  MSVHKLTDLRDNSTNWKINVKILSIWNHPPNSHGEITTMILHDDKN...         0\n",
       "1  IPFDYIVEKTVSTGVLVDVIGALLEVGNLTEDYRGLKLPFKIMDQY...         0\n",
       "2  MEEERRDDYKFLRIQDAFKALHLHVNLIGVIVELGFSNGSDCSCTL...         1\n",
       "3  ALLRRFIGQKVRTVIQVTGSEIGSVVGKSTDDLQIVVRGSSPPSPL...         0\n",
       "4  MAASFAFLRDVRPYKTSWRVQVKVLHSWCQYTNMTGETLKLVLVNS...         0"
      ]
     },
     "execution_count": 17,
     "metadata": {},
     "output_type": "execute_result"
    }
   ],
   "source": [
    "df_concat = pd.concat([fasta_nesg, df_nsseq], axis=0)\n",
    "df_concat.head(5)"
   ]
  },
  {
   "cell_type": "code",
   "execution_count": 18,
   "metadata": {},
   "outputs": [
    {
     "data": {
      "text/plain": [
       "0    7052\n",
       "1    6380\n",
       "Name: response, dtype: int64"
      ]
     },
     "execution_count": 18,
     "metadata": {},
     "output_type": "execute_result"
    }
   ],
   "source": [
    "df_concat[\"response\"].value_counts()"
   ]
  },
  {
   "cell_type": "code",
   "execution_count": 35,
   "metadata": {},
   "outputs": [
    {
     "data": {
      "text/plain": [
       "(13432, 3)"
      ]
     },
     "execution_count": 35,
     "metadata": {},
     "output_type": "execute_result"
    }
   ],
   "source": [
    "df_concat.shape"
   ]
  },
  {
   "cell_type": "code",
   "execution_count": 19,
   "metadata": {},
   "outputs": [],
   "source": [
    "df_concat[\"id_seq\"] = [i for i in range(len(df_concat))]"
   ]
  },
  {
   "cell_type": "code",
   "execution_count": 20,
   "metadata": {},
   "outputs": [],
   "source": [
    "checking_duplicated = df_concat.groupby(by=[\"sequence\", \"response\"]).count().sort_values(by=\"id_seq\", ascending=False)"
   ]
  },
  {
   "cell_type": "code",
   "execution_count": 21,
   "metadata": {},
   "outputs": [],
   "source": [
    "sequences_no_duplicated = checking_duplicated[checking_duplicated[\"id_seq\"] == 1]\n",
    "sequences_duplicated = checking_duplicated[checking_duplicated[\"id_seq\"] > 1]"
   ]
  },
  {
   "cell_type": "code",
   "execution_count": 22,
   "metadata": {},
   "outputs": [
    {
     "data": {
      "text/plain": [
       "(3329, 1)"
      ]
     },
     "execution_count": 22,
     "metadata": {},
     "output_type": "execute_result"
    }
   ],
   "source": [
    "sequences_duplicated.shape"
   ]
  },
  {
   "cell_type": "code",
   "execution_count": 23,
   "metadata": {},
   "outputs": [
    {
     "data": {
      "text/html": [
       "<div>\n",
       "<style scoped>\n",
       "    .dataframe tbody tr th:only-of-type {\n",
       "        vertical-align: middle;\n",
       "    }\n",
       "\n",
       "    .dataframe tbody tr th {\n",
       "        vertical-align: top;\n",
       "    }\n",
       "\n",
       "    .dataframe thead th {\n",
       "        text-align: right;\n",
       "    }\n",
       "</style>\n",
       "<table border=\"1\" class=\"dataframe\">\n",
       "  <thead>\n",
       "    <tr style=\"text-align: right;\">\n",
       "      <th></th>\n",
       "      <th></th>\n",
       "      <th>id_seq</th>\n",
       "    </tr>\n",
       "    <tr>\n",
       "      <th>sequence</th>\n",
       "      <th>response</th>\n",
       "      <th></th>\n",
       "    </tr>\n",
       "  </thead>\n",
       "  <tbody>\n",
       "    <tr>\n",
       "      <th>MIVLILVFRLVIGEQMIDVLGPEKRRRRTTQEKIAIVQQSFEPGMTVSLVARQHGVAASQLFLWRKQYQEGSLTAVAAGEQVVPASELAAAMKQIKELQRLLGKKTMENELLKEAVEYGRAKKWIAHAPLLPGDGE</th>\n",
       "      <th>0</th>\n",
       "      <td>8</td>\n",
       "    </tr>\n",
       "    <tr>\n",
       "      <th>MIDVLGPEKRRRRTTQEKIAIVQQSFEPGMTVSLVARQHGVAASQLFLWRKQYQEGSLTAVAAGEQVVPASELAAAMKQIKELQRLLGKKTMENELLKEAVEYGRAKKWIAHAPLLPGDGE</th>\n",
       "      <th>1</th>\n",
       "      <td>6</td>\n",
       "    </tr>\n",
       "    <tr>\n",
       "      <th>MPVIKVRENEPFDVALRRFKRSCEKAGVLAEVRRREFYEKPTTERKRAKASAVKRHAKKLARENARRTRLY</th>\n",
       "      <th>1</th>\n",
       "      <td>6</td>\n",
       "    </tr>\n",
       "    <tr>\n",
       "      <th>MNTLELSARVLECGAMRHTPAGLPALELLLVHESEVVEAGHPRRVELTISAVALGDLALLLADTPLGTEMQVQGFLAPARKDSVKVKLHLQQARRIAGSMGRDPLVG</th>\n",
       "      <th>1</th>\n",
       "      <td>6</td>\n",
       "    </tr>\n",
       "    <tr>\n",
       "      <th>MFIEERDYRIKPGKAGLFVATYEAHGLALQKKYLGRFLGYFMSEIGELNHVVAWWAYDSLDERDAARSRMLADPQWQAYLERVTDLIDLQQTRILKPVSFSPIQ</th>\n",
       "      <th>1</th>\n",
       "      <td>6</td>\n",
       "    </tr>\n",
       "    <tr>\n",
       "      <th>...</th>\n",
       "      <th>...</th>\n",
       "      <td>...</td>\n",
       "    </tr>\n",
       "    <tr>\n",
       "      <th>EDATVRSGVFATNRGGALVRIEGLRGFIPGSHISTRKPKEELVGEELPLKFLEVDEERNRLVLSHRRA</th>\n",
       "      <th>0</th>\n",
       "      <td>2</td>\n",
       "    </tr>\n",
       "    <tr>\n",
       "      <th>GHCFGCGEEQSHGLHLAARAGQGVSITAEFTVQPAHQGAPGLAHGGVLATALDETLGSLNWLLRTIAVTGRLETDFVRPVPVGTVLYLEAEVTAVAGRKIYSTATGRIGGPEGPVAVRADALFVEVKVDHFTDNGRQEEIRAAMNDPDQLRRARAFEVNP</th>\n",
       "      <th>0</th>\n",
       "      <td>2</td>\n",
       "    </tr>\n",
       "    <tr>\n",
       "      <th>EDRRRLALIICNTKFDHLPARNGAHYDIVGMKRLLQGLGYTVVDEKNLTARDMESVLRAFAARPEHKSSDSTFLVLMSHGILEGICGTAHKKKKPDVLLYDTIFQIFNNRNCLSLKDKPKVIIVQACRGEKHGELWVRDSPASLAVISSQSSENLEADSVCKIHEEKDFIAFCSSTPHNVSWRDRTRGSIFITELITCFQKYSCCCHLMEIFRKVQKSFEVPQAKAQMPTIERATLTRDFYLFPGN</th>\n",
       "      <th>1</th>\n",
       "      <td>2</td>\n",
       "    </tr>\n",
       "    <tr>\n",
       "      <th>MFKLKINNFQLGFKLVQWPVTNHLLKHFYVFPINNKGGLAIKRIISLALFKKRLNKDKINNCHVWEEELPDGSYDMGFNGNFNHMEKRKSGYVTQKQFSEFKDANNQRLIKIETTLAIQGEQINKLTQTVEKQGEQINQLVQVVLLQGASKLENFKWSKKHKDKSLMPAWIVWKIFWWKV</th>\n",
       "      <th>0</th>\n",
       "      <td>2</td>\n",
       "    </tr>\n",
       "    <tr>\n",
       "      <th>AAAMANNLQKGSAGPMRLYVGSLHFNITEDMLRGIFEPFGRIESIQLMMDSETGRSKGYGFITFSDSECAKKALEQLNGFELAGRPMKVGHVTERTD</th>\n",
       "      <th>1</th>\n",
       "      <td>2</td>\n",
       "    </tr>\n",
       "  </tbody>\n",
       "</table>\n",
       "<p>3329 rows × 1 columns</p>\n",
       "</div>"
      ],
      "text/plain": [
       "                                                             id_seq\n",
       "sequence                                           response        \n",
       "MIVLILVFRLVIGEQMIDVLGPEKRRRRTTQEKIAIVQQSFEPGMTV... 0              8\n",
       "MIDVLGPEKRRRRTTQEKIAIVQQSFEPGMTVSLVARQHGVAASQLF... 1              6\n",
       "MPVIKVRENEPFDVALRRFKRSCEKAGVLAEVRRREFYEKPTTERKR... 1              6\n",
       "MNTLELSARVLECGAMRHTPAGLPALELLLVHESEVVEAGHPRRVEL... 1              6\n",
       "MFIEERDYRIKPGKAGLFVATYEAHGLALQKKYLGRFLGYFMSEIGE... 1              6\n",
       "...                                                             ...\n",
       "EDATVRSGVFATNRGGALVRIEGLRGFIPGSHISTRKPKEELVGEEL... 0              2\n",
       "GHCFGCGEEQSHGLHLAARAGQGVSITAEFTVQPAHQGAPGLAHGGV... 0              2\n",
       "EDRRRLALIICNTKFDHLPARNGAHYDIVGMKRLLQGLGYTVVDEKN... 1              2\n",
       "MFKLKINNFQLGFKLVQWPVTNHLLKHFYVFPINNKGGLAIKRIISL... 0              2\n",
       "AAAMANNLQKGSAGPMRLYVGSLHFNITEDMLRGIFEPFGRIESIQL... 1              2\n",
       "\n",
       "[3329 rows x 1 columns]"
      ]
     },
     "execution_count": 23,
     "metadata": {},
     "output_type": "execute_result"
    }
   ],
   "source": [
    "sequences_duplicated"
   ]
  },
  {
   "cell_type": "code",
   "execution_count": 25,
   "metadata": {},
   "outputs": [],
   "source": [
    "duplicated_values = []\n",
    "\n",
    "for index in sequences_duplicated.index:\n",
    "    duplicated_values.append(index[0])\n",
    "\n",
    "df_duplicated = pd.DataFrame()\n",
    "df_duplicated[\"sequence\"] = duplicated_values\n",
    "df_duplicated[\"index\"] = [i for i in range(len(df_duplicated))]"
   ]
  },
  {
   "cell_type": "code",
   "execution_count": 26,
   "metadata": {},
   "outputs": [],
   "source": [
    "grouped_seq_duplicated = df_duplicated.groupby(by=\"sequence\").count()"
   ]
  },
  {
   "cell_type": "code",
   "execution_count": 32,
   "metadata": {},
   "outputs": [
    {
     "data": {
      "text/plain": [
       "['MIDVLGPEKRRRRTTQEKIAIVQQSFEPGMTVSLVARQHGVAASQLFLWRKQYQEGSLTAVAAGEQVVPASELAAAMKQIKELQRLLGKKTMENELLKEAVEYGRAKKWIAHAPLLPGDGE',\n",
       " 'MITDEEIRKVIAPLLLSGAKMLDKHCPKCGSPLFEKDGRVFCPVCEYREKQKKEMVKGVEERLMEKLTQLANSLPDDIDELEKHLRVMEKIIEVLEKYKKLEGRR',\n",
       " 'MPDMSQLKELPFSTLQFYATAPYPCSYLPGRQARSQVAAPGHLINAGTYSQLVEQGFRRSGLFTYRPHCDNCHACVPVRVDAARFEPNRTQRRAWRSHQALRAFVAELAWSPEHYDLYTRYQQGRHPGGGMDEDSRTQYAQFLLTTRVNTRLVEFRAPQGQLAMISIIDVLDDGLSSVYTFYDPDMAGSLGTYSILWQIEQCRTLDLPWLYLGYWIADSRKMAYKANFRPLQMHVDGAWRETPP',\n",
       " 'MRFSIVSLLHRLFLAGALALAAGAQAAPDPMGPPDKFVLDAATQTIDILKSDQNVKAGNLAHINQVVDAHILPFVNFQKTTRLAAGRYWRQATDTQKAELAKAFRGTLVRTYSGALTKVDNGTTIKLLPFRGDPNADDVVVRSLISQSNSQPVQVDYRLEKTPQGWRIYDMNVEGIWLIENYRNQFAQQINQNGIDGLIQALNQRNQ',\n",
       " 'MTAVVNIAAYKFVSIANPADLREPMLEQAGQRQLKGTVLLAPEGINLFLAGAADAIEGFLRWLRADARFADLQAKYSESARMPFRKLLVKVKREIIRMDHPAIRPEAGRAPAVDAATLRRWLAQGRDDQGRELVMLDTRNAFEVEVGTFRGALDWRIERFTQFPQAVRDNQAALAGKTVVSFCTGGIRCEKAAIYMAEAGIEHVYQLEGGILKYFEETDGAGFDGACFVFDERVALDAALAPQA']"
      ]
     },
     "execution_count": 32,
     "metadata": {},
     "output_type": "execute_result"
    }
   ],
   "source": [
    "ignored_sequences = grouped_seq_duplicated[grouped_seq_duplicated[\"index\"]>1]\n",
    "sequences_to_ignore = []\n",
    "\n",
    "for index in ignored_sequences.index:\n",
    "    sequences_to_ignore.append(index)\n",
    "\n",
    "sequences_to_ignore\n",
    "    "
   ]
  },
  {
   "cell_type": "code",
   "execution_count": 30,
   "metadata": {},
   "outputs": [
    {
     "data": {
      "text/html": [
       "<div>\n",
       "<style scoped>\n",
       "    .dataframe tbody tr th:only-of-type {\n",
       "        vertical-align: middle;\n",
       "    }\n",
       "\n",
       "    .dataframe tbody tr th {\n",
       "        vertical-align: top;\n",
       "    }\n",
       "\n",
       "    .dataframe thead th {\n",
       "        text-align: right;\n",
       "    }\n",
       "</style>\n",
       "<table border=\"1\" class=\"dataframe\">\n",
       "  <thead>\n",
       "    <tr style=\"text-align: right;\">\n",
       "      <th></th>\n",
       "      <th>sequence</th>\n",
       "      <th>response</th>\n",
       "      <th>id_seq</th>\n",
       "    </tr>\n",
       "  </thead>\n",
       "  <tbody>\n",
       "    <tr>\n",
       "      <th>2539</th>\n",
       "      <td>MIDVLGPEKRRRRTTQEKIAIVQQSFEPGMTVSLVARQHGVAASQL...</td>\n",
       "      <td>0</td>\n",
       "      <td>2539</td>\n",
       "    </tr>\n",
       "    <tr>\n",
       "      <th>2540</th>\n",
       "      <td>MIDVLGPEKRRRRTTQEKIAIVQQSFEPGMTVSLVARQHGVAASQL...</td>\n",
       "      <td>0</td>\n",
       "      <td>2540</td>\n",
       "    </tr>\n",
       "    <tr>\n",
       "      <th>2545</th>\n",
       "      <td>MIDVLGPEKRRRRTTQEKIAIVQQSFEPGMTVSLVARQHGVAASQL...</td>\n",
       "      <td>0</td>\n",
       "      <td>2545</td>\n",
       "    </tr>\n",
       "    <tr>\n",
       "      <th>2547</th>\n",
       "      <td>MIDVLGPEKRRRRTTQEKIAIVQQSFEPGMTVSLVARQHGVAASQL...</td>\n",
       "      <td>0</td>\n",
       "      <td>2547</td>\n",
       "    </tr>\n",
       "    <tr>\n",
       "      <th>2549</th>\n",
       "      <td>MIDVLGPEKRRRRTTQEKIAIVQQSFEPGMTVSLVARQHGVAASQL...</td>\n",
       "      <td>0</td>\n",
       "      <td>2549</td>\n",
       "    </tr>\n",
       "    <tr>\n",
       "      <th>2551</th>\n",
       "      <td>MIDVLGPEKRRRRTTQEKIAIVQQSFEPGMTVSLVARQHGVAASQL...</td>\n",
       "      <td>0</td>\n",
       "      <td>2551</td>\n",
       "    </tr>\n",
       "    <tr>\n",
       "      <th>1298</th>\n",
       "      <td>MIDVLGPEKRRRRTTQEKIAIVQQSFEPGMTVSLVARQHGVAASQL...</td>\n",
       "      <td>1</td>\n",
       "      <td>11001</td>\n",
       "    </tr>\n",
       "    <tr>\n",
       "      <th>1299</th>\n",
       "      <td>MIDVLGPEKRRRRTTQEKIAIVQQSFEPGMTVSLVARQHGVAASQL...</td>\n",
       "      <td>1</td>\n",
       "      <td>11002</td>\n",
       "    </tr>\n",
       "    <tr>\n",
       "      <th>1304</th>\n",
       "      <td>MIDVLGPEKRRRRTTQEKIAIVQQSFEPGMTVSLVARQHGVAASQL...</td>\n",
       "      <td>1</td>\n",
       "      <td>11007</td>\n",
       "    </tr>\n",
       "    <tr>\n",
       "      <th>1306</th>\n",
       "      <td>MIDVLGPEKRRRRTTQEKIAIVQQSFEPGMTVSLVARQHGVAASQL...</td>\n",
       "      <td>1</td>\n",
       "      <td>11009</td>\n",
       "    </tr>\n",
       "    <tr>\n",
       "      <th>1308</th>\n",
       "      <td>MIDVLGPEKRRRRTTQEKIAIVQQSFEPGMTVSLVARQHGVAASQL...</td>\n",
       "      <td>1</td>\n",
       "      <td>11011</td>\n",
       "    </tr>\n",
       "    <tr>\n",
       "      <th>1310</th>\n",
       "      <td>MIDVLGPEKRRRRTTQEKIAIVQQSFEPGMTVSLVARQHGVAASQL...</td>\n",
       "      <td>1</td>\n",
       "      <td>11013</td>\n",
       "    </tr>\n",
       "  </tbody>\n",
       "</table>\n",
       "</div>"
      ],
      "text/plain": [
       "                                               sequence  response  id_seq\n",
       "2539  MIDVLGPEKRRRRTTQEKIAIVQQSFEPGMTVSLVARQHGVAASQL...         0    2539\n",
       "2540  MIDVLGPEKRRRRTTQEKIAIVQQSFEPGMTVSLVARQHGVAASQL...         0    2540\n",
       "2545  MIDVLGPEKRRRRTTQEKIAIVQQSFEPGMTVSLVARQHGVAASQL...         0    2545\n",
       "2547  MIDVLGPEKRRRRTTQEKIAIVQQSFEPGMTVSLVARQHGVAASQL...         0    2547\n",
       "2549  MIDVLGPEKRRRRTTQEKIAIVQQSFEPGMTVSLVARQHGVAASQL...         0    2549\n",
       "2551  MIDVLGPEKRRRRTTQEKIAIVQQSFEPGMTVSLVARQHGVAASQL...         0    2551\n",
       "1298  MIDVLGPEKRRRRTTQEKIAIVQQSFEPGMTVSLVARQHGVAASQL...         1   11001\n",
       "1299  MIDVLGPEKRRRRTTQEKIAIVQQSFEPGMTVSLVARQHGVAASQL...         1   11002\n",
       "1304  MIDVLGPEKRRRRTTQEKIAIVQQSFEPGMTVSLVARQHGVAASQL...         1   11007\n",
       "1306  MIDVLGPEKRRRRTTQEKIAIVQQSFEPGMTVSLVARQHGVAASQL...         1   11009\n",
       "1308  MIDVLGPEKRRRRTTQEKIAIVQQSFEPGMTVSLVARQHGVAASQL...         1   11011\n",
       "1310  MIDVLGPEKRRRRTTQEKIAIVQQSFEPGMTVSLVARQHGVAASQL...         1   11013"
      ]
     },
     "execution_count": 30,
     "metadata": {},
     "output_type": "execute_result"
    }
   ],
   "source": [
    "df_concat[df_concat[\"sequence\"] == \"MIDVLGPEKRRRRTTQEKIAIVQQSFEPGMTVSLVARQHGVAASQLFLWRKQYQEGSLTAVAAGEQVVPASELAAAMKQIKELQRLLGKKTMENELLKEAVEYGRAKKWIAHAPLLPGDGE\"]"
   ]
  },
  {
   "cell_type": "code",
   "execution_count": 33,
   "metadata": {},
   "outputs": [],
   "source": [
    "matrix_data_sequences = []\n",
    "\n",
    "for index in sequences_no_duplicated.index:\n",
    "    row = [\n",
    "        index[0],\n",
    "        index[1]\n",
    "    ]\n",
    "    matrix_data_sequences.append(row)\n",
    "\n",
    "for index in sequences_duplicated.index:\n",
    "\n",
    "    if index[0] not in sequences_to_ignore:\n",
    "        row = [\n",
    "            index[0],\n",
    "            index[1]\n",
    "        ]\n",
    "        matrix_data_sequences.append(row)\n",
    "\n",
    "df_to_export = pd.DataFrame(data=matrix_data_sequences, columns=[\"sequence\", \"response\"])"
   ]
  },
  {
   "cell_type": "code",
   "execution_count": 34,
   "metadata": {},
   "outputs": [
    {
     "data": {
      "text/plain": [
       "(9941, 2)"
      ]
     },
     "execution_count": 34,
     "metadata": {},
     "output_type": "execute_result"
    }
   ],
   "source": [
    "df_to_export.shape"
   ]
  },
  {
   "cell_type": "code",
   "execution_count": 36,
   "metadata": {},
   "outputs": [
    {
     "data": {
      "text/plain": [
       "0    5104\n",
       "1    4837\n",
       "Name: response, dtype: int64"
      ]
     },
     "execution_count": 36,
     "metadata": {},
     "output_type": "execute_result"
    }
   ],
   "source": [
    "df_to_export[\"response\"].value_counts()"
   ]
  },
  {
   "cell_type": "code",
   "execution_count": 37,
   "metadata": {},
   "outputs": [],
   "source": [
    "df_to_export.to_csv(\"../../process_data/DSRESsol_export_data.csv\", index=False)"
   ]
  }
 ],
 "metadata": {
  "kernelspec": {
   "display_name": "amp_class_models",
   "language": "python",
   "name": "python3"
  },
  "language_info": {
   "codemirror_mode": {
    "name": "ipython",
    "version": 3
   },
   "file_extension": ".py",
   "mimetype": "text/x-python",
   "name": "python",
   "nbconvert_exporter": "python",
   "pygments_lexer": "ipython3",
   "version": "3.9.19"
  },
  "orig_nbformat": 4,
  "vscode": {
   "interpreter": {
    "hash": "7083de4b0402f53e7c3ee94a03dce799a26de2893c2a83f7f50740b3282fcfd1"
   }
  }
 },
 "nbformat": 4,
 "nbformat_minor": 2
}
