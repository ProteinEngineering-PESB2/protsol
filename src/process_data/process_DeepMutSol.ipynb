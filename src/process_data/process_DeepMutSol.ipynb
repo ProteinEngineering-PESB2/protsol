{
 "cells": [
  {
   "cell_type": "code",
   "execution_count": 1,
   "metadata": {},
   "outputs": [],
   "source": [
    "import pandas as pd"
   ]
  },
  {
   "cell_type": "code",
   "execution_count": 41,
   "metadata": {},
   "outputs": [],
   "source": [
    "def make_mutation(sequence, mutation):\n",
    "    wild_residue = mutation[0]\n",
    "    mutation_residue = mutation[-1]\n",
    "    position = int(mutation[1:-1])\n",
    "       \n",
    "    sequence = [residue for residue in sequence]\n",
    "    if sequence[position-1] == wild_residue:\n",
    "        sequence[position-1] = mutation_residue\n",
    "        sequence = \"\".join(map(str, sequence))\n",
    "        return True, sequence\n",
    "    elif sequence[position-1] == mutation_residue:\n",
    "        sequence[position-1] = wild_residue\n",
    "        sequence = \"\".join(map(str, sequence))\n",
    "        return True, sequence\n",
    "    else:\n",
    "        return False, []"
   ]
  },
  {
   "cell_type": "code",
   "execution_count": 22,
   "metadata": {},
   "outputs": [],
   "source": [
    "def produce_df_sequences(df_mutations, df_sequences):\n",
    "    matrix_data = []\n",
    "    matrix_data_error = []\n",
    "\n",
    "    for index in df_mutations.index:\n",
    "        variation = df_mutations[\"variation\"][index]\n",
    "        gi = df_mutations[\"gi\"][index]\n",
    "        response = df_mutations[\"solubility\"][index]\n",
    "        \n",
    "        filter_data = df_sequences[df_sequences[\"gi\"] == gi]\n",
    "        if len(filter_data)>0:\n",
    "            filter_data.reset_index(inplace=True)\n",
    "            sequence = filter_data[\"seq\"][0]\n",
    "            response_check_seq = make_mutation(sequence, variation)\n",
    "            if response_check_seq[0]:\n",
    "                row = [\n",
    "                    gi,\n",
    "                    variation,\n",
    "                    sequence,\n",
    "                    response\n",
    "                ]\n",
    "                matrix_data.append(row)\n",
    "            else:\n",
    "                matrix_data_error.append([gi, variation, \"Not Found mutation\"])\n",
    "        else:\n",
    "            matrix_data_error.append([gi, variation, \"Not Found gi\"])\n",
    "\n",
    "    df_process_sequences = pd.DataFrame(data=matrix_data, columns=[\"gi\", \"variation\", \"sequence\", \"response\"])\n",
    "    df_process_sequences_error = pd.DataFrame(data=matrix_data_error, columns=[\"gi\", \"variation\", \"type_error\"])\n",
    "\n",
    "    return df_process_sequences, df_process_sequences_error"
   ]
  },
  {
   "cell_type": "code",
   "execution_count": 12,
   "metadata": {},
   "outputs": [
    {
     "data": {
      "text/html": [
       "<div>\n",
       "<style scoped>\n",
       "    .dataframe tbody tr th:only-of-type {\n",
       "        vertical-align: middle;\n",
       "    }\n",
       "\n",
       "    .dataframe tbody tr th {\n",
       "        vertical-align: top;\n",
       "    }\n",
       "\n",
       "    .dataframe thead th {\n",
       "        text-align: right;\n",
       "    }\n",
       "</style>\n",
       "<table border=\"1\" class=\"dataframe\">\n",
       "  <thead>\n",
       "    <tr style=\"text-align: right;\">\n",
       "      <th></th>\n",
       "      <th>num</th>\n",
       "      <th>gi</th>\n",
       "      <th>name</th>\n",
       "      <th>seq</th>\n",
       "    </tr>\n",
       "  </thead>\n",
       "  <tbody>\n",
       "    <tr>\n",
       "      <th>0</th>\n",
       "      <td>0</td>\n",
       "      <td>109731493</td>\n",
       "      <td>&gt;AAI14500.1 Tryptophan hydroxylase 2 [Homo sap...</td>\n",
       "      <td>MQPAMMMFSSKYWARRGFSLDSAVPEEHQLLGSSTLNKPNSGKNDD...</td>\n",
       "    </tr>\n",
       "    <tr>\n",
       "      <th>1</th>\n",
       "      <td>1</td>\n",
       "      <td>11133565</td>\n",
       "      <td>&gt;sp|Q9NPJ1.1|MKKS_HUMAN RecName: Full=McKusick...</td>\n",
       "      <td>MSRLEAKKPSLCKSEPLTTERVRTTLSVLKRIVTSCYGPSGRLKQL...</td>\n",
       "    </tr>\n",
       "    <tr>\n",
       "      <th>2</th>\n",
       "      <td>2</td>\n",
       "      <td>116242717</td>\n",
       "      <td>&gt;sp|Q13563.3|PKD2_HUMAN RecName: Full=Polycyst...</td>\n",
       "      <td>MVNSSRVQPQQPGDAKRPPAPRAPDPGRLMAGCAAVGASLAAPGGL...</td>\n",
       "    </tr>\n",
       "    <tr>\n",
       "      <th>3</th>\n",
       "      <td>3</td>\n",
       "      <td>116666949</td>\n",
       "      <td>&gt;pdb|2CY8|A Chain A, D-phenylglycine Aminotran...</td>\n",
       "      <td>MSILNDYKRKTEGSVFWAQRARSVMPDGVTADTRAFDPHGLFISDA...</td>\n",
       "    </tr>\n",
       "    <tr>\n",
       "      <th>4</th>\n",
       "      <td>4</td>\n",
       "      <td>117391</td>\n",
       "      <td>&gt;sp|P12271.2|RLBP1_HUMAN RecName: Full=Retinal...</td>\n",
       "      <td>MSEGVGTFRMVPEEEQELRAQLEQLTTKDHGPVFGPCSQLPRHTLQ...</td>\n",
       "    </tr>\n",
       "  </tbody>\n",
       "</table>\n",
       "</div>"
      ],
      "text/plain": [
       "   num         gi                                               name  \\\n",
       "0    0  109731493  >AAI14500.1 Tryptophan hydroxylase 2 [Homo sap...   \n",
       "1    1   11133565  >sp|Q9NPJ1.1|MKKS_HUMAN RecName: Full=McKusick...   \n",
       "2    2  116242717  >sp|Q13563.3|PKD2_HUMAN RecName: Full=Polycyst...   \n",
       "3    3  116666949  >pdb|2CY8|A Chain A, D-phenylglycine Aminotran...   \n",
       "4    4     117391  >sp|P12271.2|RLBP1_HUMAN RecName: Full=Retinal...   \n",
       "\n",
       "                                                 seq  \n",
       "0  MQPAMMMFSSKYWARRGFSLDSAVPEEHQLLGSSTLNKPNSGKNDD...  \n",
       "1  MSRLEAKKPSLCKSEPLTTERVRTTLSVLKRIVTSCYGPSGRLKQL...  \n",
       "2  MVNSSRVQPQQPGDAKRPPAPRAPDPGRLMAGCAAVGASLAAPGGL...  \n",
       "3  MSILNDYKRKTEGSVFWAQRARSVMPDGVTADTRAFDPHGLFISDA...  \n",
       "4  MSEGVGTFRMVPEEEQELRAQLEQLTTKDHGPVFGPCSQLPRHTLQ...  "
      ]
     },
     "execution_count": 12,
     "metadata": {},
     "output_type": "execute_result"
    }
   ],
   "source": [
    "df_sequences = pd.read_excel(\"../../raw_data/DeepMutSol/all_protein_sequences.xlsx\")\n",
    "df_sequences.head(5)"
   ]
  },
  {
   "cell_type": "code",
   "execution_count": 13,
   "metadata": {},
   "outputs": [
    {
     "data": {
      "text/plain": [
       "(77, 4)"
      ]
     },
     "execution_count": 13,
     "metadata": {},
     "output_type": "execute_result"
    }
   ],
   "source": [
    "df_sequences.shape"
   ]
  },
  {
   "cell_type": "code",
   "execution_count": 2,
   "metadata": {},
   "outputs": [
    {
     "data": {
      "text/html": [
       "<div>\n",
       "<style scoped>\n",
       "    .dataframe tbody tr th:only-of-type {\n",
       "        vertical-align: middle;\n",
       "    }\n",
       "\n",
       "    .dataframe tbody tr th {\n",
       "        vertical-align: top;\n",
       "    }\n",
       "\n",
       "    .dataframe thead th {\n",
       "        text-align: right;\n",
       "    }\n",
       "</style>\n",
       "<table border=\"1\" class=\"dataframe\">\n",
       "  <thead>\n",
       "    <tr style=\"text-align: right;\">\n",
       "      <th></th>\n",
       "      <th>index</th>\n",
       "      <th>variation</th>\n",
       "      <th>solubility</th>\n",
       "      <th>gi</th>\n",
       "      <th>mut_residue</th>\n",
       "      <th>Unnamed: 5</th>\n",
       "    </tr>\n",
       "  </thead>\n",
       "  <tbody>\n",
       "    <tr>\n",
       "      <th>0</th>\n",
       "      <td>34</td>\n",
       "      <td>L165P</td>\n",
       "      <td>-1</td>\n",
       "      <td>299464</td>\n",
       "      <td>NaN</td>\n",
       "      <td>pos</td>\n",
       "    </tr>\n",
       "    <tr>\n",
       "      <th>1</th>\n",
       "      <td>40</td>\n",
       "      <td>S302N</td>\n",
       "      <td>1</td>\n",
       "      <td>633678</td>\n",
       "      <td>NaN</td>\n",
       "      <td>pos</td>\n",
       "    </tr>\n",
       "    <tr>\n",
       "      <th>2</th>\n",
       "      <td>77</td>\n",
       "      <td>K176P</td>\n",
       "      <td>1</td>\n",
       "      <td>1708279</td>\n",
       "      <td>NaN</td>\n",
       "      <td>pos</td>\n",
       "    </tr>\n",
       "    <tr>\n",
       "      <th>3</th>\n",
       "      <td>82</td>\n",
       "      <td>R49C</td>\n",
       "      <td>-1</td>\n",
       "      <td>1732063</td>\n",
       "      <td>NaN</td>\n",
       "      <td>pos</td>\n",
       "    </tr>\n",
       "    <tr>\n",
       "      <th>4</th>\n",
       "      <td>85</td>\n",
       "      <td>M63K</td>\n",
       "      <td>0</td>\n",
       "      <td>2506127</td>\n",
       "      <td>NaN</td>\n",
       "      <td>pos</td>\n",
       "    </tr>\n",
       "  </tbody>\n",
       "</table>\n",
       "</div>"
      ],
      "text/plain": [
       "   index variation  solubility       gi  mut_residue Unnamed: 5\n",
       "0     34     L165P          -1   299464          NaN        pos\n",
       "1     40     S302N           1   633678          NaN        pos\n",
       "2     77     K176P           1  1708279          NaN        pos\n",
       "3     82      R49C          -1  1732063          NaN        pos\n",
       "4     85      M63K           0  2506127          NaN        pos"
      ]
     },
     "execution_count": 2,
     "metadata": {},
     "output_type": "execute_result"
    }
   ],
   "source": [
    "df_test = pd.read_excel(\"../../raw_data/DeepMutSol/test_dataset.xlsx\")\n",
    "df_test.head(5)"
   ]
  },
  {
   "cell_type": "code",
   "execution_count": 3,
   "metadata": {},
   "outputs": [
    {
     "data": {
      "text/html": [
       "<div>\n",
       "<style scoped>\n",
       "    .dataframe tbody tr th:only-of-type {\n",
       "        vertical-align: middle;\n",
       "    }\n",
       "\n",
       "    .dataframe tbody tr th {\n",
       "        vertical-align: top;\n",
       "    }\n",
       "\n",
       "    .dataframe thead th {\n",
       "        text-align: right;\n",
       "    }\n",
       "</style>\n",
       "<table border=\"1\" class=\"dataframe\">\n",
       "  <thead>\n",
       "    <tr style=\"text-align: right;\">\n",
       "      <th></th>\n",
       "      <th>index</th>\n",
       "      <th>variation</th>\n",
       "      <th>solubility</th>\n",
       "      <th>gi</th>\n",
       "      <th>mut_residue</th>\n",
       "      <th>Unnamed: 5</th>\n",
       "    </tr>\n",
       "  </thead>\n",
       "  <tbody>\n",
       "    <tr>\n",
       "      <th>0</th>\n",
       "      <td>6</td>\n",
       "      <td>P194G</td>\n",
       "      <td>0</td>\n",
       "      <td>117544</td>\n",
       "      <td>194</td>\n",
       "      <td>pos</td>\n",
       "    </tr>\n",
       "    <tr>\n",
       "      <th>1</th>\n",
       "      <td>35</td>\n",
       "      <td>L250P</td>\n",
       "      <td>-1</td>\n",
       "      <td>299464</td>\n",
       "      <td>250</td>\n",
       "      <td>pos</td>\n",
       "    </tr>\n",
       "    <tr>\n",
       "      <th>2</th>\n",
       "      <td>58</td>\n",
       "      <td>H103A</td>\n",
       "      <td>0</td>\n",
       "      <td>1708279</td>\n",
       "      <td>103</td>\n",
       "      <td>pos</td>\n",
       "    </tr>\n",
       "    <tr>\n",
       "      <th>3</th>\n",
       "      <td>60</td>\n",
       "      <td>H103D</td>\n",
       "      <td>0</td>\n",
       "      <td>1708279</td>\n",
       "      <td>103</td>\n",
       "      <td>pos</td>\n",
       "    </tr>\n",
       "    <tr>\n",
       "      <th>4</th>\n",
       "      <td>66</td>\n",
       "      <td>H103L</td>\n",
       "      <td>1</td>\n",
       "      <td>1708279</td>\n",
       "      <td>103</td>\n",
       "      <td>pos</td>\n",
       "    </tr>\n",
       "  </tbody>\n",
       "</table>\n",
       "</div>"
      ],
      "text/plain": [
       "   index variation  solubility       gi  mut_residue Unnamed: 5\n",
       "0      6     P194G           0   117544          194        pos\n",
       "1     35     L250P          -1   299464          250        pos\n",
       "2     58     H103A           0  1708279          103        pos\n",
       "3     60     H103D           0  1708279          103        pos\n",
       "4     66     H103L           1  1708279          103        pos"
      ]
     },
     "execution_count": 3,
     "metadata": {},
     "output_type": "execute_result"
    }
   ],
   "source": [
    "df_train = pd.read_excel(\"../../raw_data/DeepMutSol/train_dataset.xlsx\")\n",
    "df_train.head(5)"
   ]
  },
  {
   "cell_type": "code",
   "execution_count": 4,
   "metadata": {},
   "outputs": [
    {
     "data": {
      "text/html": [
       "<div>\n",
       "<style scoped>\n",
       "    .dataframe tbody tr th:only-of-type {\n",
       "        vertical-align: middle;\n",
       "    }\n",
       "\n",
       "    .dataframe tbody tr th {\n",
       "        vertical-align: top;\n",
       "    }\n",
       "\n",
       "    .dataframe thead th {\n",
       "        text-align: right;\n",
       "    }\n",
       "</style>\n",
       "<table border=\"1\" class=\"dataframe\">\n",
       "  <thead>\n",
       "    <tr style=\"text-align: right;\">\n",
       "      <th></th>\n",
       "      <th>index</th>\n",
       "      <th>variation</th>\n",
       "      <th>solubility</th>\n",
       "      <th>gi</th>\n",
       "      <th>mut_residue</th>\n",
       "      <th>Unnamed: 5</th>\n",
       "    </tr>\n",
       "  </thead>\n",
       "  <tbody>\n",
       "    <tr>\n",
       "      <th>0</th>\n",
       "      <td>1</td>\n",
       "      <td>R151Q</td>\n",
       "      <td>-1</td>\n",
       "      <td>117391</td>\n",
       "      <td>151</td>\n",
       "      <td>pos</td>\n",
       "    </tr>\n",
       "    <tr>\n",
       "      <th>1</th>\n",
       "      <td>2</td>\n",
       "      <td>R234W</td>\n",
       "      <td>0</td>\n",
       "      <td>117391</td>\n",
       "      <td>234</td>\n",
       "      <td>pos</td>\n",
       "    </tr>\n",
       "    <tr>\n",
       "      <th>2</th>\n",
       "      <td>3</td>\n",
       "      <td>P193F</td>\n",
       "      <td>-1</td>\n",
       "      <td>117544</td>\n",
       "      <td>193</td>\n",
       "      <td>pos</td>\n",
       "    </tr>\n",
       "    <tr>\n",
       "      <th>3</th>\n",
       "      <td>10</td>\n",
       "      <td>F602S</td>\n",
       "      <td>1</td>\n",
       "      <td>121069</td>\n",
       "      <td>602</td>\n",
       "      <td>pos</td>\n",
       "    </tr>\n",
       "    <tr>\n",
       "      <th>4</th>\n",
       "      <td>13</td>\n",
       "      <td>M51K</td>\n",
       "      <td>0</td>\n",
       "      <td>127455</td>\n",
       "      <td>51</td>\n",
       "      <td>pos</td>\n",
       "    </tr>\n",
       "  </tbody>\n",
       "</table>\n",
       "</div>"
      ],
      "text/plain": [
       "   index variation  solubility      gi  mut_residue Unnamed: 5\n",
       "0      1     R151Q          -1  117391          151        pos\n",
       "1      2     R234W           0  117391          234        pos\n",
       "2      3     P193F          -1  117544          193        pos\n",
       "3     10     F602S           1  121069          602        pos\n",
       "4     13      M51K           0  127455           51        pos"
      ]
     },
     "execution_count": 4,
     "metadata": {},
     "output_type": "execute_result"
    }
   ],
   "source": [
    "df_val = pd.read_excel(\"../../raw_data/DeepMutSol/val_dataset.xlsx\")\n",
    "df_val.head(5)"
   ]
  },
  {
   "cell_type": "code",
   "execution_count": 5,
   "metadata": {},
   "outputs": [
    {
     "data": {
      "text/html": [
       "<div>\n",
       "<style scoped>\n",
       "    .dataframe tbody tr th:only-of-type {\n",
       "        vertical-align: middle;\n",
       "    }\n",
       "\n",
       "    .dataframe tbody tr th {\n",
       "        vertical-align: top;\n",
       "    }\n",
       "\n",
       "    .dataframe thead th {\n",
       "        text-align: right;\n",
       "    }\n",
       "</style>\n",
       "<table border=\"1\" class=\"dataframe\">\n",
       "  <thead>\n",
       "    <tr style=\"text-align: right;\">\n",
       "      <th></th>\n",
       "      <th>index</th>\n",
       "      <th>variation</th>\n",
       "      <th>solubility</th>\n",
       "      <th>gi</th>\n",
       "      <th>mut_residue</th>\n",
       "      <th>Unnamed: 5</th>\n",
       "    </tr>\n",
       "  </thead>\n",
       "  <tbody>\n",
       "    <tr>\n",
       "      <th>0</th>\n",
       "      <td>6</td>\n",
       "      <td>P194G</td>\n",
       "      <td>0</td>\n",
       "      <td>117544</td>\n",
       "      <td>194.0</td>\n",
       "      <td>pos</td>\n",
       "    </tr>\n",
       "    <tr>\n",
       "      <th>1</th>\n",
       "      <td>35</td>\n",
       "      <td>L250P</td>\n",
       "      <td>-1</td>\n",
       "      <td>299464</td>\n",
       "      <td>250.0</td>\n",
       "      <td>pos</td>\n",
       "    </tr>\n",
       "    <tr>\n",
       "      <th>2</th>\n",
       "      <td>58</td>\n",
       "      <td>H103A</td>\n",
       "      <td>0</td>\n",
       "      <td>1708279</td>\n",
       "      <td>103.0</td>\n",
       "      <td>pos</td>\n",
       "    </tr>\n",
       "    <tr>\n",
       "      <th>3</th>\n",
       "      <td>60</td>\n",
       "      <td>H103D</td>\n",
       "      <td>0</td>\n",
       "      <td>1708279</td>\n",
       "      <td>103.0</td>\n",
       "      <td>pos</td>\n",
       "    </tr>\n",
       "    <tr>\n",
       "      <th>4</th>\n",
       "      <td>66</td>\n",
       "      <td>H103L</td>\n",
       "      <td>1</td>\n",
       "      <td>1708279</td>\n",
       "      <td>103.0</td>\n",
       "      <td>pos</td>\n",
       "    </tr>\n",
       "  </tbody>\n",
       "</table>\n",
       "</div>"
      ],
      "text/plain": [
       "   index variation  solubility       gi  mut_residue Unnamed: 5\n",
       "0      6     P194G           0   117544        194.0        pos\n",
       "1     35     L250P          -1   299464        250.0        pos\n",
       "2     58     H103A           0  1708279        103.0        pos\n",
       "3     60     H103D           0  1708279        103.0        pos\n",
       "4     66     H103L           1  1708279        103.0        pos"
      ]
     },
     "execution_count": 5,
     "metadata": {},
     "output_type": "execute_result"
    }
   ],
   "source": [
    "df_concat = pd.concat([df_train, df_test, df_val], axis=0)\n",
    "df_concat.head(5)"
   ]
  },
  {
   "cell_type": "code",
   "execution_count": 6,
   "metadata": {},
   "outputs": [
    {
     "data": {
      "text/plain": [
       "(11414, 6)"
      ]
     },
     "execution_count": 6,
     "metadata": {},
     "output_type": "execute_result"
    }
   ],
   "source": [
    "df_concat.shape"
   ]
  },
  {
   "cell_type": "code",
   "execution_count": 7,
   "metadata": {},
   "outputs": [
    {
     "data": {
      "text/plain": [
       "(6374, 4)"
      ]
     },
     "execution_count": 7,
     "metadata": {},
     "output_type": "execute_result"
    }
   ],
   "source": [
    "df_ponsol2 = pd.read_csv(\"../../process_data/mutations_categorical/PON-Sol2_export_data.csv\")\n",
    "df_ponsol2.shape"
   ]
  },
  {
   "cell_type": "code",
   "execution_count": 8,
   "metadata": {},
   "outputs": [],
   "source": [
    "df_concat[\"is_in_ponsol2\"] = df_concat[\"gi\"].isin(df_ponsol2[\"gi\"].tolist())"
   ]
  },
  {
   "cell_type": "code",
   "execution_count": 17,
   "metadata": {},
   "outputs": [
    {
     "data": {
      "text/plain": [
       "index                  int64\n",
       "variation             object\n",
       "solubility             int64\n",
       "gi                     int64\n",
       "mut_residue          float64\n",
       "Unnamed: 5            object\n",
       "is_in_ponsol2           bool\n",
       "is_in_ponsol2_mut       bool\n",
       "dtype: object"
      ]
     },
     "execution_count": 17,
     "metadata": {},
     "output_type": "execute_result"
    }
   ],
   "source": [
    "df_concat.dtypes"
   ]
  },
  {
   "cell_type": "code",
   "execution_count": 18,
   "metadata": {},
   "outputs": [
    {
     "data": {
      "text/plain": [
       "num      int64\n",
       "gi       int64\n",
       "name    object\n",
       "seq     object\n",
       "dtype: object"
      ]
     },
     "execution_count": 18,
     "metadata": {},
     "output_type": "execute_result"
    }
   ],
   "source": [
    "df_sequences.dtypes"
   ]
  },
  {
   "cell_type": "code",
   "execution_count": 9,
   "metadata": {},
   "outputs": [
    {
     "data": {
      "text/plain": [
       "True    11414\n",
       "Name: is_in_ponsol2, dtype: int64"
      ]
     },
     "execution_count": 9,
     "metadata": {},
     "output_type": "execute_result"
    }
   ],
   "source": [
    "df_concat[\"is_in_ponsol2\"].value_counts()"
   ]
  },
  {
   "cell_type": "code",
   "execution_count": 10,
   "metadata": {},
   "outputs": [],
   "source": [
    "df_concat[\"is_in_ponsol2_mut\"] = df_concat[\"variation\"].isin(df_ponsol2[\"variation\"].tolist())"
   ]
  },
  {
   "cell_type": "code",
   "execution_count": 11,
   "metadata": {},
   "outputs": [
    {
     "data": {
      "text/plain": [
       "True     6421\n",
       "False    4993\n",
       "Name: is_in_ponsol2_mut, dtype: int64"
      ]
     },
     "execution_count": 11,
     "metadata": {},
     "output_type": "execute_result"
    }
   ],
   "source": [
    "df_concat[\"is_in_ponsol2_mut\"].value_counts()"
   ]
  },
  {
   "cell_type": "code",
   "execution_count": 42,
   "metadata": {},
   "outputs": [],
   "source": [
    "df_process_sequences_train, df_process_sequences_error_train = produce_df_sequences(df_train, df_sequences)\n",
    "df_process_sequences_test1, df_process_sequences_error_test1 = produce_df_sequences(df_test, df_sequences)\n",
    "df_process_sequences_test2, df_process_sequences_error_test2 = produce_df_sequences(df_val, df_sequences)\n"
   ]
  },
  {
   "cell_type": "code",
   "execution_count": 43,
   "metadata": {},
   "outputs": [
    {
     "data": {
      "text/plain": [
       "(0, 3)"
      ]
     },
     "execution_count": 43,
     "metadata": {},
     "output_type": "execute_result"
    }
   ],
   "source": [
    "df_process_sequences_error_train.shape"
   ]
  },
  {
   "cell_type": "code",
   "execution_count": 44,
   "metadata": {},
   "outputs": [
    {
     "data": {
      "text/plain": [
       "(0, 3)"
      ]
     },
     "execution_count": 44,
     "metadata": {},
     "output_type": "execute_result"
    }
   ],
   "source": [
    "df_process_sequences_error_test1.shape"
   ]
  },
  {
   "cell_type": "code",
   "execution_count": 45,
   "metadata": {},
   "outputs": [
    {
     "data": {
      "text/plain": [
       "(0, 3)"
      ]
     },
     "execution_count": 45,
     "metadata": {},
     "output_type": "execute_result"
    }
   ],
   "source": [
    "df_process_sequences_error_test2.shape"
   ]
  },
  {
   "cell_type": "code",
   "execution_count": 46,
   "metadata": {},
   "outputs": [
    {
     "data": {
      "text/plain": [
       "(11414, 4)"
      ]
     },
     "execution_count": 46,
     "metadata": {},
     "output_type": "execute_result"
    }
   ],
   "source": [
    "df_concat_2 = pd.concat([df_process_sequences_train, df_process_sequences_test1, df_process_sequences_test2], axis=0)\n",
    "df_concat_2.shape"
   ]
  },
  {
   "cell_type": "code",
   "execution_count": 47,
   "metadata": {},
   "outputs": [],
   "source": [
    "df_concat_2.to_csv(\"../../process_data/mutations_categorical/DeepMutSol_export_data.ipynb\", index=False)"
   ]
  }
 ],
 "metadata": {
  "kernelspec": {
   "display_name": "amp_class_models",
   "language": "python",
   "name": "python3"
  },
  "language_info": {
   "codemirror_mode": {
    "name": "ipython",
    "version": 3
   },
   "file_extension": ".py",
   "mimetype": "text/x-python",
   "name": "python",
   "nbconvert_exporter": "python",
   "pygments_lexer": "ipython3",
   "version": "3.9.19"
  },
  "orig_nbformat": 4,
  "vscode": {
   "interpreter": {
    "hash": "7083de4b0402f53e7c3ee94a03dce799a26de2893c2a83f7f50740b3282fcfd1"
   }
  }
 },
 "nbformat": 4,
 "nbformat_minor": 2
}
