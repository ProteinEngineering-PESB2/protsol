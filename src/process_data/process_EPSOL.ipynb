{
 "cells": [
  {
   "cell_type": "code",
   "execution_count": 1,
   "metadata": {},
   "outputs": [],
   "source": [
    "import pandas as pd\n",
    "from Bio import SeqIO"
   ]
  },
  {
   "cell_type": "code",
   "execution_count": 6,
   "metadata": {},
   "outputs": [],
   "source": [
    "def fasta_to_csv(name_doc):\n",
    "    matrix_data = []\n",
    "\n",
    "    for record in SeqIO.parse(name_doc, \"fasta\"):\n",
    "        id_seq = record.id\n",
    "        class_seq = int(record.description.split(\"\\t\")[-1])\n",
    "        sequence = str(record.seq)\n",
    "        \n",
    "        row = [\n",
    "            id_seq,\n",
    "            sequence,\n",
    "            class_seq\n",
    "        ]\n",
    "\n",
    "        matrix_data.append(row)\n",
    "        \n",
    "    df_process = pd.DataFrame(data=matrix_data, columns=[\"id_seq\", \"sequence\", \"response\"])\n",
    "    return df_process"
   ]
  },
  {
   "cell_type": "code",
   "execution_count": 7,
   "metadata": {},
   "outputs": [],
   "source": [
    "df_dev = fasta_to_csv(\"../../raw_data/EPSOL/solubility_dev.fa\")\n",
    "df_test = fasta_to_csv(\"../../raw_data/EPSOL/solubility_test.fa\")\n",
    "df_train = fasta_to_csv(\"../../raw_data/EPSOL/solubility_train.fa\")\n"
   ]
  },
  {
   "cell_type": "code",
   "execution_count": 8,
   "metadata": {},
   "outputs": [
    {
     "data": {
      "text/html": [
       "<div>\n",
       "<style scoped>\n",
       "    .dataframe tbody tr th:only-of-type {\n",
       "        vertical-align: middle;\n",
       "    }\n",
       "\n",
       "    .dataframe tbody tr th {\n",
       "        vertical-align: top;\n",
       "    }\n",
       "\n",
       "    .dataframe thead th {\n",
       "        text-align: right;\n",
       "    }\n",
       "</style>\n",
       "<table border=\"1\" class=\"dataframe\">\n",
       "  <thead>\n",
       "    <tr style=\"text-align: right;\">\n",
       "      <th></th>\n",
       "      <th>id_seq</th>\n",
       "      <th>sequence</th>\n",
       "      <th>response</th>\n",
       "    </tr>\n",
       "  </thead>\n",
       "  <tbody>\n",
       "    <tr>\n",
       "      <th>0</th>\n",
       "      <td>Psol_val_0</td>\n",
       "      <td>SRLYRHNLMEDVFNMENESFMQETRLMENEYSVNLPTRFYYKKRWN...</td>\n",
       "      <td>0</td>\n",
       "    </tr>\n",
       "    <tr>\n",
       "      <th>1</th>\n",
       "      <td>Psol_val_1</td>\n",
       "      <td>ATTYNAVVSKSSSDGKTFKTIADAIASAPAGSTPFVILIKNGVYNE...</td>\n",
       "      <td>1</td>\n",
       "    </tr>\n",
       "    <tr>\n",
       "      <th>2</th>\n",
       "      <td>Psol_val_2</td>\n",
       "      <td>MEDQDLLEIGILNSGHRQRILQAIQLLPKMRPIGHDGYHPTSVAEW...</td>\n",
       "      <td>1</td>\n",
       "    </tr>\n",
       "    <tr>\n",
       "      <th>3</th>\n",
       "      <td>Psol_val_3</td>\n",
       "      <td>MGFAKPPWGGKLKGVVRILGGKARGVALKVPASARPSPVRLRKALF...</td>\n",
       "      <td>1</td>\n",
       "    </tr>\n",
       "    <tr>\n",
       "      <th>4</th>\n",
       "      <td>Psol_val_4</td>\n",
       "      <td>LAAGPALSARGYLALNGQTPAGCSLMEWQNDNNGRQRWCVRLVQGG...</td>\n",
       "      <td>0</td>\n",
       "    </tr>\n",
       "  </tbody>\n",
       "</table>\n",
       "</div>"
      ],
      "text/plain": [
       "       id_seq                                           sequence  response\n",
       "0  Psol_val_0  SRLYRHNLMEDVFNMENESFMQETRLMENEYSVNLPTRFYYKKRWN...         0\n",
       "1  Psol_val_1  ATTYNAVVSKSSSDGKTFKTIADAIASAPAGSTPFVILIKNGVYNE...         1\n",
       "2  Psol_val_2  MEDQDLLEIGILNSGHRQRILQAIQLLPKMRPIGHDGYHPTSVAEW...         1\n",
       "3  Psol_val_3  MGFAKPPWGGKLKGVVRILGGKARGVALKVPASARPSPVRLRKALF...         1\n",
       "4  Psol_val_4  LAAGPALSARGYLALNGQTPAGCSLMEWQNDNNGRQRWCVRLVQGG...         0"
      ]
     },
     "execution_count": 8,
     "metadata": {},
     "output_type": "execute_result"
    }
   ],
   "source": [
    "df_concat = pd.concat([df_dev, df_test,df_train], axis=0)\n",
    "df_concat.head(5)"
   ]
  },
  {
   "cell_type": "code",
   "execution_count": 9,
   "metadata": {},
   "outputs": [
    {
     "data": {
      "text/plain": [
       "0    41449\n",
       "1    29972\n",
       "Name: response, dtype: int64"
      ]
     },
     "execution_count": 9,
     "metadata": {},
     "output_type": "execute_result"
    }
   ],
   "source": [
    "df_concat[\"response\"].value_counts()"
   ]
  },
  {
   "cell_type": "code",
   "execution_count": 10,
   "metadata": {},
   "outputs": [],
   "source": [
    "checking_duplicated = df_concat.groupby(by=[\"sequence\", \"response\"]).count().sort_values(by=\"id_seq\", ascending=False)"
   ]
  },
  {
   "cell_type": "code",
   "execution_count": 11,
   "metadata": {},
   "outputs": [],
   "source": [
    "sequences_no_duplicated = checking_duplicated[checking_duplicated[\"id_seq\"] == 1]\n",
    "sequences_duplicated = checking_duplicated[checking_duplicated[\"id_seq\"] > 1]"
   ]
  },
  {
   "cell_type": "code",
   "execution_count": 12,
   "metadata": {},
   "outputs": [
    {
     "data": {
      "text/plain": [
       "(0, 1)"
      ]
     },
     "execution_count": 12,
     "metadata": {},
     "output_type": "execute_result"
    }
   ],
   "source": [
    "sequences_duplicated.shape"
   ]
  },
  {
   "cell_type": "code",
   "execution_count": 13,
   "metadata": {},
   "outputs": [],
   "source": [
    "df_concat.to_csv(\"../../process_data/EPSOL_exported_data.csv\", index=False)"
   ]
  }
 ],
 "metadata": {
  "kernelspec": {
   "display_name": "amp_class_models",
   "language": "python",
   "name": "python3"
  },
  "language_info": {
   "codemirror_mode": {
    "name": "ipython",
    "version": 3
   },
   "file_extension": ".py",
   "mimetype": "text/x-python",
   "name": "python",
   "nbconvert_exporter": "python",
   "pygments_lexer": "ipython3",
   "version": "3.9.19"
  },
  "orig_nbformat": 4,
  "vscode": {
   "interpreter": {
    "hash": "7083de4b0402f53e7c3ee94a03dce799a26de2893c2a83f7f50740b3282fcfd1"
   }
  }
 },
 "nbformat": 4,
 "nbformat_minor": 2
}
