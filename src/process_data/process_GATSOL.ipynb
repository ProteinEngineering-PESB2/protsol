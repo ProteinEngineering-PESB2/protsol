{
 "cells": [
  {
   "cell_type": "code",
   "execution_count": 1,
   "metadata": {},
   "outputs": [],
   "source": [
    "import pandas as pd"
   ]
  },
  {
   "cell_type": "code",
   "execution_count": 12,
   "metadata": {},
   "outputs": [
    {
     "data": {
      "text/html": [
       "<div>\n",
       "<style scoped>\n",
       "    .dataframe tbody tr th:only-of-type {\n",
       "        vertical-align: middle;\n",
       "    }\n",
       "\n",
       "    .dataframe tbody tr th {\n",
       "        vertical-align: top;\n",
       "    }\n",
       "\n",
       "    .dataframe thead th {\n",
       "        text-align: right;\n",
       "    }\n",
       "</style>\n",
       "<table border=\"1\" class=\"dataframe\">\n",
       "  <thead>\n",
       "    <tr style=\"text-align: right;\">\n",
       "      <th></th>\n",
       "      <th>id_seq</th>\n",
       "      <th>response</th>\n",
       "      <th>sequence</th>\n",
       "    </tr>\n",
       "  </thead>\n",
       "  <tbody>\n",
       "    <tr>\n",
       "      <th>0</th>\n",
       "      <td>aaeX</td>\n",
       "      <td>0.34</td>\n",
       "      <td>MSLFPVIVVFGLSFPPIFFELLLSLAIFWLVRRVLVPTGIYDFVWH...</td>\n",
       "    </tr>\n",
       "    <tr>\n",
       "      <th>1</th>\n",
       "      <td>aas</td>\n",
       "      <td>0.07</td>\n",
       "      <td>MLFSFFRNLCRVLYRVRVTGDTQALKGERVLITPNHVSFIDGILLG...</td>\n",
       "    </tr>\n",
       "    <tr>\n",
       "      <th>2</th>\n",
       "      <td>aat</td>\n",
       "      <td>0.08</td>\n",
       "      <td>MRLVQLSRHSIAFPSPEGALREPNGLLALGGDLSPARLLMAYQRGI...</td>\n",
       "    </tr>\n",
       "    <tr>\n",
       "      <th>3</th>\n",
       "      <td>abgA</td>\n",
       "      <td>0.31</td>\n",
       "      <td>MESLNQFVNSLAPKLSHWRRDFHHYAESGWVEFRTATLVAEELHQL...</td>\n",
       "    </tr>\n",
       "    <tr>\n",
       "      <th>4</th>\n",
       "      <td>abgB</td>\n",
       "      <td>0.49</td>\n",
       "      <td>MQEIYRFIDDAIEADRQRYTDIADQIWDHPETRFEEFWSAEHLASA...</td>\n",
       "    </tr>\n",
       "  </tbody>\n",
       "</table>\n",
       "</div>"
      ],
      "text/plain": [
       "  id_seq  response                                           sequence\n",
       "0   aaeX      0.34  MSLFPVIVVFGLSFPPIFFELLLSLAIFWLVRRVLVPTGIYDFVWH...\n",
       "1    aas      0.07  MLFSFFRNLCRVLYRVRVTGDTQALKGERVLITPNHVSFIDGILLG...\n",
       "2    aat      0.08  MRLVQLSRHSIAFPSPEGALREPNGLLALGGDLSPARLLMAYQRGI...\n",
       "3   abgA      0.31  MESLNQFVNSLAPKLSHWRRDFHHYAESGWVEFRTATLVAEELHQL...\n",
       "4   abgB      0.49  MQEIYRFIDDAIEADRQRYTDIADQIWDHPETRFEEFWSAEHLASA..."
      ]
     },
     "execution_count": 12,
     "metadata": {},
     "output_type": "execute_result"
    }
   ],
   "source": [
    "df_train = pd.read_csv(\"../../raw_data/GATSOL/eSol_train.csv\")\n",
    "df_train.columns = [\"id_seq\", \"response\", \"sequence\"]\n",
    "df_train.head(5)"
   ]
  },
  {
   "cell_type": "code",
   "execution_count": 13,
   "metadata": {},
   "outputs": [
    {
     "data": {
      "text/html": [
       "<div>\n",
       "<style scoped>\n",
       "    .dataframe tbody tr th:only-of-type {\n",
       "        vertical-align: middle;\n",
       "    }\n",
       "\n",
       "    .dataframe tbody tr th {\n",
       "        vertical-align: top;\n",
       "    }\n",
       "\n",
       "    .dataframe thead th {\n",
       "        text-align: right;\n",
       "    }\n",
       "</style>\n",
       "<table border=\"1\" class=\"dataframe\">\n",
       "  <thead>\n",
       "    <tr style=\"text-align: right;\">\n",
       "      <th></th>\n",
       "      <th>id_seq</th>\n",
       "      <th>response</th>\n",
       "      <th>sequence</th>\n",
       "    </tr>\n",
       "  </thead>\n",
       "  <tbody>\n",
       "    <tr>\n",
       "      <th>0</th>\n",
       "      <td>acpS</td>\n",
       "      <td>0.84</td>\n",
       "      <td>MAILGLGTDIVEIARIEAVIARSGDRLARRVLSDNEWAIWKTHHQP...</td>\n",
       "    </tr>\n",
       "    <tr>\n",
       "      <th>1</th>\n",
       "      <td>acpT</td>\n",
       "      <td>0.14</td>\n",
       "      <td>MYRIVLGKVSTLSAAPLPPGLREQAPQGPRRERWLAGRALLSHTLS...</td>\n",
       "    </tr>\n",
       "    <tr>\n",
       "      <th>2</th>\n",
       "      <td>acrA</td>\n",
       "      <td>0.65</td>\n",
       "      <td>MNKNRGFTPLAVVLMLSGSLALTGCDDKQAQQGGQQMPAVGVVTVK...</td>\n",
       "    </tr>\n",
       "    <tr>\n",
       "      <th>3</th>\n",
       "      <td>acrR</td>\n",
       "      <td>0.52</td>\n",
       "      <td>MARKTKQEAQETRQHILDVALRLFSQQGVSSTSLGEIAKAAGVTRG...</td>\n",
       "    </tr>\n",
       "    <tr>\n",
       "      <th>4</th>\n",
       "      <td>ada</td>\n",
       "      <td>0.32</td>\n",
       "      <td>MKKATCLTDDQRWQSVLARDPNADGEFVFAVRTTGIFCRPSCRARH...</td>\n",
       "    </tr>\n",
       "  </tbody>\n",
       "</table>\n",
       "</div>"
      ],
      "text/plain": [
       "  id_seq  response                                           sequence\n",
       "0   acpS      0.84  MAILGLGTDIVEIARIEAVIARSGDRLARRVLSDNEWAIWKTHHQP...\n",
       "1   acpT      0.14  MYRIVLGKVSTLSAAPLPPGLREQAPQGPRRERWLAGRALLSHTLS...\n",
       "2   acrA      0.65  MNKNRGFTPLAVVLMLSGSLALTGCDDKQAQQGGQQMPAVGVVTVK...\n",
       "3   acrR      0.52  MARKTKQEAQETRQHILDVALRLFSQQGVSSTSLGEIAKAAGVTRG...\n",
       "4    ada      0.32  MKKATCLTDDQRWQSVLARDPNADGEFVFAVRTTGIFCRPSCRARH..."
      ]
     },
     "execution_count": 13,
     "metadata": {},
     "output_type": "execute_result"
    }
   ],
   "source": [
    "df_test = pd.read_csv(\"../../raw_data/GATSOL/eSol_test.csv\")\n",
    "df_test.columns = [\"id_seq\", \"response\", \"sequence\"]\n",
    "df_test.head(5)"
   ]
  },
  {
   "cell_type": "code",
   "execution_count": 14,
   "metadata": {},
   "outputs": [
    {
     "data": {
      "text/html": [
       "<div>\n",
       "<style scoped>\n",
       "    .dataframe tbody tr th:only-of-type {\n",
       "        vertical-align: middle;\n",
       "    }\n",
       "\n",
       "    .dataframe tbody tr th {\n",
       "        vertical-align: top;\n",
       "    }\n",
       "\n",
       "    .dataframe thead th {\n",
       "        text-align: right;\n",
       "    }\n",
       "</style>\n",
       "<table border=\"1\" class=\"dataframe\">\n",
       "  <thead>\n",
       "    <tr style=\"text-align: right;\">\n",
       "      <th></th>\n",
       "      <th>id_seq</th>\n",
       "      <th>response</th>\n",
       "      <th>sequence</th>\n",
       "    </tr>\n",
       "  </thead>\n",
       "  <tbody>\n",
       "    <tr>\n",
       "      <th>0</th>\n",
       "      <td>P38636</td>\n",
       "      <td>0.822</td>\n",
       "      <td>MAEIKHYQFNVVMTCSGCSGAVNKVLTKLEPDVSKIDISLEKQLVD...</td>\n",
       "    </tr>\n",
       "    <tr>\n",
       "      <th>1</th>\n",
       "      <td>P40347</td>\n",
       "      <td>0.925</td>\n",
       "      <td>MTIEKPKISVAFICLGNFCRSPMAEAIFKHEVEKANLENRFNKIDS...</td>\n",
       "    </tr>\n",
       "    <tr>\n",
       "      <th>2</th>\n",
       "      <td>P50861</td>\n",
       "      <td>0.888</td>\n",
       "      <td>MAVKGLGKPDQVYDGSKIRVGIIHARWNRVIIDALVKGAIERMASL...</td>\n",
       "    </tr>\n",
       "    <tr>\n",
       "      <th>3</th>\n",
       "      <td>P00445</td>\n",
       "      <td>0.947</td>\n",
       "      <td>MVQAVAVLKGDAGVSGVVKFEQASESEPTTVSYEIAGNSPNAERGF...</td>\n",
       "    </tr>\n",
       "    <tr>\n",
       "      <th>4</th>\n",
       "      <td>P49954</td>\n",
       "      <td>0.737</td>\n",
       "      <td>MSASKILSQKIKVALVQLSGSSPDKMANLQRAATFIERAMKEQPDT...</td>\n",
       "    </tr>\n",
       "  </tbody>\n",
       "</table>\n",
       "</div>"
      ],
      "text/plain": [
       "   id_seq  response                                           sequence\n",
       "0  P38636     0.822  MAEIKHYQFNVVMTCSGCSGAVNKVLTKLEPDVSKIDISLEKQLVD...\n",
       "1  P40347     0.925  MTIEKPKISVAFICLGNFCRSPMAEAIFKHEVEKANLENRFNKIDS...\n",
       "2  P50861     0.888  MAVKGLGKPDQVYDGSKIRVGIIHARWNRVIIDALVKGAIERMASL...\n",
       "3  P00445     0.947  MVQAVAVLKGDAGVSGVVKFEQASESEPTTVSYEIAGNSPNAERGF...\n",
       "4  P49954     0.737  MSASKILSQKIKVALVQLSGSSPDKMANLQRAATFIERAMKEQPDT..."
      ]
     },
     "execution_count": 14,
     "metadata": {},
     "output_type": "execute_result"
    }
   ],
   "source": [
    "df_test2 = pd.read_csv(\"../../raw_data/GATSOL/S.cerevisiae_test.csv\")\n",
    "df_test2.columns = [\"id_seq\", \"response\", \"sequence\"]\n",
    "df_test2.head(5)"
   ]
  },
  {
   "cell_type": "code",
   "execution_count": 6,
   "metadata": {},
   "outputs": [
    {
     "data": {
      "text/plain": [
       "(2019, 3)"
      ]
     },
     "execution_count": 6,
     "metadata": {},
     "output_type": "execute_result"
    }
   ],
   "source": [
    "df_train.shape"
   ]
  },
  {
   "cell_type": "code",
   "execution_count": 7,
   "metadata": {},
   "outputs": [
    {
     "data": {
      "text/plain": [
       "(660, 3)"
      ]
     },
     "execution_count": 7,
     "metadata": {},
     "output_type": "execute_result"
    }
   ],
   "source": [
    "df_test.shape"
   ]
  },
  {
   "cell_type": "code",
   "execution_count": 8,
   "metadata": {},
   "outputs": [
    {
     "data": {
      "text/plain": [
       "(108, 3)"
      ]
     },
     "execution_count": 8,
     "metadata": {},
     "output_type": "execute_result"
    }
   ],
   "source": [
    "df_test2.shape"
   ]
  },
  {
   "cell_type": "code",
   "execution_count": 15,
   "metadata": {},
   "outputs": [
    {
     "data": {
      "text/plain": [
       "(2787, 3)"
      ]
     },
     "execution_count": 15,
     "metadata": {},
     "output_type": "execute_result"
    }
   ],
   "source": [
    "df_concat = pd.concat([df_train, df_test, df_test2], axis=0)\n",
    "df_concat.shape"
   ]
  },
  {
   "cell_type": "code",
   "execution_count": 16,
   "metadata": {},
   "outputs": [
    {
     "data": {
      "text/html": [
       "<div>\n",
       "<style scoped>\n",
       "    .dataframe tbody tr th:only-of-type {\n",
       "        vertical-align: middle;\n",
       "    }\n",
       "\n",
       "    .dataframe tbody tr th {\n",
       "        vertical-align: top;\n",
       "    }\n",
       "\n",
       "    .dataframe thead th {\n",
       "        text-align: right;\n",
       "    }\n",
       "</style>\n",
       "<table border=\"1\" class=\"dataframe\">\n",
       "  <thead>\n",
       "    <tr style=\"text-align: right;\">\n",
       "      <th></th>\n",
       "      <th>id_seq</th>\n",
       "      <th>response</th>\n",
       "      <th>sequence</th>\n",
       "    </tr>\n",
       "  </thead>\n",
       "  <tbody>\n",
       "    <tr>\n",
       "      <th>0</th>\n",
       "      <td>aaeX</td>\n",
       "      <td>0.34</td>\n",
       "      <td>MSLFPVIVVFGLSFPPIFFELLLSLAIFWLVRRVLVPTGIYDFVWH...</td>\n",
       "    </tr>\n",
       "    <tr>\n",
       "      <th>1</th>\n",
       "      <td>aas</td>\n",
       "      <td>0.07</td>\n",
       "      <td>MLFSFFRNLCRVLYRVRVTGDTQALKGERVLITPNHVSFIDGILLG...</td>\n",
       "    </tr>\n",
       "    <tr>\n",
       "      <th>2</th>\n",
       "      <td>aat</td>\n",
       "      <td>0.08</td>\n",
       "      <td>MRLVQLSRHSIAFPSPEGALREPNGLLALGGDLSPARLLMAYQRGI...</td>\n",
       "    </tr>\n",
       "    <tr>\n",
       "      <th>3</th>\n",
       "      <td>abgA</td>\n",
       "      <td>0.31</td>\n",
       "      <td>MESLNQFVNSLAPKLSHWRRDFHHYAESGWVEFRTATLVAEELHQL...</td>\n",
       "    </tr>\n",
       "    <tr>\n",
       "      <th>4</th>\n",
       "      <td>abgB</td>\n",
       "      <td>0.49</td>\n",
       "      <td>MQEIYRFIDDAIEADRQRYTDIADQIWDHPETRFEEFWSAEHLASA...</td>\n",
       "    </tr>\n",
       "  </tbody>\n",
       "</table>\n",
       "</div>"
      ],
      "text/plain": [
       "  id_seq  response                                           sequence\n",
       "0   aaeX      0.34  MSLFPVIVVFGLSFPPIFFELLLSLAIFWLVRRVLVPTGIYDFVWH...\n",
       "1    aas      0.07  MLFSFFRNLCRVLYRVRVTGDTQALKGERVLITPNHVSFIDGILLG...\n",
       "2    aat      0.08  MRLVQLSRHSIAFPSPEGALREPNGLLALGGDLSPARLLMAYQRGI...\n",
       "3   abgA      0.31  MESLNQFVNSLAPKLSHWRRDFHHYAESGWVEFRTATLVAEELHQL...\n",
       "4   abgB      0.49  MQEIYRFIDDAIEADRQRYTDIADQIWDHPETRFEEFWSAEHLASA..."
      ]
     },
     "execution_count": 16,
     "metadata": {},
     "output_type": "execute_result"
    }
   ],
   "source": [
    "df_concat.head(5)"
   ]
  },
  {
   "cell_type": "code",
   "execution_count": 17,
   "metadata": {},
   "outputs": [],
   "source": [
    "checking_duplicated = df_concat.groupby(by=[\"sequence\", \"response\"]).count().sort_values(by=\"id_seq\", ascending=False)"
   ]
  },
  {
   "cell_type": "code",
   "execution_count": 18,
   "metadata": {},
   "outputs": [],
   "source": [
    "sequences_no_duplicated = checking_duplicated[checking_duplicated[\"id_seq\"] == 1]\n",
    "sequences_duplicated = checking_duplicated[checking_duplicated[\"id_seq\"] > 1]"
   ]
  },
  {
   "cell_type": "code",
   "execution_count": 19,
   "metadata": {},
   "outputs": [
    {
     "data": {
      "text/plain": [
       "(2787, 1)"
      ]
     },
     "execution_count": 19,
     "metadata": {},
     "output_type": "execute_result"
    }
   ],
   "source": [
    "sequences_no_duplicated.shape"
   ]
  },
  {
   "cell_type": "code",
   "execution_count": 20,
   "metadata": {},
   "outputs": [],
   "source": [
    "df_concat.to_csv(\"../../process_data/GATSOL_export_data.csv\", index=False)"
   ]
  }
 ],
 "metadata": {
  "kernelspec": {
   "display_name": "amp_class_models",
   "language": "python",
   "name": "python3"
  },
  "language_info": {
   "codemirror_mode": {
    "name": "ipython",
    "version": 3
   },
   "file_extension": ".py",
   "mimetype": "text/x-python",
   "name": "python",
   "nbconvert_exporter": "python",
   "pygments_lexer": "ipython3",
   "version": "3.9.19"
  },
  "orig_nbformat": 4,
  "vscode": {
   "interpreter": {
    "hash": "7083de4b0402f53e7c3ee94a03dce799a26de2893c2a83f7f50740b3282fcfd1"
   }
  }
 },
 "nbformat": 4,
 "nbformat_minor": 2
}
