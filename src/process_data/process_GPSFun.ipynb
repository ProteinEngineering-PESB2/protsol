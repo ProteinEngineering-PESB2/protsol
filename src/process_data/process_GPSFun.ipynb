{
 "cells": [
  {
   "cell_type": "code",
   "execution_count": 1,
   "metadata": {},
   "outputs": [],
   "source": [
    "import pandas as pd"
   ]
  },
  {
   "cell_type": "code",
   "execution_count": 2,
   "metadata": {},
   "outputs": [
    {
     "data": {
      "text/plain": [
       "(11226, 3)"
      ]
     },
     "execution_count": 2,
     "metadata": {},
     "output_type": "execute_result"
    }
   ],
   "source": [
    "df_train = pd.read_csv(\"../../raw_data/GPSFun/solubility_train.csv\")\n",
    "df_train.shape"
   ]
  },
  {
   "cell_type": "code",
   "execution_count": 3,
   "metadata": {},
   "outputs": [
    {
     "data": {
      "text/plain": [
       "(1323, 3)"
      ]
     },
     "execution_count": 3,
     "metadata": {},
     "output_type": "execute_result"
    }
   ],
   "source": [
    "df_test = pd.read_csv(\"../../raw_data/GPSFun/solubility_test.csv\")\n",
    "df_test.shape"
   ]
  },
  {
   "cell_type": "code",
   "execution_count": 4,
   "metadata": {},
   "outputs": [
    {
     "data": {
      "text/html": [
       "<div>\n",
       "<style scoped>\n",
       "    .dataframe tbody tr th:only-of-type {\n",
       "        vertical-align: middle;\n",
       "    }\n",
       "\n",
       "    .dataframe tbody tr th {\n",
       "        vertical-align: top;\n",
       "    }\n",
       "\n",
       "    .dataframe thead th {\n",
       "        text-align: right;\n",
       "    }\n",
       "</style>\n",
       "<table border=\"1\" class=\"dataframe\">\n",
       "  <thead>\n",
       "    <tr style=\"text-align: right;\">\n",
       "      <th></th>\n",
       "      <th>ID</th>\n",
       "      <th>solublility|0=Insoluble|1=Soluble</th>\n",
       "      <th>Sequence</th>\n",
       "    </tr>\n",
       "  </thead>\n",
       "  <tbody>\n",
       "    <tr>\n",
       "      <th>0</th>\n",
       "      <td>AR3338B</td>\n",
       "      <td>0</td>\n",
       "      <td>MSVHKLTDLRDNSTNWKINVKILSIWNHPPNSHGEITTMILHDDKN...</td>\n",
       "    </tr>\n",
       "    <tr>\n",
       "      <th>1</th>\n",
       "      <td>AR3369B</td>\n",
       "      <td>0</td>\n",
       "      <td>ANSIDLIGYVHQPVQFDSTLDGKFWAGTVISHEPSSDSKSESDSSS...</td>\n",
       "    </tr>\n",
       "    <tr>\n",
       "      <th>2</th>\n",
       "      <td>AR3387A</td>\n",
       "      <td>0</td>\n",
       "      <td>SDSLFLSLAKFDVILSGSTNSNILHDVMGQVIDRSEIQDLNANNKP...</td>\n",
       "    </tr>\n",
       "    <tr>\n",
       "      <th>3</th>\n",
       "      <td>AR3433A</td>\n",
       "      <td>1</td>\n",
       "      <td>AAVRKIHVTVKFPSKQFTVEVDRTETVSSLKDKIHIVENTPIKRMQ...</td>\n",
       "    </tr>\n",
       "    <tr>\n",
       "      <th>4</th>\n",
       "      <td>AR3436A</td>\n",
       "      <td>1</td>\n",
       "      <td>GDDSVHLHITHANLKSFSADARFSPQMSVEAVKEKLWKKCGTSVNS...</td>\n",
       "    </tr>\n",
       "  </tbody>\n",
       "</table>\n",
       "</div>"
      ],
      "text/plain": [
       "        ID  solublility|0=Insoluble|1=Soluble  \\\n",
       "0  AR3338B                                  0   \n",
       "1  AR3369B                                  0   \n",
       "2  AR3387A                                  0   \n",
       "3  AR3433A                                  1   \n",
       "4  AR3436A                                  1   \n",
       "\n",
       "                                            Sequence  \n",
       "0  MSVHKLTDLRDNSTNWKINVKILSIWNHPPNSHGEITTMILHDDKN...  \n",
       "1  ANSIDLIGYVHQPVQFDSTLDGKFWAGTVISHEPSSDSKSESDSSS...  \n",
       "2  SDSLFLSLAKFDVILSGSTNSNILHDVMGQVIDRSEIQDLNANNKP...  \n",
       "3  AAVRKIHVTVKFPSKQFTVEVDRTETVSSLKDKIHIVENTPIKRMQ...  \n",
       "4  GDDSVHLHITHANLKSFSADARFSPQMSVEAVKEKLWKKCGTSVNS...  "
      ]
     },
     "execution_count": 4,
     "metadata": {},
     "output_type": "execute_result"
    }
   ],
   "source": [
    "df_test.head(5)"
   ]
  },
  {
   "cell_type": "code",
   "execution_count": 5,
   "metadata": {},
   "outputs": [
    {
     "data": {
      "text/html": [
       "<div>\n",
       "<style scoped>\n",
       "    .dataframe tbody tr th:only-of-type {\n",
       "        vertical-align: middle;\n",
       "    }\n",
       "\n",
       "    .dataframe tbody tr th {\n",
       "        vertical-align: top;\n",
       "    }\n",
       "\n",
       "    .dataframe thead th {\n",
       "        text-align: right;\n",
       "    }\n",
       "</style>\n",
       "<table border=\"1\" class=\"dataframe\">\n",
       "  <thead>\n",
       "    <tr style=\"text-align: right;\">\n",
       "      <th></th>\n",
       "      <th>ID</th>\n",
       "      <th>solublility|0=Insoluble|1=Soluble</th>\n",
       "      <th>Sequence</th>\n",
       "    </tr>\n",
       "  </thead>\n",
       "  <tbody>\n",
       "    <tr>\n",
       "      <th>0</th>\n",
       "      <td>AaCD00331182</td>\n",
       "      <td>1</td>\n",
       "      <td>MTYKDGTYSSDGTYTSPNGLETVGVELTLAADKVSAVNITVHPSNP...</td>\n",
       "    </tr>\n",
       "    <tr>\n",
       "      <th>1</th>\n",
       "      <td>AaCD00331183</td>\n",
       "      <td>1</td>\n",
       "      <td>MTAMNILVLGSDSRGSSDADVEANTATDQRADTLMLVHVPADRKKT...</td>\n",
       "    </tr>\n",
       "    <tr>\n",
       "      <th>2</th>\n",
       "      <td>AaCD00331184</td>\n",
       "      <td>1</td>\n",
       "      <td>MKAEGNTAMNILVLGSDSRGSSDADVEANTATDQRADTLMLVHVPA...</td>\n",
       "    </tr>\n",
       "    <tr>\n",
       "      <th>3</th>\n",
       "      <td>AaCD00331185</td>\n",
       "      <td>1</td>\n",
       "      <td>MQSFNSGSTKIHNAFPEESTRPQKAEGNTAMNILVLGSDSRGSSDA...</td>\n",
       "    </tr>\n",
       "    <tr>\n",
       "      <th>4</th>\n",
       "      <td>AaCD00331621</td>\n",
       "      <td>1</td>\n",
       "      <td>MNAPVKFEYFKNPKNRELTAVELEAFAKELDQIKQEVLDDIGEKDA...</td>\n",
       "    </tr>\n",
       "  </tbody>\n",
       "</table>\n",
       "</div>"
      ],
      "text/plain": [
       "             ID  solublility|0=Insoluble|1=Soluble  \\\n",
       "0  AaCD00331182                                  1   \n",
       "1  AaCD00331183                                  1   \n",
       "2  AaCD00331184                                  1   \n",
       "3  AaCD00331185                                  1   \n",
       "4  AaCD00331621                                  1   \n",
       "\n",
       "                                            Sequence  \n",
       "0  MTYKDGTYSSDGTYTSPNGLETVGVELTLAADKVSAVNITVHPSNP...  \n",
       "1  MTAMNILVLGSDSRGSSDADVEANTATDQRADTLMLVHVPADRKKT...  \n",
       "2  MKAEGNTAMNILVLGSDSRGSSDADVEANTATDQRADTLMLVHVPA...  \n",
       "3  MQSFNSGSTKIHNAFPEESTRPQKAEGNTAMNILVLGSDSRGSSDA...  \n",
       "4  MNAPVKFEYFKNPKNRELTAVELEAFAKELDQIKQEVLDDIGEKDA...  "
      ]
     },
     "execution_count": 5,
     "metadata": {},
     "output_type": "execute_result"
    }
   ],
   "source": [
    "df_train.head(5)"
   ]
  },
  {
   "cell_type": "code",
   "execution_count": 6,
   "metadata": {},
   "outputs": [],
   "source": [
    "df_train.columns = [\"id_seq\", \"response\", \"sequence\"]\n",
    "df_test.columns = [\"id_seq\", \"response\", \"sequence\"]"
   ]
  },
  {
   "cell_type": "code",
   "execution_count": 7,
   "metadata": {},
   "outputs": [
    {
     "data": {
      "text/plain": [
       "1    8342\n",
       "0    4207\n",
       "Name: response, dtype: int64"
      ]
     },
     "execution_count": 7,
     "metadata": {},
     "output_type": "execute_result"
    }
   ],
   "source": [
    "df_concat = pd.concat([df_train, df_test], axis=0)\n",
    "df_concat[\"response\"].value_counts()"
   ]
  },
  {
   "cell_type": "code",
   "execution_count": 8,
   "metadata": {},
   "outputs": [],
   "source": [
    "checking_duplicated = df_concat.groupby(by=[\"sequence\", \"response\"]).count().sort_values(by=\"id_seq\", ascending=False)"
   ]
  },
  {
   "cell_type": "code",
   "execution_count": 9,
   "metadata": {},
   "outputs": [],
   "source": [
    "sequences_no_duplicated = checking_duplicated[checking_duplicated[\"id_seq\"] == 1]\n",
    "sequences_duplicated = checking_duplicated[checking_duplicated[\"id_seq\"] > 1]"
   ]
  },
  {
   "cell_type": "code",
   "execution_count": 10,
   "metadata": {},
   "outputs": [
    {
     "data": {
      "text/plain": [
       "(88, 1)"
      ]
     },
     "execution_count": 10,
     "metadata": {},
     "output_type": "execute_result"
    }
   ],
   "source": [
    "sequences_duplicated.shape"
   ]
  },
  {
   "cell_type": "code",
   "execution_count": 12,
   "metadata": {},
   "outputs": [
    {
     "data": {
      "text/plain": [
       "88"
      ]
     },
     "execution_count": 12,
     "metadata": {},
     "output_type": "execute_result"
    }
   ],
   "source": [
    "unique_duplicated = []\n",
    "\n",
    "for index in sequences_duplicated.index:\n",
    "    unique_duplicated.append(index[0])\n",
    "\n",
    "unique_duplicated = list(set(unique_duplicated))\n",
    "len(unique_duplicated)"
   ]
  },
  {
   "cell_type": "code",
   "execution_count": 13,
   "metadata": {},
   "outputs": [],
   "source": [
    "matrix_data_sequences = []\n",
    "\n",
    "for index in sequences_no_duplicated.index:\n",
    "    row = [\n",
    "        index[0],\n",
    "        index[1]\n",
    "    ]\n",
    "    matrix_data_sequences.append(row)\n",
    "\n",
    "for index in sequences_duplicated.index:\n",
    "    row = [\n",
    "        index[0],\n",
    "        index[1]\n",
    "    ]\n",
    "    matrix_data_sequences.append(row)\n",
    "\n",
    "df_to_export = pd.DataFrame(data=matrix_data_sequences, columns=[\"sequence\", \"response\"])"
   ]
  },
  {
   "cell_type": "code",
   "execution_count": 14,
   "metadata": {},
   "outputs": [
    {
     "data": {
      "text/plain": [
       "1    8256\n",
       "0    4201\n",
       "Name: response, dtype: int64"
      ]
     },
     "execution_count": 14,
     "metadata": {},
     "output_type": "execute_result"
    }
   ],
   "source": [
    "df_to_export[\"response\"].value_counts()"
   ]
  },
  {
   "cell_type": "code",
   "execution_count": 15,
   "metadata": {},
   "outputs": [],
   "source": [
    "df_to_export.to_csv(\"../../process_data/GPSFun_export_data.csv\", index=False)"
   ]
  }
 ],
 "metadata": {
  "kernelspec": {
   "display_name": "amp_class_models",
   "language": "python",
   "name": "python3"
  },
  "language_info": {
   "codemirror_mode": {
    "name": "ipython",
    "version": 3
   },
   "file_extension": ".py",
   "mimetype": "text/x-python",
   "name": "python",
   "nbconvert_exporter": "python",
   "pygments_lexer": "ipython3",
   "version": "3.9.19"
  },
  "orig_nbformat": 4,
  "vscode": {
   "interpreter": {
    "hash": "7083de4b0402f53e7c3ee94a03dce799a26de2893c2a83f7f50740b3282fcfd1"
   }
  }
 },
 "nbformat": 4,
 "nbformat_minor": 2
}
