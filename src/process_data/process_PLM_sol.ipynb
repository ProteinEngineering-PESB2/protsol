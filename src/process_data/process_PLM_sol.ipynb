{
 "cells": [
  {
   "cell_type": "code",
   "execution_count": 1,
   "metadata": {},
   "outputs": [],
   "source": [
    "import pandas as pd\n",
    "from Bio import SeqIO"
   ]
  },
  {
   "cell_type": "code",
   "execution_count": 2,
   "metadata": {},
   "outputs": [],
   "source": [
    "def fasta_to_csv(name_doc):\n",
    "    matrix_data = []\n",
    "\n",
    "    for record in SeqIO.parse(name_doc, \"fasta\"):\n",
    "        id_seq = record.id\n",
    "        class_seq = int(record.description.split(\" \")[-1][-1])\n",
    "        sequence = str(record.seq)\n",
    "        \n",
    "        row = [\n",
    "            id_seq,\n",
    "            sequence,\n",
    "            class_seq\n",
    "        ]\n",
    "\n",
    "        matrix_data.append(row)\n",
    "\n",
    "    df_process = pd.DataFrame(data=matrix_data, columns=[\"id_seq\", \"sequence\", \"response\"])\n",
    "    return df_process"
   ]
  },
  {
   "cell_type": "code",
   "execution_count": 3,
   "metadata": {},
   "outputs": [],
   "source": [
    "name_train = \"../../raw_data/PLM_sol/Train_dataset.fasta\"\n",
    "name_validation = \"../../raw_data/PLM_sol/validation_dataset.fasta\"\n",
    "name_test = \"../../raw_data/PLM_sol/test_dataset.fasta\"\n",
    "\n",
    "df_train = fasta_to_csv(name_train)\n",
    "df_validation = fasta_to_csv(name_validation)\n",
    "df_test = fasta_to_csv(name_validation)"
   ]
  },
  {
   "cell_type": "code",
   "execution_count": 4,
   "metadata": {},
   "outputs": [
    {
     "data": {
      "text/plain": [
       "1    43291\n",
       "0    28053\n",
       "Name: response, dtype: int64"
      ]
     },
     "execution_count": 4,
     "metadata": {},
     "output_type": "execute_result"
    }
   ],
   "source": [
    "df_train[\"response\"].value_counts()"
   ]
  },
  {
   "cell_type": "code",
   "execution_count": 5,
   "metadata": {},
   "outputs": [
    {
     "data": {
      "text/plain": [
       "0    2000\n",
       "1    2000\n",
       "Name: response, dtype: int64"
      ]
     },
     "execution_count": 5,
     "metadata": {},
     "output_type": "execute_result"
    }
   ],
   "source": [
    "df_validation[\"response\"].value_counts()"
   ]
  },
  {
   "cell_type": "code",
   "execution_count": 6,
   "metadata": {},
   "outputs": [
    {
     "data": {
      "text/plain": [
       "0    2000\n",
       "1    2000\n",
       "Name: response, dtype: int64"
      ]
     },
     "execution_count": 6,
     "metadata": {},
     "output_type": "execute_result"
    }
   ],
   "source": [
    "df_test[\"response\"].value_counts()"
   ]
  },
  {
   "cell_type": "code",
   "execution_count": 7,
   "metadata": {},
   "outputs": [
    {
     "data": {
      "text/html": [
       "<div>\n",
       "<style scoped>\n",
       "    .dataframe tbody tr th:only-of-type {\n",
       "        vertical-align: middle;\n",
       "    }\n",
       "\n",
       "    .dataframe tbody tr th {\n",
       "        vertical-align: top;\n",
       "    }\n",
       "\n",
       "    .dataframe thead th {\n",
       "        text-align: right;\n",
       "    }\n",
       "</style>\n",
       "<table border=\"1\" class=\"dataframe\">\n",
       "  <thead>\n",
       "    <tr style=\"text-align: right;\">\n",
       "      <th></th>\n",
       "      <th>id_seq</th>\n",
       "      <th>sequence</th>\n",
       "      <th>response</th>\n",
       "    </tr>\n",
       "  </thead>\n",
       "  <tbody>\n",
       "    <tr>\n",
       "      <th>0</th>\n",
       "      <td>JCSG-368743</td>\n",
       "      <td>MFAQVHYPESLSGEELDEYLFKGWFRNGQRIFTTNFLNFDQKIYSA...</td>\n",
       "      <td>0</td>\n",
       "    </tr>\n",
       "    <tr>\n",
       "      <th>1</th>\n",
       "      <td>SECSG-T14G10.4</td>\n",
       "      <td>MRAPVTFLILCSLALLCSSANNCAWFVGQLQCTDTSKLENVVVEIW...</td>\n",
       "      <td>0</td>\n",
       "    </tr>\n",
       "    <tr>\n",
       "      <th>2</th>\n",
       "      <td>NESG-StR174</td>\n",
       "      <td>MQRNLSHIISQATSAPLLLEPAYARVFFCALGRESGINSLHIPGNN...</td>\n",
       "      <td>0</td>\n",
       "    </tr>\n",
       "    <tr>\n",
       "      <th>3</th>\n",
       "      <td>NESG-RpR95</td>\n",
       "      <td>MNMLRSLSIAAAACCLFVALPARAQDVPPPGIVVRGEAQKSVAPDT...</td>\n",
       "      <td>0</td>\n",
       "    </tr>\n",
       "    <tr>\n",
       "      <th>4</th>\n",
       "      <td>SGPP-Pfal007925AAA</td>\n",
       "      <td>MKYSELFYCFSIWEEAYKYDDMVKGKNKTVGRTSNKFEKVEYNNNN...</td>\n",
       "      <td>0</td>\n",
       "    </tr>\n",
       "    <tr>\n",
       "      <th>...</th>\n",
       "      <td>...</td>\n",
       "      <td>...</td>\n",
       "      <td>...</td>\n",
       "    </tr>\n",
       "    <tr>\n",
       "      <th>3995</th>\n",
       "      <td>MCSG-APC67223.1</td>\n",
       "      <td>AGSVLEIKDTEILKELGSTIGVEIANLHQALNSVNNNNELVKRDLY...</td>\n",
       "      <td>1</td>\n",
       "    </tr>\n",
       "    <tr>\n",
       "      <th>3996</th>\n",
       "      <td>PDB_230301_9167</td>\n",
       "      <td>EVHLVESGGGLVQPGRSLRLSCAASGFTFDDYTMHWVRQAPGKGLE...</td>\n",
       "      <td>1</td>\n",
       "    </tr>\n",
       "    <tr>\n",
       "      <th>3997</th>\n",
       "      <td>EFI-507412</td>\n",
       "      <td>SEITLNYAGPADLDTYGRYRPGDRPGPRYPFQGRIADGTGDFPAES...</td>\n",
       "      <td>1</td>\n",
       "    </tr>\n",
       "    <tr>\n",
       "      <th>3998</th>\n",
       "      <td>SSGCID-TrcrA.01530.a</td>\n",
       "      <td>MFRRCLRLCDFSVLLATFEPFELYGSKDTGICEMVVNNKKNSLNLL...</td>\n",
       "      <td>1</td>\n",
       "    </tr>\n",
       "    <tr>\n",
       "      <th>3999</th>\n",
       "      <td>JCSG-357786</td>\n",
       "      <td>MSFNIGLSGIQAASSGLNVTGNNIANAGTVGFKQSRAEFADVYAAS...</td>\n",
       "      <td>1</td>\n",
       "    </tr>\n",
       "  </tbody>\n",
       "</table>\n",
       "<p>79344 rows × 3 columns</p>\n",
       "</div>"
      ],
      "text/plain": [
       "                    id_seq                                           sequence  \\\n",
       "0              JCSG-368743  MFAQVHYPESLSGEELDEYLFKGWFRNGQRIFTTNFLNFDQKIYSA...   \n",
       "1           SECSG-T14G10.4  MRAPVTFLILCSLALLCSSANNCAWFVGQLQCTDTSKLENVVVEIW...   \n",
       "2              NESG-StR174  MQRNLSHIISQATSAPLLLEPAYARVFFCALGRESGINSLHIPGNN...   \n",
       "3               NESG-RpR95  MNMLRSLSIAAAACCLFVALPARAQDVPPPGIVVRGEAQKSVAPDT...   \n",
       "4       SGPP-Pfal007925AAA  MKYSELFYCFSIWEEAYKYDDMVKGKNKTVGRTSNKFEKVEYNNNN...   \n",
       "...                    ...                                                ...   \n",
       "3995       MCSG-APC67223.1  AGSVLEIKDTEILKELGSTIGVEIANLHQALNSVNNNNELVKRDLY...   \n",
       "3996       PDB_230301_9167  EVHLVESGGGLVQPGRSLRLSCAASGFTFDDYTMHWVRQAPGKGLE...   \n",
       "3997            EFI-507412  SEITLNYAGPADLDTYGRYRPGDRPGPRYPFQGRIADGTGDFPAES...   \n",
       "3998  SSGCID-TrcrA.01530.a  MFRRCLRLCDFSVLLATFEPFELYGSKDTGICEMVVNNKKNSLNLL...   \n",
       "3999           JCSG-357786  MSFNIGLSGIQAASSGLNVTGNNIANAGTVGFKQSRAEFADVYAAS...   \n",
       "\n",
       "      response  \n",
       "0            0  \n",
       "1            0  \n",
       "2            0  \n",
       "3            0  \n",
       "4            0  \n",
       "...        ...  \n",
       "3995         1  \n",
       "3996         1  \n",
       "3997         1  \n",
       "3998         1  \n",
       "3999         1  \n",
       "\n",
       "[79344 rows x 3 columns]"
      ]
     },
     "execution_count": 7,
     "metadata": {},
     "output_type": "execute_result"
    }
   ],
   "source": [
    "df_concat = pd.concat([df_train, df_validation, df_test], axis=0)\n",
    "df_concat"
   ]
  },
  {
   "cell_type": "code",
   "execution_count": 8,
   "metadata": {},
   "outputs": [
    {
     "data": {
      "text/plain": [
       "1    47291\n",
       "0    32053\n",
       "Name: response, dtype: int64"
      ]
     },
     "execution_count": 8,
     "metadata": {},
     "output_type": "execute_result"
    }
   ],
   "source": [
    "df_concat[\"response\"].value_counts()"
   ]
  },
  {
   "cell_type": "code",
   "execution_count": 9,
   "metadata": {},
   "outputs": [],
   "source": [
    "checking_duplicated = df_concat.groupby(by=[\"sequence\", \"response\"]).count().sort_values(by=\"id_seq\", ascending=False)"
   ]
  },
  {
   "cell_type": "code",
   "execution_count": 10,
   "metadata": {},
   "outputs": [
    {
     "data": {
      "text/plain": [
       "(69014, 1)"
      ]
     },
     "execution_count": 10,
     "metadata": {},
     "output_type": "execute_result"
    }
   ],
   "source": [
    "checking_duplicated[checking_duplicated[\"id_seq\"] == 1].shape"
   ]
  },
  {
   "cell_type": "code",
   "execution_count": 11,
   "metadata": {},
   "outputs": [],
   "source": [
    "sequences_no_duplicated = checking_duplicated[checking_duplicated[\"id_seq\"] == 1]\n",
    "sequences_duplicated = checking_duplicated[checking_duplicated[\"id_seq\"] > 1]"
   ]
  },
  {
   "cell_type": "code",
   "execution_count": 13,
   "metadata": {},
   "outputs": [
    {
     "data": {
      "text/plain": [
       "(4000, 1)"
      ]
     },
     "execution_count": 13,
     "metadata": {},
     "output_type": "execute_result"
    }
   ],
   "source": [
    "sequences_duplicated.shape"
   ]
  },
  {
   "cell_type": "code",
   "execution_count": 14,
   "metadata": {},
   "outputs": [
    {
     "data": {
      "text/html": [
       "<div>\n",
       "<style scoped>\n",
       "    .dataframe tbody tr th:only-of-type {\n",
       "        vertical-align: middle;\n",
       "    }\n",
       "\n",
       "    .dataframe tbody tr th {\n",
       "        vertical-align: top;\n",
       "    }\n",
       "\n",
       "    .dataframe thead th {\n",
       "        text-align: right;\n",
       "    }\n",
       "</style>\n",
       "<table border=\"1\" class=\"dataframe\">\n",
       "  <thead>\n",
       "    <tr style=\"text-align: right;\">\n",
       "      <th></th>\n",
       "      <th></th>\n",
       "      <th>id_seq</th>\n",
       "    </tr>\n",
       "    <tr>\n",
       "      <th>sequence</th>\n",
       "      <th>response</th>\n",
       "      <th></th>\n",
       "    </tr>\n",
       "  </thead>\n",
       "  <tbody>\n",
       "    <tr>\n",
       "      <th>GSDSEVNQEAKPEVKPEVKPETHINLKVSDGSSEIFFKIKKTTPLRRLMEAFAKRQGKEMDSLTFLYDGIEIQADQTPEDLDMEDNDIIEAHREQIGGENLYFQSVAHGLAWSYYIGYLRLILPELQARIRTYNQHYNNLLRGAVSQRLYILLPLDCGVPDNLSMADPNIRFLDKLPQQTADRAGIKDRVYSNSIYELLENGQRAGTCVLEYATPLQTLFAMSQYSQAGFSREDRLEQAKLFCQTLEDILADAPESQNNCRLIAYQEPADDSSFSLSQEVLRHLRQEEKEEV</th>\n",
       "      <th>1</th>\n",
       "      <td>3</td>\n",
       "    </tr>\n",
       "    <tr>\n",
       "      <th>MHRGYALVVCSPGVTRTMIDIDDDLLARAAKELGTTTKKDTVHAALRAALRASAARSLMNRMAENATGTQDEALVNAMWRDGHPENTA</th>\n",
       "      <th>0</th>\n",
       "      <td>3</td>\n",
       "    </tr>\n",
       "    <tr>\n",
       "      <th>MHRALIASGLMSRCTLAHRYCSTKPAGDNAKLDDLATAYSQLTLREVSDLQRLIFKKLGHSDEFYEKALLRGLGGGGGAVMMAPAAAAAVAPAADAPAADALKTEKKKVEKLTYDVKLEKFAPEIKIKLIKELRTVTNLSIADAKKAVEKCPGLVATNMSKDDAEKLKELYEKLGAKVELL</th>\n",
       "      <th>0</th>\n",
       "      <td>3</td>\n",
       "    </tr>\n",
       "    <tr>\n",
       "      <th>GPGSMPPTRPEFEAPPDILYNADGAQRYTRSGRVQMVQRAMTRRALELLALPSGCPALLLDVGCGSGLSGEVLRECGHTWIGIDISTDMLGMAKASEELMREDDEKEDEGPIEGVDLRDVRWGPIHDENENENENDDHDSTDGDGNEAEAVLPPGPSIVEVMRGDMGEGLPFRPGAFDGAVSISAVQWLCQSDRRGQVPQRRLRALFQCLYNALRRGAKAAIQFYPANVEQLHMITRAAMLCGFSGGVVVDFPHSTKAKKHYLVVQAGQVAGGFMPPRPLSVCNEGGEEVEEEEECEEEDGEEEGEEENDEGQRFGARVGGRVAHKRSRSHGGRQAGARRRKDNRPVTGTKEWVLLKKAERRKFGLKTSEDTKYTMRRRRPRF</th>\n",
       "      <th>0</th>\n",
       "      <td>3</td>\n",
       "    </tr>\n",
       "    <tr>\n",
       "      <th>GPGSMPQDKRLIVTKAVVHKIQRLHGADTEAAAAEGIFIEFVVPPVVVSQCPDLLTEHVFQLPNRTYPRNGRTTCLIVPRVISRDAFKINKRHGYYDAVVTAEAICKRDAAEAVRRAALVSKTFSHFVVDERIVSKLPPCILAAVTASLPATARERDVVSSSAPGPITQTEKKVGVGKRKGAKLAEPLTTTTTTHVPALPKTSRKCITPLRNLEDRTSLTFRLSQGVLGGVVRVKNMGLLTFRVGHAGMTAGDVCENAKCFIFALKREFPTVWKYIHEFTMTSGVTEPIRFMEVHIRK</th>\n",
       "      <th>0</th>\n",
       "      <td>3</td>\n",
       "    </tr>\n",
       "    <tr>\n",
       "      <th>...</th>\n",
       "      <th>...</th>\n",
       "      <td>...</td>\n",
       "    </tr>\n",
       "    <tr>\n",
       "      <th>MTKRIMFTGGSGKAGRHVVQYLVEQGCQVLNIDTKPLDNPKVRTLITDITDSGQVFNALSSYMGLHEFDPSLRPQPVDAVVHFAAIPRIMITPDNEVFRINAMGTYNVIEAAVKLGIRKVIVASSETTYGLVFANEPRDPKYFPLDEEYDVDPMDSYALSKVVNEKTARAFAQRNGTDIYALRIGNVIEPHEYSLFPKWFADPGFRKRIAWSYIDARDLGQITLRAIEKDGLGYQVFNAANDDTSSDLPTAELLKRFYPNVPVKAALGEYETLLSNRKARDMLGFRPEHSWRKYVK</th>\n",
       "      <th>0</th>\n",
       "      <td>2</td>\n",
       "    </tr>\n",
       "    <tr>\n",
       "      <th>MPVYYNADKKTWYAMFYAKDYKGVNKKYKKTGFKKKKEAQEYEYEFKKKISKSVNMSFNSLYELYFEDYKKRHKPTAINTVETFFRLHILPFFDNIEISKINSYMIREWQNEMLEKKNENGKLFSENSKANIYAALKSMFNWAAKYQGLNENPCKNLGAFGSKKNRSEMKIWSVDDFNKFINLLEIKNKEKNGKYTDAIIIFKILFWTGLRIGEVLALTFDDINLKEKFIDVNKTISHINKKDYITTPKTLGSVRKVILPENLILDLKLYFSKFEKQKISKSERIFNLKKSQLRYILEKCSIQAEVEKIRLHDFRHSHASYLLFIQADITAISKRLGHDNLQTTINTYSHLYKDANKQLMKKLNTNN</th>\n",
       "      <th>0</th>\n",
       "      <td>2</td>\n",
       "    </tr>\n",
       "    <tr>\n",
       "      <th>HHHHHHSSGLVPRGSHMASMTGGQQMGRGSMMTNLQKEFFKRLKIPAKEITFNDLDEILLNMGMILPFENLDIMAGTIKNISKNNLVEKLLIQKRGGLCYELNSLLYYFLMDCGFQVYKVAGTVYDLYDNKWKPDDGHVIIILHHNKKDYVIDAGFASHLPLHPVPFSGEVISSQTGEYRIRKRTTQKGTHILEMRKGANGESTNFLQSEPSDEWKIGYAFTLDPIDEQKVNNIQKVIVEHKESPFNKGAITCKLTNYGHISLTNKNYTETFKGTKNKRPIESKDYARILRESFGITQVKYVGKTLERG</th>\n",
       "      <th>1</th>\n",
       "      <td>2</td>\n",
       "    </tr>\n",
       "    <tr>\n",
       "      <th>MGSMEFVNKQFNYKDPVNGVDIAYIKIPNAGQMQPVKAFKIHNKIWVIPERDTFTNPEEGDLNPPPEAKQVPVSYYDSTYLSTDNEKDNYLKGVTKLFERIYSTDLGRMLLTSIVRGIPFWGGSTIDTELKVIDTNCINVIQPDGSYRSEELNLVIIGPSADIIQFECKSFGHEVLNLTRNGYGSTQYIRFSPDFTFGFEESLEVDTNPLLGAGKFATDPAVTLAHQLIYAGHRLYGIAINPNRVFKVNTNAYYEMSGLEVSFEELRTFGGHDAKFIDSLQENEFRLYYYNKFKDIASTLNKAKSIVGTTASLQYMKNVFKEKYLLSEDTSGKFSVDKLKFDKLYKMLTEIYTEDNFVKFFKVLNRKTYLNFDKAVFKINIVPKVNYTIYDGFNLRNTNLAANFNGQNTEINNMNFTKLKNFTGLFEFYKLLCVDGGGGSGGGGSGGGGSEMDENLEQVSGIIGNLRHMALDMGNEIDTQNRQIDRIMEKADSNKTRIDEANQRATKMLGSGANSALAGGGGSGGGGSGGGGSLQCIKVNNWDLFFSPSEDNFTNDLNKGEEITSDTNIEAAEENISLDLIQQYYLTFNFDNEPENISIENLSSDIIGQLELMPNIERFPNGKKYELDKYTMFHYLRAQEFEHGKSRIALTNSVNEALLNPSRVYTFFSSDYVKKVNKATEAAMFLGWVEQLVYDFTDETSEVSTTDKIADITIIIPYIGPALNIGNMLYKDDFVGALIFSGAVILLEFIPEIAIPVLGTFALVSYIANKVLTVQTIDNALSKRNEKWDEVYKYIVTNWLAKVNTQIDLIRKKMKEALENQAEATKAIINYQYNQYTEEEKNNINFNIDDLSSKLNESINKAMININKFLNQCSVSYLMNSMIPYGVKRLEDFDASLKDALLKYIYDNRGTLIGQVDRLKDKVNNTLSTDIPFQLSKYVDNQRLLSTLEAHHHH</th>\n",
       "      <th>1</th>\n",
       "      <td>2</td>\n",
       "    </tr>\n",
       "    <tr>\n",
       "      <th>MRVELNGILPVCPCSGRGYLDNARLFRQIEPIVRKQSPFMNSRSLLCLLAVSLCASPVWADTVWMKNGDRLSGKIKVFDGGKLLLETPYGGSIALDWKQVQTLESDQEMLVKQDAYSGEKAKSLKAAEAGKVTLANGDSPKTVALASIEQIMKPKPLVEDFVWKGNVDVALDYKRAENDTDDYDVGFKTTARHGRWRHNAEGEYNRETKDDVTTTNNWSAEYALDRFITDKWFWQGRAEYKRDHIEDLARQRTVGTGPGYQFWDDELGAFSLGSLINRTDFEYRDGGKDNFYSAAVKWDYTRYLIGKNVQLFTNGEFAKPLGGVADYSLDAEVGLRYKVTEWASLNLKAEKDIITGTRESDLDKTRYTAGFGVTW</th>\n",
       "      <th>0</th>\n",
       "      <td>2</td>\n",
       "    </tr>\n",
       "  </tbody>\n",
       "</table>\n",
       "<p>4000 rows × 1 columns</p>\n",
       "</div>"
      ],
      "text/plain": [
       "                                                             id_seq\n",
       "sequence                                           response        \n",
       "GSDSEVNQEAKPEVKPEVKPETHINLKVSDGSSEIFFKIKKTTPLRR... 1              3\n",
       "MHRGYALVVCSPGVTRTMIDIDDDLLARAAKELGTTTKKDTVHAALR... 0              3\n",
       "MHRALIASGLMSRCTLAHRYCSTKPAGDNAKLDDLATAYSQLTLREV... 0              3\n",
       "GPGSMPPTRPEFEAPPDILYNADGAQRYTRSGRVQMVQRAMTRRALE... 0              3\n",
       "GPGSMPQDKRLIVTKAVVHKIQRLHGADTEAAAAEGIFIEFVVPPVV... 0              3\n",
       "...                                                             ...\n",
       "MTKRIMFTGGSGKAGRHVVQYLVEQGCQVLNIDTKPLDNPKVRTLIT... 0              2\n",
       "MPVYYNADKKTWYAMFYAKDYKGVNKKYKKTGFKKKKEAQEYEYEFK... 0              2\n",
       "HHHHHHSSGLVPRGSHMASMTGGQQMGRGSMMTNLQKEFFKRLKIPA... 1              2\n",
       "MGSMEFVNKQFNYKDPVNGVDIAYIKIPNAGQMQPVKAFKIHNKIWV... 1              2\n",
       "MRVELNGILPVCPCSGRGYLDNARLFRQIEPIVRKQSPFMNSRSLLC... 0              2\n",
       "\n",
       "[4000 rows x 1 columns]"
      ]
     },
     "execution_count": 14,
     "metadata": {},
     "output_type": "execute_result"
    }
   ],
   "source": [
    "sequences_duplicated"
   ]
  },
  {
   "cell_type": "code",
   "execution_count": 15,
   "metadata": {},
   "outputs": [
    {
     "data": {
      "text/plain": [
       "4000"
      ]
     },
     "execution_count": 15,
     "metadata": {},
     "output_type": "execute_result"
    }
   ],
   "source": [
    "unique_duplicated = []\n",
    "\n",
    "for index in sequences_duplicated.index:\n",
    "    unique_duplicated.append(index[0])\n",
    "\n",
    "unique_duplicated = list(set(unique_duplicated))\n",
    "len(unique_duplicated)"
   ]
  },
  {
   "cell_type": "code",
   "execution_count": 16,
   "metadata": {},
   "outputs": [],
   "source": [
    "matrix_data_sequences = []\n",
    "\n",
    "for index in sequences_no_duplicated.index:\n",
    "    row = [\n",
    "        index[0],\n",
    "        index[1]\n",
    "    ]\n",
    "    matrix_data_sequences.append(row)\n",
    "\n",
    "for index in sequences_duplicated.index:\n",
    "    row = [\n",
    "        index[0],\n",
    "        index[1]\n",
    "    ]\n",
    "    matrix_data_sequences.append(row)\n",
    "\n",
    "df_to_export = pd.DataFrame(data=matrix_data_sequences, columns=[\"sequence\", \"response\"])"
   ]
  },
  {
   "cell_type": "code",
   "execution_count": 17,
   "metadata": {},
   "outputs": [
    {
     "data": {
      "text/plain": [
       "1    44159\n",
       "0    28855\n",
       "Name: response, dtype: int64"
      ]
     },
     "execution_count": 17,
     "metadata": {},
     "output_type": "execute_result"
    }
   ],
   "source": [
    "df_to_export[\"response\"].value_counts()"
   ]
  },
  {
   "cell_type": "code",
   "execution_count": 18,
   "metadata": {},
   "outputs": [],
   "source": [
    "df_to_export.to_csv(\"../../process_data/PLM_sol_export_data.csv\", index=False)"
   ]
  }
 ],
 "metadata": {
  "kernelspec": {
   "display_name": "amp_class_models",
   "language": "python",
   "name": "python3"
  },
  "language_info": {
   "codemirror_mode": {
    "name": "ipython",
    "version": 3
   },
   "file_extension": ".py",
   "mimetype": "text/x-python",
   "name": "python",
   "nbconvert_exporter": "python",
   "pygments_lexer": "ipython3",
   "version": "3.9.19"
  },
  "orig_nbformat": 4,
  "vscode": {
   "interpreter": {
    "hash": "7083de4b0402f53e7c3ee94a03dce799a26de2893c2a83f7f50740b3282fcfd1"
   }
  }
 },
 "nbformat": 4,
 "nbformat_minor": 2
}
