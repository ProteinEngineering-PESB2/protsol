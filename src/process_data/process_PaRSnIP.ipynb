{
 "cells": [
  {
   "cell_type": "code",
   "execution_count": 1,
   "metadata": {},
   "outputs": [],
   "source": [
    "import pandas as pd"
   ]
  },
  {
   "cell_type": "code",
   "execution_count": 3,
   "metadata": {},
   "outputs": [],
   "source": [
    "def read_text(name_doc):\n",
    "    doc_open = open(name_doc, 'r')\n",
    "    matrix_data = []\n",
    "\n",
    "    line = doc_open.readline()\n",
    "\n",
    "    while line:\n",
    "        row = line.replace(\"\\n\", \"\").split(\" \")\n",
    "        row[1] = int(row[1])\n",
    "        matrix_data.append(row)\n",
    "\n",
    "        line = doc_open.readline()\n",
    "    \n",
    "    doc_open.close()\n",
    "\n",
    "    df_data = pd.DataFrame(data=matrix_data, columns=[\"sequence\", \"response\"])\n",
    "    return df_data"
   ]
  },
  {
   "cell_type": "code",
   "execution_count": 4,
   "metadata": {},
   "outputs": [
    {
     "data": {
      "text/html": [
       "<div>\n",
       "<style scoped>\n",
       "    .dataframe tbody tr th:only-of-type {\n",
       "        vertical-align: middle;\n",
       "    }\n",
       "\n",
       "    .dataframe tbody tr th {\n",
       "        vertical-align: top;\n",
       "    }\n",
       "\n",
       "    .dataframe thead th {\n",
       "        text-align: right;\n",
       "    }\n",
       "</style>\n",
       "<table border=\"1\" class=\"dataframe\">\n",
       "  <thead>\n",
       "    <tr style=\"text-align: right;\">\n",
       "      <th></th>\n",
       "      <th>sequence</th>\n",
       "      <th>response</th>\n",
       "    </tr>\n",
       "  </thead>\n",
       "  <tbody>\n",
       "    <tr>\n",
       "      <th>0</th>\n",
       "      <td>MGSDKIHHHHHHVKFRVERDVLAEAVTWTARSLSPRPPVPVLSGLL...</td>\n",
       "      <td>0</td>\n",
       "    </tr>\n",
       "    <tr>\n",
       "      <th>1</th>\n",
       "      <td>MGSDKIHHHHHHMRVLAIRHVEIEDLGMMEDIFREKNWSFDYLDTP...</td>\n",
       "      <td>0</td>\n",
       "    </tr>\n",
       "    <tr>\n",
       "      <th>2</th>\n",
       "      <td>MGSDKIHHHHHHMTSPVENVKKKPRPLALSPSRAGDYQQCPLLYRF...</td>\n",
       "      <td>0</td>\n",
       "    </tr>\n",
       "    <tr>\n",
       "      <th>3</th>\n",
       "      <td>MTHYKDDSYALHTDLYQINMAYTYWKDGIHNRRSVFDLYFRKLPFE...</td>\n",
       "      <td>0</td>\n",
       "    </tr>\n",
       "    <tr>\n",
       "      <th>4</th>\n",
       "      <td>MGSDKIHHHHHHMVKCIEEYVQVDDFKMYSKVFQGKKLQPVIIMEA...</td>\n",
       "      <td>0</td>\n",
       "    </tr>\n",
       "  </tbody>\n",
       "</table>\n",
       "</div>"
      ],
      "text/plain": [
       "                                            sequence  response\n",
       "0  MGSDKIHHHHHHVKFRVERDVLAEAVTWTARSLSPRPPVPVLSGLL...         0\n",
       "1  MGSDKIHHHHHHMRVLAIRHVEIEDLGMMEDIFREKNWSFDYLDTP...         0\n",
       "2  MGSDKIHHHHHHMTSPVENVKKKPRPLALSPSRAGDYQQCPLLYRF...         0\n",
       "3  MTHYKDDSYALHTDLYQINMAYTYWKDGIHNRRSVFDLYFRKLPFE...         0\n",
       "4  MGSDKIHHHHHHMVKCIEEYVQVDDFKMYSKVFQGKKLQPVIIMEA...         0"
      ]
     },
     "execution_count": 4,
     "metadata": {},
     "output_type": "execute_result"
    }
   ],
   "source": [
    "df_train = read_text(\"../../raw_data/PaRSnIP/Training_set.txt\")\n",
    "df_train.head(5)"
   ]
  },
  {
   "cell_type": "code",
   "execution_count": 5,
   "metadata": {},
   "outputs": [
    {
     "data": {
      "text/html": [
       "<div>\n",
       "<style scoped>\n",
       "    .dataframe tbody tr th:only-of-type {\n",
       "        vertical-align: middle;\n",
       "    }\n",
       "\n",
       "    .dataframe tbody tr th {\n",
       "        vertical-align: top;\n",
       "    }\n",
       "\n",
       "    .dataframe thead th {\n",
       "        text-align: right;\n",
       "    }\n",
       "</style>\n",
       "<table border=\"1\" class=\"dataframe\">\n",
       "  <thead>\n",
       "    <tr style=\"text-align: right;\">\n",
       "      <th></th>\n",
       "      <th>sequence</th>\n",
       "      <th>response</th>\n",
       "    </tr>\n",
       "  </thead>\n",
       "  <tbody>\n",
       "    <tr>\n",
       "      <th>0</th>\n",
       "      <td>MLSVRIAAAVARALPRRAGLVSKNALGSSFVGTRNLHASNTRLQKT...</td>\n",
       "      <td>1</td>\n",
       "    </tr>\n",
       "    <tr>\n",
       "      <th>1</th>\n",
       "      <td>MDHMISENGETSAEGSICGYDSLHQLLSANLKPELYQEVNRLLLGR...</td>\n",
       "      <td>1</td>\n",
       "    </tr>\n",
       "    <tr>\n",
       "      <th>2</th>\n",
       "      <td>MLSASANMAAALRAAGALLREPLVHGSSRACQPWRCQSGAAVAATT...</td>\n",
       "      <td>1</td>\n",
       "    </tr>\n",
       "    <tr>\n",
       "      <th>3</th>\n",
       "      <td>MANMLVASSSKTLPTTTTTTITPKPKFPLLKTPLLKLSPPQLPPLK...</td>\n",
       "      <td>1</td>\n",
       "    </tr>\n",
       "    <tr>\n",
       "      <th>4</th>\n",
       "      <td>MAVVSTSLASQITNPNSAVSTQFSGLRRSFLKLENSVSTQSSFFQN...</td>\n",
       "      <td>1</td>\n",
       "    </tr>\n",
       "  </tbody>\n",
       "</table>\n",
       "</div>"
      ],
      "text/plain": [
       "                                            sequence  response\n",
       "0  MLSVRIAAAVARALPRRAGLVSKNALGSSFVGTRNLHASNTRLQKT...         1\n",
       "1  MDHMISENGETSAEGSICGYDSLHQLLSANLKPELYQEVNRLLLGR...         1\n",
       "2  MLSASANMAAALRAAGALLREPLVHGSSRACQPWRCQSGAAVAATT...         1\n",
       "3  MANMLVASSSKTLPTTTTTTITPKPKFPLLKTPLLKLSPPQLPPLK...         1\n",
       "4  MAVVSTSLASQITNPNSAVSTQFSGLRRSFLKLENSVSTQSSFFQN...         1"
      ]
     },
     "execution_count": 5,
     "metadata": {},
     "output_type": "execute_result"
    }
   ],
   "source": [
    "df_test = read_text(\"../../raw_data/PaRSnIP/Test_set.txt\")\n",
    "df_test.head(5)"
   ]
  },
  {
   "cell_type": "code",
   "execution_count": 6,
   "metadata": {},
   "outputs": [
    {
     "data": {
      "text/plain": [
       "(71421, 3)"
      ]
     },
     "execution_count": 6,
     "metadata": {},
     "output_type": "execute_result"
    }
   ],
   "source": [
    "df_concat = pd.concat([df_train, df_test], axis=0)\n",
    "df_concat[\"id_seq\"] = [i for i in range(len(df_concat))]\n",
    "df_concat.shape"
   ]
  },
  {
   "cell_type": "code",
   "execution_count": 7,
   "metadata": {},
   "outputs": [],
   "source": [
    "checking_duplicated = df_concat.groupby(by=[\"sequence\", \"response\"]).count().sort_values(by=\"id_seq\", ascending=False)"
   ]
  },
  {
   "cell_type": "code",
   "execution_count": 8,
   "metadata": {},
   "outputs": [],
   "source": [
    "sequences_no_duplicated = checking_duplicated[checking_duplicated[\"id_seq\"] == 1]\n",
    "sequences_duplicated = checking_duplicated[checking_duplicated[\"id_seq\"] > 1]"
   ]
  },
  {
   "cell_type": "code",
   "execution_count": 9,
   "metadata": {},
   "outputs": [
    {
     "data": {
      "text/plain": [
       "(0, 1)"
      ]
     },
     "execution_count": 9,
     "metadata": {},
     "output_type": "execute_result"
    }
   ],
   "source": [
    "sequences_duplicated.shape"
   ]
  },
  {
   "cell_type": "code",
   "execution_count": 10,
   "metadata": {},
   "outputs": [],
   "source": [
    "df_concat.to_csv(\"../../process_data/PaRSnIP_export_data.csv\", index=False)"
   ]
  }
 ],
 "metadata": {
  "kernelspec": {
   "display_name": "amp_class_models",
   "language": "python",
   "name": "python3"
  },
  "language_info": {
   "codemirror_mode": {
    "name": "ipython",
    "version": 3
   },
   "file_extension": ".py",
   "mimetype": "text/x-python",
   "name": "python",
   "nbconvert_exporter": "python",
   "pygments_lexer": "ipython3",
   "version": "3.9.19"
  },
  "orig_nbformat": 4,
  "vscode": {
   "interpreter": {
    "hash": "7083de4b0402f53e7c3ee94a03dce799a26de2893c2a83f7f50740b3282fcfd1"
   }
  }
 },
 "nbformat": 4,
 "nbformat_minor": 2
}
