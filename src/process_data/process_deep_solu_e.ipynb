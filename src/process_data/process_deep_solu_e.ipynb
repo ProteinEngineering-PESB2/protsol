{
 "cells": [
  {
   "cell_type": "code",
   "execution_count": 1,
   "metadata": {},
   "outputs": [],
   "source": [
    "import pandas as pd\n",
    "from Bio import SeqIO"
   ]
  },
  {
   "cell_type": "code",
   "execution_count": 4,
   "metadata": {},
   "outputs": [],
   "source": [
    "def fasta_to_csv(name_doc):\n",
    "    matrix_data = []\n",
    "\n",
    "    for record in SeqIO.parse(name_doc, \"fasta\"):\n",
    "        id_seq = record.id.split(\"|\")[0]\n",
    "        response = int(record.id.split(\"|\")[1])\n",
    "\n",
    "        row = [\n",
    "            id_seq,\n",
    "            str(record.seq),\n",
    "            response\n",
    "        ]\n",
    "        matrix_data.append(row)\n",
    "    \n",
    "    df_data = pd.DataFrame(data=matrix_data, columns=[\"id_seq\", \"sequence\", \"response\"])\n",
    "    return df_data"
   ]
  },
  {
   "cell_type": "code",
   "execution_count": 5,
   "metadata": {},
   "outputs": [
    {
     "data": {
      "text/html": [
       "<div>\n",
       "<style scoped>\n",
       "    .dataframe tbody tr th:only-of-type {\n",
       "        vertical-align: middle;\n",
       "    }\n",
       "\n",
       "    .dataframe tbody tr th {\n",
       "        vertical-align: top;\n",
       "    }\n",
       "\n",
       "    .dataframe thead th {\n",
       "        text-align: right;\n",
       "    }\n",
       "</style>\n",
       "<table border=\"1\" class=\"dataframe\">\n",
       "  <thead>\n",
       "    <tr style=\"text-align: right;\">\n",
       "      <th></th>\n",
       "      <th>id_seq</th>\n",
       "      <th>sequence</th>\n",
       "      <th>response</th>\n",
       "    </tr>\n",
       "  </thead>\n",
       "  <tbody>\n",
       "    <tr>\n",
       "      <th>0</th>\n",
       "      <td>131111</td>\n",
       "      <td>MGSVRKASAWLGLVDDNDDERYYDDDYAEGQESGEAWVTDPRVKVA...</td>\n",
       "      <td>1</td>\n",
       "    </tr>\n",
       "    <tr>\n",
       "      <th>1</th>\n",
       "      <td>73655</td>\n",
       "      <td>MFDGISLTEHQRQQMRDLMQQARHEQPPVNVSELETMHRLVTAENF...</td>\n",
       "      <td>1</td>\n",
       "    </tr>\n",
       "    <tr>\n",
       "      <th>2</th>\n",
       "      <td>50865</td>\n",
       "      <td>MTQEIDIGKYHQLALQKQKEHRKFLATLKKKAPKNLDKIVQEVHTE...</td>\n",
       "      <td>1</td>\n",
       "    </tr>\n",
       "    <tr>\n",
       "      <th>3</th>\n",
       "      <td>127577</td>\n",
       "      <td>MAQRSEIPHFPRTAAIDAYGKGGFYFADMSHQGSLLFLPDAVWGWD...</td>\n",
       "      <td>1</td>\n",
       "    </tr>\n",
       "    <tr>\n",
       "      <th>4</th>\n",
       "      <td>7144</td>\n",
       "      <td>MITDEEIRKVIAPLLLSGAKMLDKHCPKCGSPLFEKDGRVFCPVCE...</td>\n",
       "      <td>1</td>\n",
       "    </tr>\n",
       "  </tbody>\n",
       "</table>\n",
       "</div>"
      ],
      "text/plain": [
       "   id_seq                                           sequence  response\n",
       "0  131111  MGSVRKASAWLGLVDDNDDERYYDDDYAEGQESGEAWVTDPRVKVA...         1\n",
       "1   73655  MFDGISLTEHQRQQMRDLMQQARHEQPPVNVSELETMHRLVTAENF...         1\n",
       "2   50865  MTQEIDIGKYHQLALQKQKEHRKFLATLKKKAPKNLDKIVQEVHTE...         1\n",
       "3  127577  MAQRSEIPHFPRTAAIDAYGKGGFYFADMSHQGSLLFLPDAVWGWD...         1\n",
       "4    7144  MITDEEIRKVIAPLLLSGAKMLDKHCPKCGSPLFEKDGRVFCPVCE...         1"
      ]
     },
     "execution_count": 5,
     "metadata": {},
     "output_type": "execute_result"
    }
   ],
   "source": [
    "df_test = fasta_to_csv(\"../../raw_data/DeepSoluE/testing.fasta\")\n",
    "df_test.head(5)"
   ]
  },
  {
   "cell_type": "code",
   "execution_count": 6,
   "metadata": {},
   "outputs": [
    {
     "data": {
      "text/html": [
       "<div>\n",
       "<style scoped>\n",
       "    .dataframe tbody tr th:only-of-type {\n",
       "        vertical-align: middle;\n",
       "    }\n",
       "\n",
       "    .dataframe tbody tr th {\n",
       "        vertical-align: top;\n",
       "    }\n",
       "\n",
       "    .dataframe thead th {\n",
       "        text-align: right;\n",
       "    }\n",
       "</style>\n",
       "<table border=\"1\" class=\"dataframe\">\n",
       "  <thead>\n",
       "    <tr style=\"text-align: right;\">\n",
       "      <th></th>\n",
       "      <th>id_seq</th>\n",
       "      <th>sequence</th>\n",
       "      <th>response</th>\n",
       "    </tr>\n",
       "  </thead>\n",
       "  <tbody>\n",
       "    <tr>\n",
       "      <th>0</th>\n",
       "      <td>97522</td>\n",
       "      <td>MRSSNNRHEGEEAMNRTQQWMEDLQKNISDLIARSPAADVERNVRA...</td>\n",
       "      <td>1</td>\n",
       "    </tr>\n",
       "    <tr>\n",
       "      <th>1</th>\n",
       "      <td>198988</td>\n",
       "      <td>MKTFSAILPLCFLFAVETAVAQEGNFKAGTYSAARQGIGGDVTVTL...</td>\n",
       "      <td>1</td>\n",
       "    </tr>\n",
       "    <tr>\n",
       "      <th>2</th>\n",
       "      <td>58879</td>\n",
       "      <td>QQVMYSNLKELVENRGDTVTTLKIEKRTKNQIYLMGGADYRITVDD...</td>\n",
       "      <td>1</td>\n",
       "    </tr>\n",
       "    <tr>\n",
       "      <th>3</th>\n",
       "      <td>44629</td>\n",
       "      <td>MNNQQIEDDLTYKIIGCAMKVHTTLGNGFQEVIYQRALAIEMKKAD...</td>\n",
       "      <td>1</td>\n",
       "    </tr>\n",
       "    <tr>\n",
       "      <th>4</th>\n",
       "      <td>93183</td>\n",
       "      <td>MGHVVKVALLGLGEVGEKFAEHFLEKIQEDRANVEIVAVAHRDLES...</td>\n",
       "      <td>1</td>\n",
       "    </tr>\n",
       "  </tbody>\n",
       "</table>\n",
       "</div>"
      ],
      "text/plain": [
       "   id_seq                                           sequence  response\n",
       "0   97522  MRSSNNRHEGEEAMNRTQQWMEDLQKNISDLIARSPAADVERNVRA...         1\n",
       "1  198988  MKTFSAILPLCFLFAVETAVAQEGNFKAGTYSAARQGIGGDVTVTL...         1\n",
       "2   58879  QQVMYSNLKELVENRGDTVTTLKIEKRTKNQIYLMGGADYRITVDD...         1\n",
       "3   44629  MNNQQIEDDLTYKIIGCAMKVHTTLGNGFQEVIYQRALAIEMKKAD...         1\n",
       "4   93183  MGHVVKVALLGLGEVGEKFAEHFLEKIQEDRANVEIVAVAHRDLES...         1"
      ]
     },
     "execution_count": 6,
     "metadata": {},
     "output_type": "execute_result"
    }
   ],
   "source": [
    "df_train = fasta_to_csv(\"../../raw_data/DeepSoluE/training.fasta\")\n",
    "df_train.head(5)"
   ]
  },
  {
   "cell_type": "code",
   "execution_count": 7,
   "metadata": {},
   "outputs": [
    {
     "data": {
      "text/plain": [
       "(14536, 3)"
      ]
     },
     "execution_count": 7,
     "metadata": {},
     "output_type": "execute_result"
    }
   ],
   "source": [
    "df_concat = pd.concat([df_test, df_train], axis=0)\n",
    "df_concat.shape"
   ]
  },
  {
   "cell_type": "code",
   "execution_count": 8,
   "metadata": {},
   "outputs": [],
   "source": [
    "checking_duplicated = df_concat.groupby(by=[\"sequence\", \"response\"]).count().sort_values(by=\"id_seq\", ascending=False)"
   ]
  },
  {
   "cell_type": "code",
   "execution_count": 9,
   "metadata": {},
   "outputs": [],
   "source": [
    "sequences_no_duplicated = checking_duplicated[checking_duplicated[\"id_seq\"] == 1]\n",
    "sequences_duplicated = checking_duplicated[checking_duplicated[\"id_seq\"] > 1]"
   ]
  },
  {
   "cell_type": "code",
   "execution_count": 10,
   "metadata": {},
   "outputs": [
    {
     "data": {
      "text/plain": [
       "(0, 1)"
      ]
     },
     "execution_count": 10,
     "metadata": {},
     "output_type": "execute_result"
    }
   ],
   "source": [
    "sequences_duplicated.shape"
   ]
  },
  {
   "cell_type": "code",
   "execution_count": 11,
   "metadata": {},
   "outputs": [],
   "source": [
    "df_concat.to_csv(\"../../process_data/deep_solu_e_export_data.csv\", index=False)"
   ]
  }
 ],
 "metadata": {
  "kernelspec": {
   "display_name": "amp_class_models",
   "language": "python",
   "name": "python3"
  },
  "language_info": {
   "codemirror_mode": {
    "name": "ipython",
    "version": 3
   },
   "file_extension": ".py",
   "mimetype": "text/x-python",
   "name": "python",
   "nbconvert_exporter": "python",
   "pygments_lexer": "ipython3",
   "version": "3.9.19"
  },
  "orig_nbformat": 4,
  "vscode": {
   "interpreter": {
    "hash": "7083de4b0402f53e7c3ee94a03dce799a26de2893c2a83f7f50740b3282fcfd1"
   }
  }
 },
 "nbformat": 4,
 "nbformat_minor": 2
}
