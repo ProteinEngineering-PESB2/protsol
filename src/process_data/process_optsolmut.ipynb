{
 "cells": [
  {
   "cell_type": "code",
   "execution_count": 1,
   "metadata": {},
   "outputs": [],
   "source": [
    "import pandas as pd"
   ]
  },
  {
   "cell_type": "code",
   "execution_count": 2,
   "metadata": {},
   "outputs": [
    {
     "data": {
      "text/html": [
       "<div>\n",
       "<style scoped>\n",
       "    .dataframe tbody tr th:only-of-type {\n",
       "        vertical-align: middle;\n",
       "    }\n",
       "\n",
       "    .dataframe tbody tr th {\n",
       "        vertical-align: top;\n",
       "    }\n",
       "\n",
       "    .dataframe thead th {\n",
       "        text-align: right;\n",
       "    }\n",
       "</style>\n",
       "<table border=\"1\" class=\"dataframe\">\n",
       "  <thead>\n",
       "    <tr style=\"text-align: right;\">\n",
       "      <th></th>\n",
       "      <th>PUB #</th>\n",
       "      <th>Article title</th>\n",
       "      <th>Protein</th>\n",
       "      <th>PDB</th>\n",
       "      <th>Mutations(s)</th>\n",
       "      <th>WT / MT Soluble?</th>\n",
       "      <th>Mutant Solubility</th>\n",
       "      <th>LP score (LOO)</th>\n",
       "      <th>Prediction</th>\n",
       "      <th>Stability</th>\n",
       "    </tr>\n",
       "  </thead>\n",
       "  <tbody>\n",
       "    <tr>\n",
       "      <th>0</th>\n",
       "      <td>1</td>\n",
       "      <td>Improving protein solubility through rationall...</td>\n",
       "      <td>UMP-kinase</td>\n",
       "      <td>2BND A</td>\n",
       "      <td>1 159 ASP</td>\n",
       "      <td>sol / no info</td>\n",
       "      <td>Increased</td>\n",
       "      <td>-7.06705</td>\n",
       "      <td>Decreased</td>\n",
       "      <td>NaN</td>\n",
       "    </tr>\n",
       "    <tr>\n",
       "      <th>1</th>\n",
       "      <td>2</td>\n",
       "      <td>Amino Acid Contribution to Protein Solubility:...</td>\n",
       "      <td>Rnase Sa</td>\n",
       "      <td>1RGG A</td>\n",
       "      <td>1 76 ALA</td>\n",
       "      <td>sol / sol</td>\n",
       "      <td>Increased</td>\n",
       "      <td>1.48664</td>\n",
       "      <td>Increased</td>\n",
       "      <td>increased</td>\n",
       "    </tr>\n",
       "    <tr>\n",
       "      <th>2</th>\n",
       "      <td>2</td>\n",
       "      <td>Amino Acid Contribution to Protein Solubility:...</td>\n",
       "      <td>Rnase Sa</td>\n",
       "      <td>1RGG A</td>\n",
       "      <td>1 76 ARG</td>\n",
       "      <td>sol / sol</td>\n",
       "      <td>Increased</td>\n",
       "      <td>0.26610</td>\n",
       "      <td>Increased</td>\n",
       "      <td>increased</td>\n",
       "    </tr>\n",
       "    <tr>\n",
       "      <th>3</th>\n",
       "      <td>2</td>\n",
       "      <td>Amino Acid Contribution to Protein Solubility:...</td>\n",
       "      <td>Rnase Sa</td>\n",
       "      <td>1RGG A</td>\n",
       "      <td>1 76 ASN</td>\n",
       "      <td>sol / sol</td>\n",
       "      <td>Increased</td>\n",
       "      <td>1.63105</td>\n",
       "      <td>Increased</td>\n",
       "      <td>increased</td>\n",
       "    </tr>\n",
       "    <tr>\n",
       "      <th>4</th>\n",
       "      <td>2</td>\n",
       "      <td>Amino Acid Contribution to Protein Solubility:...</td>\n",
       "      <td>Rnase Sa</td>\n",
       "      <td>1RGG A</td>\n",
       "      <td>1 76 ASP</td>\n",
       "      <td>sol / sol</td>\n",
       "      <td>Increased</td>\n",
       "      <td>-0.93833</td>\n",
       "      <td>Decreased</td>\n",
       "      <td>increased</td>\n",
       "    </tr>\n",
       "  </tbody>\n",
       "</table>\n",
       "</div>"
      ],
      "text/plain": [
       "   PUB #                                      Article title     Protein  \\\n",
       "0      1  Improving protein solubility through rationall...  UMP-kinase   \n",
       "1      2  Amino Acid Contribution to Protein Solubility:...    Rnase Sa   \n",
       "2      2  Amino Acid Contribution to Protein Solubility:...    Rnase Sa   \n",
       "3      2  Amino Acid Contribution to Protein Solubility:...    Rnase Sa   \n",
       "4      2  Amino Acid Contribution to Protein Solubility:...    Rnase Sa   \n",
       "\n",
       "      PDB Mutations(s) WT / MT Soluble? Mutant Solubility  LP score (LOO)  \\\n",
       "0  2BND A    1 159 ASP    sol / no info         Increased        -7.06705   \n",
       "1  1RGG A     1 76 ALA        sol / sol         Increased         1.48664   \n",
       "2  1RGG A     1 76 ARG        sol / sol         Increased         0.26610   \n",
       "3  1RGG A     1 76 ASN        sol / sol         Increased         1.63105   \n",
       "4  1RGG A     1 76 ASP        sol / sol         Increased        -0.93833   \n",
       "\n",
       "  Prediction  Stability  \n",
       "0  Decreased        NaN  \n",
       "1  Increased  increased  \n",
       "2  Increased  increased  \n",
       "3  Increased  increased  \n",
       "4  Decreased  increased  "
      ]
     },
     "execution_count": 2,
     "metadata": {},
     "output_type": "execute_result"
    }
   ],
   "source": [
    "df_data = pd.read_excel(\"../../raw_data/optsolmut/OptSolMut.XLS\")\n",
    "df_data.head(5)"
   ]
  },
  {
   "cell_type": "code",
   "execution_count": 3,
   "metadata": {},
   "outputs": [
    {
     "data": {
      "text/plain": [
       "(137, 10)"
      ]
     },
     "execution_count": 3,
     "metadata": {},
     "output_type": "execute_result"
    }
   ],
   "source": [
    "df_data.shape"
   ]
  }
 ],
 "metadata": {
  "kernelspec": {
   "display_name": "amp_class_models",
   "language": "python",
   "name": "python3"
  },
  "language_info": {
   "codemirror_mode": {
    "name": "ipython",
    "version": 3
   },
   "file_extension": ".py",
   "mimetype": "text/x-python",
   "name": "python",
   "nbconvert_exporter": "python",
   "pygments_lexer": "ipython3",
   "version": "3.9.19"
  },
  "orig_nbformat": 4,
  "vscode": {
   "interpreter": {
    "hash": "7083de4b0402f53e7c3ee94a03dce799a26de2893c2a83f7f50740b3282fcfd1"
   }
  }
 },
 "nbformat": 4,
 "nbformat_minor": 2
}
