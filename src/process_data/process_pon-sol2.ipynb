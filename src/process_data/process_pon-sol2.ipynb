{
 "cells": [
  {
   "cell_type": "code",
   "execution_count": 1,
   "metadata": {},
   "outputs": [],
   "source": [
    "import pandas as pd"
   ]
  },
  {
   "cell_type": "code",
   "execution_count": 18,
   "metadata": {},
   "outputs": [],
   "source": [
    "def make_mutation(sequence, mutation):\n",
    "    wild_residue = mutation[0]\n",
    "    mutation_residue = mutation[-1]\n",
    "    position = int(mutation[1:-1])\n",
    "       \n",
    "    sequence = [residue for residue in sequence]\n",
    "    if sequence[position-1] == wild_residue:\n",
    "        sequence[position-1] = mutation_residue\n",
    "        sequence = \"\".join(map(str, sequence))\n",
    "        return True, sequence\n",
    "    else:\n",
    "        return False, []"
   ]
  },
  {
   "cell_type": "code",
   "execution_count": 22,
   "metadata": {},
   "outputs": [],
   "source": [
    "def produce_df_sequences(df_mutations, df_sequences):\n",
    "    matrix_data = []\n",
    "    matrix_data_error = []\n",
    "\n",
    "    for index in df_mutations.index:\n",
    "        variation = df_mutations[\"variation\"][index]\n",
    "        gi = df_mutations[\"gi\"][index]\n",
    "        response = df_mutations[\"solubility\"][index]\n",
    "\n",
    "        filter_data = df_sequences[df_sequences[\"gi\"] == gi]\n",
    "        if len(filter_data)>0:\n",
    "            filter_data.reset_index(inplace=True)\n",
    "            sequence = filter_data[\"seq\"][0]\n",
    "            response_check_seq = make_mutation(sequence, variation)\n",
    "            if response_check_seq[0]:\n",
    "                row = [\n",
    "                    gi,\n",
    "                    variation,\n",
    "                    sequence,\n",
    "                    response\n",
    "                ]\n",
    "                matrix_data.append(row)\n",
    "            else:\n",
    "                matrix_data_error.append([gi, variation, \"Not Found mutation\"])\n",
    "        else:\n",
    "            matrix_data_error.append([gi, variation, \"Not Found gi\"])\n",
    "\n",
    "    df_process_sequences = pd.DataFrame(data=matrix_data, columns=[\"gi\", \"variation\", \"sequence\", \"response\"])\n",
    "    df_process_sequences_error = pd.DataFrame(data=matrix_data_error, columns=[\"gi\", \"variation\", \"type_error\"])\n",
    "\n",
    "    return df_process_sequences, df_process_sequences_error\n"
   ]
  },
  {
   "cell_type": "code",
   "execution_count": 2,
   "metadata": {},
   "outputs": [
    {
     "data": {
      "text/html": [
       "<div>\n",
       "<style scoped>\n",
       "    .dataframe tbody tr th:only-of-type {\n",
       "        vertical-align: middle;\n",
       "    }\n",
       "\n",
       "    .dataframe tbody tr th {\n",
       "        vertical-align: top;\n",
       "    }\n",
       "\n",
       "    .dataframe thead th {\n",
       "        text-align: right;\n",
       "    }\n",
       "</style>\n",
       "<table border=\"1\" class=\"dataframe\">\n",
       "  <thead>\n",
       "    <tr style=\"text-align: right;\">\n",
       "      <th></th>\n",
       "      <th>num</th>\n",
       "      <th>gi</th>\n",
       "      <th>name</th>\n",
       "      <th>seq</th>\n",
       "    </tr>\n",
       "  </thead>\n",
       "  <tbody>\n",
       "    <tr>\n",
       "      <th>0</th>\n",
       "      <td>0</td>\n",
       "      <td>109731493</td>\n",
       "      <td>&gt;AAI14500.1 Tryptophan hydroxylase 2 [Homo sap...</td>\n",
       "      <td>MQPAMMMFSSKYWARRGFSLDSAVPEEHQLLGSSTLNKPNSGKNDD...</td>\n",
       "    </tr>\n",
       "    <tr>\n",
       "      <th>1</th>\n",
       "      <td>1</td>\n",
       "      <td>11133565</td>\n",
       "      <td>&gt;sp|Q9NPJ1.1|MKKS_HUMAN RecName: Full=McKusick...</td>\n",
       "      <td>MSRLEAKKPSLCKSEPLTTERVRTTLSVLKRIVTSCYGPSGRLKQL...</td>\n",
       "    </tr>\n",
       "    <tr>\n",
       "      <th>2</th>\n",
       "      <td>2</td>\n",
       "      <td>116242717</td>\n",
       "      <td>&gt;sp|Q13563.3|PKD2_HUMAN RecName: Full=Polycyst...</td>\n",
       "      <td>MVNSSRVQPQQPGDAKRPPAPRAPDPGRLMAGCAAVGASLAAPGGL...</td>\n",
       "    </tr>\n",
       "    <tr>\n",
       "      <th>3</th>\n",
       "      <td>3</td>\n",
       "      <td>116666949</td>\n",
       "      <td>&gt;pdb|2CY8|A Chain A, D-phenylglycine Aminotran...</td>\n",
       "      <td>MSILNDYKRKTEGSVFWAQRARSVMPDGVTADTRAFDPHGLFISDA...</td>\n",
       "    </tr>\n",
       "    <tr>\n",
       "      <th>4</th>\n",
       "      <td>4</td>\n",
       "      <td>117391</td>\n",
       "      <td>&gt;sp|P12271.2|RLBP1_HUMAN RecName: Full=Retinal...</td>\n",
       "      <td>MSEGVGTFRMVPEEEQELRAQLEQLTTKDHGPVFGPCSQLPRHTLQ...</td>\n",
       "    </tr>\n",
       "  </tbody>\n",
       "</table>\n",
       "</div>"
      ],
      "text/plain": [
       "   num         gi                                               name  \\\n",
       "0    0  109731493  >AAI14500.1 Tryptophan hydroxylase 2 [Homo sap...   \n",
       "1    1   11133565  >sp|Q9NPJ1.1|MKKS_HUMAN RecName: Full=McKusick...   \n",
       "2    2  116242717  >sp|Q13563.3|PKD2_HUMAN RecName: Full=Polycyst...   \n",
       "3    3  116666949  >pdb|2CY8|A Chain A, D-phenylglycine Aminotran...   \n",
       "4    4     117391  >sp|P12271.2|RLBP1_HUMAN RecName: Full=Retinal...   \n",
       "\n",
       "                                                 seq  \n",
       "0  MQPAMMMFSSKYWARRGFSLDSAVPEEHQLLGSSTLNKPNSGKNDD...  \n",
       "1  MSRLEAKKPSLCKSEPLTTERVRTTLSVLKRIVTSCYGPSGRLKQL...  \n",
       "2  MVNSSRVQPQQPGDAKRPPAPRAPDPGRLMAGCAAVGASLAAPGGL...  \n",
       "3  MSILNDYKRKTEGSVFWAQRARSVMPDGVTADTRAFDPHGLFISDA...  \n",
       "4  MSEGVGTFRMVPEEEQELRAQLEQLTTKDHGPVFGPCSQLPRHTLQ...  "
      ]
     },
     "execution_count": 2,
     "metadata": {},
     "output_type": "execute_result"
    }
   ],
   "source": [
    "df_sequences = pd.read_csv(\"../../raw_data/PON-Sol2/all_protein_sequences.csv\")\n",
    "df_sequences.head(5)"
   ]
  },
  {
   "cell_type": "code",
   "execution_count": 3,
   "metadata": {},
   "outputs": [
    {
     "data": {
      "text/html": [
       "<div>\n",
       "<style scoped>\n",
       "    .dataframe tbody tr th:only-of-type {\n",
       "        vertical-align: middle;\n",
       "    }\n",
       "\n",
       "    .dataframe tbody tr th {\n",
       "        vertical-align: top;\n",
       "    }\n",
       "\n",
       "    .dataframe thead th {\n",
       "        text-align: right;\n",
       "    }\n",
       "</style>\n",
       "<table border=\"1\" class=\"dataframe\">\n",
       "  <thead>\n",
       "    <tr style=\"text-align: right;\">\n",
       "      <th></th>\n",
       "      <th>index</th>\n",
       "      <th>variation</th>\n",
       "      <th>solubility</th>\n",
       "      <th>gi</th>\n",
       "    </tr>\n",
       "  </thead>\n",
       "  <tbody>\n",
       "    <tr>\n",
       "      <th>0</th>\n",
       "      <td>0</td>\n",
       "      <td>M226K</td>\n",
       "      <td>-1</td>\n",
       "      <td>117391</td>\n",
       "    </tr>\n",
       "    <tr>\n",
       "      <th>1</th>\n",
       "      <td>1</td>\n",
       "      <td>R151Q</td>\n",
       "      <td>-1</td>\n",
       "      <td>117391</td>\n",
       "    </tr>\n",
       "    <tr>\n",
       "      <th>2</th>\n",
       "      <td>2</td>\n",
       "      <td>R234W</td>\n",
       "      <td>0</td>\n",
       "      <td>117391</td>\n",
       "    </tr>\n",
       "    <tr>\n",
       "      <th>3</th>\n",
       "      <td>3</td>\n",
       "      <td>P193F</td>\n",
       "      <td>-1</td>\n",
       "      <td>117544</td>\n",
       "    </tr>\n",
       "    <tr>\n",
       "      <th>4</th>\n",
       "      <td>4</td>\n",
       "      <td>P193G</td>\n",
       "      <td>-1</td>\n",
       "      <td>117544</td>\n",
       "    </tr>\n",
       "  </tbody>\n",
       "</table>\n",
       "</div>"
      ],
      "text/plain": [
       "   index variation  solubility      gi\n",
       "0      0     M226K          -1  117391\n",
       "1      1     R151Q          -1  117391\n",
       "2      2     R234W           0  117391\n",
       "3      3     P193F          -1  117544\n",
       "4      4     P193G          -1  117544"
      ]
     },
     "execution_count": 3,
     "metadata": {},
     "output_type": "execute_result"
    }
   ],
   "source": [
    "df_train = pd.read_csv(\"../../raw_data/PON-Sol2/train_dataset.csv\")\n",
    "df_train.head(5)"
   ]
  },
  {
   "cell_type": "code",
   "execution_count": 6,
   "metadata": {},
   "outputs": [
    {
     "data": {
      "text/plain": [
       "(5666, 4)"
      ]
     },
     "execution_count": 6,
     "metadata": {},
     "output_type": "execute_result"
    }
   ],
   "source": [
    "df_train.shape"
   ]
  },
  {
   "cell_type": "code",
   "execution_count": 4,
   "metadata": {},
   "outputs": [
    {
     "data": {
      "text/html": [
       "<div>\n",
       "<style scoped>\n",
       "    .dataframe tbody tr th:only-of-type {\n",
       "        vertical-align: middle;\n",
       "    }\n",
       "\n",
       "    .dataframe tbody tr th {\n",
       "        vertical-align: top;\n",
       "    }\n",
       "\n",
       "    .dataframe thead th {\n",
       "        text-align: right;\n",
       "    }\n",
       "</style>\n",
       "<table border=\"1\" class=\"dataframe\">\n",
       "  <thead>\n",
       "    <tr style=\"text-align: right;\">\n",
       "      <th></th>\n",
       "      <th>index</th>\n",
       "      <th>variation</th>\n",
       "      <th>solubility</th>\n",
       "      <th>gi</th>\n",
       "    </tr>\n",
       "  </thead>\n",
       "  <tbody>\n",
       "    <tr>\n",
       "      <th>0</th>\n",
       "      <td>25</td>\n",
       "      <td>K113F</td>\n",
       "      <td>0</td>\n",
       "      <td>145563</td>\n",
       "    </tr>\n",
       "    <tr>\n",
       "      <th>1</th>\n",
       "      <td>26</td>\n",
       "      <td>W130F</td>\n",
       "      <td>-1</td>\n",
       "      <td>145563</td>\n",
       "    </tr>\n",
       "    <tr>\n",
       "      <th>2</th>\n",
       "      <td>27</td>\n",
       "      <td>W140C</td>\n",
       "      <td>-1</td>\n",
       "      <td>145563</td>\n",
       "    </tr>\n",
       "    <tr>\n",
       "      <th>3</th>\n",
       "      <td>28</td>\n",
       "      <td>W140F</td>\n",
       "      <td>1</td>\n",
       "      <td>145563</td>\n",
       "    </tr>\n",
       "    <tr>\n",
       "      <th>4</th>\n",
       "      <td>29</td>\n",
       "      <td>W140K</td>\n",
       "      <td>-1</td>\n",
       "      <td>145563</td>\n",
       "    </tr>\n",
       "  </tbody>\n",
       "</table>\n",
       "</div>"
      ],
      "text/plain": [
       "   index variation  solubility      gi\n",
       "0     25     K113F           0  145563\n",
       "1     26     W130F          -1  145563\n",
       "2     27     W140C          -1  145563\n",
       "3     28     W140F           1  145563\n",
       "4     29     W140K          -1  145563"
      ]
     },
     "execution_count": 4,
     "metadata": {},
     "output_type": "execute_result"
    }
   ],
   "source": [
    "df_test1 = pd.read_csv(\"../../raw_data/PON-Sol2/test1_dataset.csv\")\n",
    "df_test1.head(5)"
   ]
  },
  {
   "cell_type": "code",
   "execution_count": 8,
   "metadata": {},
   "outputs": [
    {
     "data": {
      "text/plain": [
       "(46, 4)"
      ]
     },
     "execution_count": 8,
     "metadata": {},
     "output_type": "execute_result"
    }
   ],
   "source": [
    "df_test1.shape"
   ]
  },
  {
   "cell_type": "code",
   "execution_count": 5,
   "metadata": {},
   "outputs": [
    {
     "data": {
      "text/html": [
       "<div>\n",
       "<style scoped>\n",
       "    .dataframe tbody tr th:only-of-type {\n",
       "        vertical-align: middle;\n",
       "    }\n",
       "\n",
       "    .dataframe tbody tr th {\n",
       "        vertical-align: top;\n",
       "    }\n",
       "\n",
       "    .dataframe thead th {\n",
       "        text-align: right;\n",
       "    }\n",
       "</style>\n",
       "<table border=\"1\" class=\"dataframe\">\n",
       "  <thead>\n",
       "    <tr style=\"text-align: right;\">\n",
       "      <th></th>\n",
       "      <th>index</th>\n",
       "      <th>variation</th>\n",
       "      <th>solubility</th>\n",
       "      <th>gi</th>\n",
       "    </tr>\n",
       "  </thead>\n",
       "  <tbody>\n",
       "    <tr>\n",
       "      <th>0</th>\n",
       "      <td>34</td>\n",
       "      <td>L165P</td>\n",
       "      <td>-1</td>\n",
       "      <td>299464</td>\n",
       "    </tr>\n",
       "    <tr>\n",
       "      <th>1</th>\n",
       "      <td>40</td>\n",
       "      <td>S302N</td>\n",
       "      <td>1</td>\n",
       "      <td>633678</td>\n",
       "    </tr>\n",
       "    <tr>\n",
       "      <th>2</th>\n",
       "      <td>77</td>\n",
       "      <td>K176P</td>\n",
       "      <td>1</td>\n",
       "      <td>1708279</td>\n",
       "    </tr>\n",
       "    <tr>\n",
       "      <th>3</th>\n",
       "      <td>82</td>\n",
       "      <td>R49C</td>\n",
       "      <td>-1</td>\n",
       "      <td>1732063</td>\n",
       "    </tr>\n",
       "    <tr>\n",
       "      <th>4</th>\n",
       "      <td>85</td>\n",
       "      <td>M63K</td>\n",
       "      <td>0</td>\n",
       "      <td>2506127</td>\n",
       "    </tr>\n",
       "  </tbody>\n",
       "</table>\n",
       "</div>"
      ],
      "text/plain": [
       "   index variation  solubility       gi\n",
       "0     34     L165P          -1   299464\n",
       "1     40     S302N           1   633678\n",
       "2     77     K176P           1  1708279\n",
       "3     82      R49C          -1  1732063\n",
       "4     85      M63K           0  2506127"
      ]
     },
     "execution_count": 5,
     "metadata": {},
     "output_type": "execute_result"
    }
   ],
   "source": [
    "df_test2 = pd.read_csv(\"../../raw_data/PON-Sol2/test2_dataset.csv\")\n",
    "df_test2.head(5)"
   ]
  },
  {
   "cell_type": "code",
   "execution_count": 9,
   "metadata": {},
   "outputs": [
    {
     "data": {
      "text/plain": [
       "(662, 4)"
      ]
     },
     "execution_count": 9,
     "metadata": {},
     "output_type": "execute_result"
    }
   ],
   "source": [
    "df_test2.shape"
   ]
  },
  {
   "cell_type": "code",
   "execution_count": 23,
   "metadata": {},
   "outputs": [],
   "source": [
    "df_process_sequences_train, df_process_sequences_error_train = produce_df_sequences(df_train, df_sequences)\n",
    "df_process_sequences_test1, df_process_sequences_error_test1 = produce_df_sequences(df_test1, df_sequences)\n",
    "df_process_sequences_test2, df_process_sequences_error_test2 = produce_df_sequences(df_test2, df_sequences)\n"
   ]
  },
  {
   "cell_type": "code",
   "execution_count": 24,
   "metadata": {},
   "outputs": [
    {
     "data": {
      "text/plain": [
       "(0, 3)"
      ]
     },
     "execution_count": 24,
     "metadata": {},
     "output_type": "execute_result"
    }
   ],
   "source": [
    "df_process_sequences_error_train.shape"
   ]
  },
  {
   "cell_type": "code",
   "execution_count": 25,
   "metadata": {},
   "outputs": [
    {
     "data": {
      "text/plain": [
       "(0, 3)"
      ]
     },
     "execution_count": 25,
     "metadata": {},
     "output_type": "execute_result"
    }
   ],
   "source": [
    "df_process_sequences_error_test1.shape"
   ]
  },
  {
   "cell_type": "code",
   "execution_count": 26,
   "metadata": {},
   "outputs": [
    {
     "data": {
      "text/plain": [
       "(0, 3)"
      ]
     },
     "execution_count": 26,
     "metadata": {},
     "output_type": "execute_result"
    }
   ],
   "source": [
    "df_process_sequences_error_test2.shape"
   ]
  },
  {
   "cell_type": "code",
   "execution_count": 27,
   "metadata": {},
   "outputs": [
    {
     "data": {
      "text/plain": [
       "(6374, 4)"
      ]
     },
     "execution_count": 27,
     "metadata": {},
     "output_type": "execute_result"
    }
   ],
   "source": [
    "df_concat = pd.concat([df_process_sequences_train, df_process_sequences_test1, df_process_sequences_test2], axis=0)\n",
    "df_concat.shape"
   ]
  },
  {
   "cell_type": "code",
   "execution_count": 28,
   "metadata": {},
   "outputs": [
    {
     "data": {
      "text/html": [
       "<div>\n",
       "<style scoped>\n",
       "    .dataframe tbody tr th:only-of-type {\n",
       "        vertical-align: middle;\n",
       "    }\n",
       "\n",
       "    .dataframe tbody tr th {\n",
       "        vertical-align: top;\n",
       "    }\n",
       "\n",
       "    .dataframe thead th {\n",
       "        text-align: right;\n",
       "    }\n",
       "</style>\n",
       "<table border=\"1\" class=\"dataframe\">\n",
       "  <thead>\n",
       "    <tr style=\"text-align: right;\">\n",
       "      <th></th>\n",
       "      <th>gi</th>\n",
       "      <th>variation</th>\n",
       "      <th>sequence</th>\n",
       "      <th>response</th>\n",
       "    </tr>\n",
       "  </thead>\n",
       "  <tbody>\n",
       "    <tr>\n",
       "      <th>0</th>\n",
       "      <td>117391</td>\n",
       "      <td>M226K</td>\n",
       "      <td>MSEGVGTFRMVPEEEQELRAQLEQLTTKDHGPVFGPCSQLPRHTLQ...</td>\n",
       "      <td>-1</td>\n",
       "    </tr>\n",
       "    <tr>\n",
       "      <th>1</th>\n",
       "      <td>117391</td>\n",
       "      <td>R151Q</td>\n",
       "      <td>MSEGVGTFRMVPEEEQELRAQLEQLTTKDHGPVFGPCSQLPRHTLQ...</td>\n",
       "      <td>-1</td>\n",
       "    </tr>\n",
       "    <tr>\n",
       "      <th>2</th>\n",
       "      <td>117391</td>\n",
       "      <td>R234W</td>\n",
       "      <td>MSEGVGTFRMVPEEEQELRAQLEQLTTKDHGPVFGPCSQLPRHTLQ...</td>\n",
       "      <td>0</td>\n",
       "    </tr>\n",
       "    <tr>\n",
       "      <th>3</th>\n",
       "      <td>117544</td>\n",
       "      <td>P193F</td>\n",
       "      <td>MNPYQNKNEYETLNASQKKLNISNNYTRYPIENSPKQLLQSTNYKD...</td>\n",
       "      <td>-1</td>\n",
       "    </tr>\n",
       "    <tr>\n",
       "      <th>4</th>\n",
       "      <td>117544</td>\n",
       "      <td>P193G</td>\n",
       "      <td>MNPYQNKNEYETLNASQKKLNISNNYTRYPIENSPKQLLQSTNYKD...</td>\n",
       "      <td>-1</td>\n",
       "    </tr>\n",
       "  </tbody>\n",
       "</table>\n",
       "</div>"
      ],
      "text/plain": [
       "       gi variation                                           sequence  \\\n",
       "0  117391     M226K  MSEGVGTFRMVPEEEQELRAQLEQLTTKDHGPVFGPCSQLPRHTLQ...   \n",
       "1  117391     R151Q  MSEGVGTFRMVPEEEQELRAQLEQLTTKDHGPVFGPCSQLPRHTLQ...   \n",
       "2  117391     R234W  MSEGVGTFRMVPEEEQELRAQLEQLTTKDHGPVFGPCSQLPRHTLQ...   \n",
       "3  117544     P193F  MNPYQNKNEYETLNASQKKLNISNNYTRYPIENSPKQLLQSTNYKD...   \n",
       "4  117544     P193G  MNPYQNKNEYETLNASQKKLNISNNYTRYPIENSPKQLLQSTNYKD...   \n",
       "\n",
       "   response  \n",
       "0        -1  \n",
       "1        -1  \n",
       "2         0  \n",
       "3        -1  \n",
       "4        -1  "
      ]
     },
     "execution_count": 28,
     "metadata": {},
     "output_type": "execute_result"
    }
   ],
   "source": [
    "df_concat.head(5)"
   ]
  },
  {
   "cell_type": "code",
   "execution_count": 29,
   "metadata": {},
   "outputs": [],
   "source": [
    "df_concat.to_csv(\"../../process_data/mutations_categorical/PON-Sol2_export_data.csv\", index=False)"
   ]
  }
 ],
 "metadata": {
  "kernelspec": {
   "display_name": "amp_class_models",
   "language": "python",
   "name": "python3"
  },
  "language_info": {
   "codemirror_mode": {
    "name": "ipython",
    "version": 3
   },
   "file_extension": ".py",
   "mimetype": "text/x-python",
   "name": "python",
   "nbconvert_exporter": "python",
   "pygments_lexer": "ipython3",
   "version": "3.9.19"
  },
  "orig_nbformat": 4,
  "vscode": {
   "interpreter": {
    "hash": "7083de4b0402f53e7c3ee94a03dce799a26de2893c2a83f7f50740b3282fcfd1"
   }
  }
 },
 "nbformat": 4,
 "nbformat_minor": 2
}
