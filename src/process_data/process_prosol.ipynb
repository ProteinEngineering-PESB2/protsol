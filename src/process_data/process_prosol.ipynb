{
 "cells": [
  {
   "cell_type": "code",
   "execution_count": 1,
   "metadata": {},
   "outputs": [],
   "source": [
    "import pandas as pd"
   ]
  },
  {
   "cell_type": "code",
   "execution_count": 4,
   "metadata": {},
   "outputs": [
    {
     "name": "stderr",
     "output_type": "stream",
     "text": [
      "/home/dmedina/miniconda3/envs/data_driven_library/lib/python3.9/site-packages/openpyxl/worksheet/_reader.py:312: UserWarning: Unknown extension is not supported and will be removed\n",
      "  warn(msg)\n"
     ]
    },
    {
     "data": {
      "text/plain": [
       "(254016, 5)"
      ]
     },
     "execution_count": 4,
     "metadata": {},
     "output_type": "execute_result"
    }
   ],
   "source": [
    "df_data = pd.read_excel(\"../../raw_data/prosol/ProSol DB.xlsx\", skiprows=1)\n",
    "df_data.shape"
   ]
  },
  {
   "cell_type": "code",
   "execution_count": 5,
   "metadata": {},
   "outputs": [
    {
     "data": {
      "text/html": [
       "<div>\n",
       "<style scoped>\n",
       "    .dataframe tbody tr th:only-of-type {\n",
       "        vertical-align: middle;\n",
       "    }\n",
       "\n",
       "    .dataframe tbody tr th {\n",
       "        vertical-align: top;\n",
       "    }\n",
       "\n",
       "    .dataframe thead th {\n",
       "        text-align: right;\n",
       "    }\n",
       "</style>\n",
       "<table border=\"1\" class=\"dataframe\">\n",
       "  <thead>\n",
       "    <tr style=\"text-align: right;\">\n",
       "      <th></th>\n",
       "      <th>Protein ID</th>\n",
       "      <th>Organism</th>\n",
       "      <th>Sequence</th>\n",
       "      <th>EC number</th>\n",
       "      <th>Solubility</th>\n",
       "    </tr>\n",
       "  </thead>\n",
       "  <tbody>\n",
       "    <tr>\n",
       "      <th>0</th>\n",
       "      <td>Q9S9U6</td>\n",
       "      <td>Arabidopsis thaliana (Mouse-ear cress)</td>\n",
       "      <td>MLSSKVVGDSHGQDSSYFLGWQEYEKNPFHESFNTSGIVQMGLAEN...</td>\n",
       "      <td>4.4.1.14</td>\n",
       "      <td>62</td>\n",
       "    </tr>\n",
       "    <tr>\n",
       "      <th>1</th>\n",
       "      <td>A2XLL2</td>\n",
       "      <td>Oryza sativa subsp. indica (Rice)</td>\n",
       "      <td>MVSQVVAEEKPQLLSKKAGCNSHGQDSSYFLGWQEYEKNPFDPVSN...</td>\n",
       "      <td>4.4.1.14</td>\n",
       "      <td>87</td>\n",
       "    </tr>\n",
       "    <tr>\n",
       "      <th>2</th>\n",
       "      <td>Q06402</td>\n",
       "      <td>Arabidopsis thaliana (Mouse-ear cress)</td>\n",
       "      <td>MGLPGKNKGAVLSKIATNNQHGENSEYFDGWKAYDKDPFHLSRNPH...</td>\n",
       "      <td>4.4.1.14</td>\n",
       "      <td>1</td>\n",
       "    </tr>\n",
       "    <tr>\n",
       "      <th>3</th>\n",
       "      <td>Q42881</td>\n",
       "      <td>Solanum lycopersicum (Tomato) (Lycopersicon es...</td>\n",
       "      <td>MKLLSEKATCNSHGQDSSYFLGWQEYEKNPYDEIQNPKGIIQMGLA...</td>\n",
       "      <td>4.4.1.14</td>\n",
       "      <td>1</td>\n",
       "    </tr>\n",
       "    <tr>\n",
       "      <th>4</th>\n",
       "      <td>Q9STR4</td>\n",
       "      <td>Arabidopsis thaliana (Mouse-ear cress)</td>\n",
       "      <td>MGLPLMMERSSNNNNVELSRVAVSDTHGEDSPYFAGWKAYDENPYD...</td>\n",
       "      <td>4.4.1.14</td>\n",
       "      <td>95</td>\n",
       "    </tr>\n",
       "  </tbody>\n",
       "</table>\n",
       "</div>"
      ],
      "text/plain": [
       "  Protein ID                                           Organism  \\\n",
       "0     Q9S9U6             Arabidopsis thaliana (Mouse-ear cress)   \n",
       "1     A2XLL2                  Oryza sativa subsp. indica (Rice)   \n",
       "2     Q06402             Arabidopsis thaliana (Mouse-ear cress)   \n",
       "3     Q42881  Solanum lycopersicum (Tomato) (Lycopersicon es...   \n",
       "4     Q9STR4             Arabidopsis thaliana (Mouse-ear cress)   \n",
       "\n",
       "                                            Sequence EC number  Solubility  \n",
       "0  MLSSKVVGDSHGQDSSYFLGWQEYEKNPFHESFNTSGIVQMGLAEN...  4.4.1.14          62  \n",
       "1  MVSQVVAEEKPQLLSKKAGCNSHGQDSSYFLGWQEYEKNPFDPVSN...  4.4.1.14          87  \n",
       "2  MGLPGKNKGAVLSKIATNNQHGENSEYFDGWKAYDKDPFHLSRNPH...  4.4.1.14           1  \n",
       "3  MKLLSEKATCNSHGQDSSYFLGWQEYEKNPYDEIQNPKGIIQMGLA...  4.4.1.14           1  \n",
       "4  MGLPLMMERSSNNNNVELSRVAVSDTHGEDSPYFAGWKAYDENPYD...  4.4.1.14          95  "
      ]
     },
     "execution_count": 5,
     "metadata": {},
     "output_type": "execute_result"
    }
   ],
   "source": [
    "df_data.head(5)"
   ]
  },
  {
   "cell_type": "code",
   "execution_count": 6,
   "metadata": {},
   "outputs": [
    {
     "data": {
      "text/plain": [
       "201225"
      ]
     },
     "execution_count": 6,
     "metadata": {},
     "output_type": "execute_result"
    }
   ],
   "source": [
    "len(df_data[\"Sequence\"].unique())"
   ]
  },
  {
   "cell_type": "code",
   "execution_count": 8,
   "metadata": {},
   "outputs": [],
   "source": [
    "df_data = df_data[[\"Protein ID\", \"Sequence\", \"Solubility\"]]\n",
    "df_data.columns = [\"id_seq\", \"sequence\", \"response\"]"
   ]
  },
  {
   "cell_type": "code",
   "execution_count": 9,
   "metadata": {},
   "outputs": [],
   "source": [
    "checking_duplicated = df_data.groupby(by=[\"sequence\", \"response\"]).count().sort_values(by=\"id_seq\", ascending=False)"
   ]
  },
  {
   "cell_type": "code",
   "execution_count": 10,
   "metadata": {},
   "outputs": [],
   "source": [
    "sequences_no_duplicated = checking_duplicated[checking_duplicated[\"id_seq\"] == 1]\n",
    "sequences_duplicated = checking_duplicated[checking_duplicated[\"id_seq\"] > 1]"
   ]
  },
  {
   "cell_type": "code",
   "execution_count": 11,
   "metadata": {},
   "outputs": [
    {
     "data": {
      "text/plain": [
       "(27031, 1)"
      ]
     },
     "execution_count": 11,
     "metadata": {},
     "output_type": "execute_result"
    }
   ],
   "source": [
    "sequences_duplicated.shape"
   ]
  },
  {
   "cell_type": "code",
   "execution_count": 12,
   "metadata": {},
   "outputs": [
    {
     "data": {
      "text/html": [
       "<div>\n",
       "<style scoped>\n",
       "    .dataframe tbody tr th:only-of-type {\n",
       "        vertical-align: middle;\n",
       "    }\n",
       "\n",
       "    .dataframe tbody tr th {\n",
       "        vertical-align: top;\n",
       "    }\n",
       "\n",
       "    .dataframe thead th {\n",
       "        text-align: right;\n",
       "    }\n",
       "</style>\n",
       "<table border=\"1\" class=\"dataframe\">\n",
       "  <thead>\n",
       "    <tr style=\"text-align: right;\">\n",
       "      <th></th>\n",
       "      <th></th>\n",
       "      <th>id_seq</th>\n",
       "    </tr>\n",
       "    <tr>\n",
       "      <th>sequence</th>\n",
       "      <th>response</th>\n",
       "      <th></th>\n",
       "    </tr>\n",
       "  </thead>\n",
       "  <tbody>\n",
       "    <tr>\n",
       "      <th>MRILLSNDDGVHAPGIQTLAKALREFADVQVVAPDRNRSGASNSLTLESSLRTFTFENGDIAVQMGTPTDCVYLGVNALMRPRPDIVVSGINAGPNLGDDVIYSGTVAAAMEGRHLGFPALAVSLDGHKHYDTAAAVTCSILRALCKEPLRTGRILNINVPDLPLDQIKGIRVTRCGTRHPADQVIPQQDPRGNTLYWIGPPGGKCDAGPGTDFAAVDEGYVSITPLHVDLTAHSAQDVVSDWLNSVGVGTQW</th>\n",
       "      <th>18</th>\n",
       "      <td>57</td>\n",
       "    </tr>\n",
       "    <tr>\n",
       "      <th>MSAIAPGMILIAYLCGSISSAILVCRLCGLPDPRTSGSGNPGATNVLRIGGKGAAVAVLIFDVLKGMLPVWGAYELGVSPFWLGLIAIAACLGHIWPVFFGFKGGKGVATAFGAIAPIGWDLTGVMAGTWLLTVLLSGYSSLGAIVSALIAPFYVWWFKPQFTFPVSMLSCLILLRHHDNIQRLWRRQETKIWTKFKRKREKDPE</th>\n",
       "      <th>63</th>\n",
       "      <td>50</td>\n",
       "    </tr>\n",
       "    <tr>\n",
       "      <th>MARVTVQDAVEKIGNRFDLVLVAARRARQMQVGGKDPLVPEENDKTTVIALREIEEGLINNQILDVRERQEQQEQEAAELQAVTAIAEGRR</th>\n",
       "      <th>64</th>\n",
       "      <td>46</td>\n",
       "    </tr>\n",
       "    <tr>\n",
       "      <th>MFPMVTEFMNYGQQTVRAARYIGQGFMITLSHANRLPVTIQYPYEKLITSERFRGRIHFEFDKCIACEVCVRVCPIDLPVVDWKLETDIRKKRLLNYSIDFGICIFCGNCVEYCPTNCLSMTEEYELSTYDRHELNYNQIALGRLPMSIIDDYTIRTILNLPEIKT</th>\n",
       "      <th>67</th>\n",
       "      <td>45</td>\n",
       "    </tr>\n",
       "    <tr>\n",
       "      <th>MVDKSQETTHFGFQTVAKEQKADMVAHVFHSVASKYDVMNDLMSFGIHRLWKRFTIDCSGVRRGQTVLDLAGGTGDLTAKFSRLVGETGKVVLADINESMLKMGREKLRNIGVIGNVEYVQANAEALPFPDNTFDCITISFGLRNVTDKDKALRSMYRVLKPGGRLLVLEFSKPIIEPLSKAYDAYSFHVLPRIGSLVANDADSYRYLAESIRMHPDQDTLKAMMQDAGFESVDYYNLTAGVVALHRGYKF</th>\n",
       "      <th>100</th>\n",
       "      <td>42</td>\n",
       "    </tr>\n",
       "  </tbody>\n",
       "</table>\n",
       "</div>"
      ],
      "text/plain": [
       "                                                             id_seq\n",
       "sequence                                           response        \n",
       "MRILLSNDDGVHAPGIQTLAKALREFADVQVVAPDRNRSGASNSLTL... 18            57\n",
       "MSAIAPGMILIAYLCGSISSAILVCRLCGLPDPRTSGSGNPGATNVL... 63            50\n",
       "MARVTVQDAVEKIGNRFDLVLVAARRARQMQVGGKDPLVPEENDKTT... 64            46\n",
       "MFPMVTEFMNYGQQTVRAARYIGQGFMITLSHANRLPVTIQYPYEKL... 67            45\n",
       "MVDKSQETTHFGFQTVAKEQKADMVAHVFHSVASKYDVMNDLMSFGI... 100           42"
      ]
     },
     "execution_count": 12,
     "metadata": {},
     "output_type": "execute_result"
    }
   ],
   "source": [
    "sequences_duplicated.head(5)"
   ]
  },
  {
   "cell_type": "code",
   "execution_count": 13,
   "metadata": {},
   "outputs": [
    {
     "data": {
      "text/plain": [
       "27031"
      ]
     },
     "execution_count": 13,
     "metadata": {},
     "output_type": "execute_result"
    }
   ],
   "source": [
    "unique_duplicated = []\n",
    "\n",
    "for index in sequences_duplicated.index:\n",
    "    unique_duplicated.append(index[0])\n",
    "\n",
    "unique_duplicated = list(set(unique_duplicated))\n",
    "len(unique_duplicated)"
   ]
  },
  {
   "cell_type": "code",
   "execution_count": 14,
   "metadata": {},
   "outputs": [],
   "source": [
    "matrix_data_sequences = []\n",
    "\n",
    "for index in sequences_no_duplicated.index:\n",
    "    row = [\n",
    "        index[0],\n",
    "        index[1]\n",
    "    ]\n",
    "    matrix_data_sequences.append(row)\n",
    "\n",
    "for index in sequences_duplicated.index:\n",
    "    row = [\n",
    "        index[0],\n",
    "        index[1]\n",
    "    ]\n",
    "    matrix_data_sequences.append(row)\n",
    "\n",
    "df_to_export = pd.DataFrame(data=matrix_data_sequences, columns=[\"sequence\", \"response\"])"
   ]
  },
  {
   "cell_type": "code",
   "execution_count": 15,
   "metadata": {},
   "outputs": [
    {
     "data": {
      "text/plain": [
       "(201228, 2)"
      ]
     },
     "execution_count": 15,
     "metadata": {},
     "output_type": "execute_result"
    }
   ],
   "source": [
    "df_to_export.shape"
   ]
  },
  {
   "cell_type": "code",
   "execution_count": 16,
   "metadata": {},
   "outputs": [],
   "source": [
    "df_to_export.to_csv(\"../../process_data/prosol_export_data.csv\", index=False)"
   ]
  }
 ],
 "metadata": {
  "kernelspec": {
   "display_name": "amp_class_models",
   "language": "python",
   "name": "python3"
  },
  "language_info": {
   "codemirror_mode": {
    "name": "ipython",
    "version": 3
   },
   "file_extension": ".py",
   "mimetype": "text/x-python",
   "name": "python",
   "nbconvert_exporter": "python",
   "pygments_lexer": "ipython3",
   "version": "3.9.19"
  },
  "orig_nbformat": 4,
  "vscode": {
   "interpreter": {
    "hash": "7083de4b0402f53e7c3ee94a03dce799a26de2893c2a83f7f50740b3282fcfd1"
   }
  }
 },
 "nbformat": 4,
 "nbformat_minor": 2
}
