{
 "cells": [
  {
   "cell_type": "code",
   "execution_count": 2,
   "metadata": {},
   "outputs": [],
   "source": [
    "import pandas as pd\n",
    "from Bio import SeqIO"
   ]
  },
  {
   "cell_type": "code",
   "execution_count": 3,
   "metadata": {},
   "outputs": [
    {
     "data": {
      "text/html": [
       "<div>\n",
       "<style scoped>\n",
       "    .dataframe tbody tr th:only-of-type {\n",
       "        vertical-align: middle;\n",
       "    }\n",
       "\n",
       "    .dataframe tbody tr th {\n",
       "        vertical-align: top;\n",
       "    }\n",
       "\n",
       "    .dataframe thead th {\n",
       "        text-align: right;\n",
       "    }\n",
       "</style>\n",
       "<table border=\"1\" class=\"dataframe\">\n",
       "  <thead>\n",
       "    <tr style=\"text-align: right;\">\n",
       "      <th></th>\n",
       "      <th>id_seq</th>\n",
       "      <th>sequence</th>\n",
       "      <th>response</th>\n",
       "    </tr>\n",
       "  </thead>\n",
       "  <tbody>\n",
       "    <tr>\n",
       "      <th>0</th>\n",
       "      <td>TDB27</td>\n",
       "      <td>MAISKKKRFFFDLAQDEDDAETVQEVKKVEQQLKLEPVVQPQHDLT...</td>\n",
       "      <td>S</td>\n",
       "    </tr>\n",
       "    <tr>\n",
       "      <th>1</th>\n",
       "      <td>TDB35</td>\n",
       "      <td>MKISLSTSLFSIEQKVEYFNLNYQSLSDFSVVAKLNYTFTWYGNDF...</td>\n",
       "      <td>S</td>\n",
       "    </tr>\n",
       "    <tr>\n",
       "      <th>2</th>\n",
       "      <td>TDB39</td>\n",
       "      <td>MDKKYDITAVLNEDSSMTAISDQFQITLDARPKHTAKGFGPLAALL...</td>\n",
       "      <td>S</td>\n",
       "    </tr>\n",
       "    <tr>\n",
       "      <th>3</th>\n",
       "      <td>TDB44</td>\n",
       "      <td>MANSLRNVNDYDPFKYRPSYFDLEAPTESFALGKFVDAIEVKQMAL...</td>\n",
       "      <td>S</td>\n",
       "    </tr>\n",
       "    <tr>\n",
       "      <th>4</th>\n",
       "      <td>TDB54</td>\n",
       "      <td>MNTFKETLFSLKKSNYLLNESAQILNDCVVNNNEIDERLRNSIKFA...</td>\n",
       "      <td>S</td>\n",
       "    </tr>\n",
       "  </tbody>\n",
       "</table>\n",
       "</div>"
      ],
      "text/plain": [
       "  id_seq                                           sequence response\n",
       "0  TDB27  MAISKKKRFFFDLAQDEDDAETVQEVKKVEQQLKLEPVVQPQHDLT...        S\n",
       "1  TDB35  MKISLSTSLFSIEQKVEYFNLNYQSLSDFSVVAKLNYTFTWYGNDF...        S\n",
       "2  TDB39  MDKKYDITAVLNEDSSMTAISDQFQITLDARPKHTAKGFGPLAALL...        S\n",
       "3  TDB44  MANSLRNVNDYDPFKYRPSYFDLEAPTESFALGKFVDAIEVKQMAL...        S\n",
       "4  TDB54  MNTFKETLFSLKKSNYLLNESAQILNDCVVNNNEIDERLRNSIKFA...        S"
      ]
     },
     "execution_count": 3,
     "metadata": {},
     "output_type": "execute_result"
    }
   ],
   "source": [
    "matrix_data = []\n",
    "\n",
    "for record in SeqIO.parse(\"../../raw_data/SOLP/SOLP.fa\", \"fasta\"):\n",
    "    class_value = record.id.split(\"_\")[1]\n",
    "    id_seq = record.id.split(\"_\")[0]\n",
    "    sequence = str(record.seq)\n",
    "\n",
    "    row = [\n",
    "        id_seq,\n",
    "        sequence,\n",
    "        class_value\n",
    "    ]\n",
    "\n",
    "    matrix_data.append(row)\n",
    "\n",
    "df_process = pd.DataFrame(data=matrix_data, columns=[\"id_seq\", \"sequence\", \"response\"])\n",
    "df_process.head(5)"
   ]
  },
  {
   "cell_type": "code",
   "execution_count": 5,
   "metadata": {},
   "outputs": [],
   "source": [
    "df_process[\"response\"] = df_process[\"response\"].replace({'S': 1, 'I':0})"
   ]
  },
  {
   "cell_type": "code",
   "execution_count": 6,
   "metadata": {},
   "outputs": [
    {
     "data": {
      "text/plain": [
       "1    8704\n",
       "0    8704\n",
       "Name: response, dtype: int64"
      ]
     },
     "execution_count": 6,
     "metadata": {},
     "output_type": "execute_result"
    }
   ],
   "source": [
    "df_process[\"response\"].value_counts()"
   ]
  },
  {
   "cell_type": "code",
   "execution_count": 8,
   "metadata": {},
   "outputs": [
    {
     "data": {
      "text/plain": [
       "(17408, 3)"
      ]
     },
     "execution_count": 8,
     "metadata": {},
     "output_type": "execute_result"
    }
   ],
   "source": [
    "df_process.shape"
   ]
  },
  {
   "cell_type": "code",
   "execution_count": 7,
   "metadata": {},
   "outputs": [
    {
     "data": {
      "text/plain": [
       "17343"
      ]
     },
     "execution_count": 7,
     "metadata": {},
     "output_type": "execute_result"
    }
   ],
   "source": [
    "len(df_process[\"sequence\"].unique())"
   ]
  },
  {
   "cell_type": "code",
   "execution_count": 22,
   "metadata": {},
   "outputs": [],
   "source": [
    "checking_duplicated = df_process.groupby(by=[\"sequence\", \"response\"]).count().sort_values(by=\"id_seq\", ascending=False)"
   ]
  },
  {
   "cell_type": "code",
   "execution_count": 23,
   "metadata": {},
   "outputs": [
    {
     "data": {
      "text/plain": [
       "(17318, 1)"
      ]
     },
     "execution_count": 23,
     "metadata": {},
     "output_type": "execute_result"
    }
   ],
   "source": [
    "checking_duplicated[checking_duplicated[\"id_seq\"] == 1].shape"
   ]
  },
  {
   "cell_type": "code",
   "execution_count": 24,
   "metadata": {},
   "outputs": [],
   "source": [
    "sequences_no_duplicated = checking_duplicated[checking_duplicated[\"id_seq\"] == 1]\n",
    "sequences_duplicated = checking_duplicated[checking_duplicated[\"id_seq\"] > 1]"
   ]
  },
  {
   "cell_type": "code",
   "execution_count": 25,
   "metadata": {},
   "outputs": [
    {
     "data": {
      "text/plain": [
       "(25, 1)"
      ]
     },
     "execution_count": 25,
     "metadata": {},
     "output_type": "execute_result"
    }
   ],
   "source": [
    "sequences_duplicated.shape"
   ]
  },
  {
   "cell_type": "code",
   "execution_count": 27,
   "metadata": {},
   "outputs": [
    {
     "data": {
      "text/html": [
       "<div>\n",
       "<style scoped>\n",
       "    .dataframe tbody tr th:only-of-type {\n",
       "        vertical-align: middle;\n",
       "    }\n",
       "\n",
       "    .dataframe tbody tr th {\n",
       "        vertical-align: top;\n",
       "    }\n",
       "\n",
       "    .dataframe thead th {\n",
       "        text-align: right;\n",
       "    }\n",
       "</style>\n",
       "<table border=\"1\" class=\"dataframe\">\n",
       "  <thead>\n",
       "    <tr style=\"text-align: right;\">\n",
       "      <th></th>\n",
       "      <th></th>\n",
       "      <th>id_seq</th>\n",
       "    </tr>\n",
       "    <tr>\n",
       "      <th>sequence</th>\n",
       "      <th>response</th>\n",
       "      <th></th>\n",
       "    </tr>\n",
       "  </thead>\n",
       "  <tbody>\n",
       "    <tr>\n",
       "      <th>TTYADFIASGRTGRRNAIHD</th>\n",
       "      <th>1</th>\n",
       "      <td>23</td>\n",
       "    </tr>\n",
       "    <tr>\n",
       "      <th>GSVVIVGRIVLSGKPA</th>\n",
       "      <th>1</th>\n",
       "      <td>9</td>\n",
       "    </tr>\n",
       "    <tr>\n",
       "      <th>KGSVVIVGRIVLSGKPAIIPK</th>\n",
       "      <th>1</th>\n",
       "      <td>4</td>\n",
       "    </tr>\n",
       "    <tr>\n",
       "      <th>RIIYDRKFLMECRN</th>\n",
       "      <th>1</th>\n",
       "      <td>4</td>\n",
       "    </tr>\n",
       "    <tr>\n",
       "      <th>KGSVVIVGRIVLSGKPAIIPKK</th>\n",
       "      <th>1</th>\n",
       "      <td>3</td>\n",
       "    </tr>\n",
       "    <tr>\n",
       "      <th>PPEELKFQAGQKT</th>\n",
       "      <th>1</th>\n",
       "      <td>3</td>\n",
       "    </tr>\n",
       "    <tr>\n",
       "      <th>KGSVVIVGRIVLSGKPAIIPA</th>\n",
       "      <th>1</th>\n",
       "      <td>3</td>\n",
       "    </tr>\n",
       "    <tr>\n",
       "      <th>GSFLPNSEQQKSVDIVFSS</th>\n",
       "      <th>1</th>\n",
       "      <td>3</td>\n",
       "    </tr>\n",
       "    <tr>\n",
       "      <th>GGAGHVPEYFVGIGTPISFYG</th>\n",
       "      <th>1</th>\n",
       "      <td>3</td>\n",
       "    </tr>\n",
       "    <tr>\n",
       "      <th>ITFEDLLDYYGP</th>\n",
       "      <th>1</th>\n",
       "      <td>3</td>\n",
       "    </tr>\n",
       "    <tr>\n",
       "      <th>IVALVVAIIIAIVVWSI</th>\n",
       "      <th>1</th>\n",
       "      <td>3</td>\n",
       "    </tr>\n",
       "    <tr>\n",
       "      <th>LPEPLPQGQLTAY</th>\n",
       "      <th>1</th>\n",
       "      <td>3</td>\n",
       "    </tr>\n",
       "    <tr>\n",
       "      <th>MWDFDDMPPADEDYSP</th>\n",
       "      <th>1</th>\n",
       "      <td>2</td>\n",
       "    </tr>\n",
       "    <tr>\n",
       "      <th>PPRPLPVAPGSSKT</th>\n",
       "      <th>1</th>\n",
       "      <td>2</td>\n",
       "    </tr>\n",
       "    <tr>\n",
       "      <th>ETFSDLWKLLPEN</th>\n",
       "      <th>1</th>\n",
       "      <td>2</td>\n",
       "    </tr>\n",
       "    <tr>\n",
       "      <th>ENALLRYLLDKD</th>\n",
       "      <th>1</th>\n",
       "      <td>2</td>\n",
       "    </tr>\n",
       "    <tr>\n",
       "      <th>TRTKIDWNKILS</th>\n",
       "      <th>1</th>\n",
       "      <td>2</td>\n",
       "    </tr>\n",
       "    <tr>\n",
       "      <th>RIIYDRKFLMECRNSP</th>\n",
       "      <th>1</th>\n",
       "      <td>2</td>\n",
       "    </tr>\n",
       "    <tr>\n",
       "      <th>SRVTWYDFLMED</th>\n",
       "      <th>1</th>\n",
       "      <td>2</td>\n",
       "    </tr>\n",
       "    <tr>\n",
       "      <th>NWKLLAKGLLIRERLKR</th>\n",
       "      <th>1</th>\n",
       "      <td>2</td>\n",
       "    </tr>\n",
       "    <tr>\n",
       "      <th>TRELDELMASLS</th>\n",
       "      <th>1</th>\n",
       "      <td>2</td>\n",
       "    </tr>\n",
       "    <tr>\n",
       "      <th>TRKSIHIGPGRAFYTTGEI</th>\n",
       "      <th>1</th>\n",
       "      <td>2</td>\n",
       "    </tr>\n",
       "    <tr>\n",
       "      <th>KSIRIQRGPGRAFVTIG</th>\n",
       "      <th>1</th>\n",
       "      <td>2</td>\n",
       "    </tr>\n",
       "    <tr>\n",
       "      <th>PSKKRKRSRWNQD</th>\n",
       "      <th>1</th>\n",
       "      <td>2</td>\n",
       "    </tr>\n",
       "    <tr>\n",
       "      <th>TTYADFIASGRTGRRNAIH</th>\n",
       "      <th>1</th>\n",
       "      <td>2</td>\n",
       "    </tr>\n",
       "  </tbody>\n",
       "</table>\n",
       "</div>"
      ],
      "text/plain": [
       "                                 id_seq\n",
       "sequence               response        \n",
       "TTYADFIASGRTGRRNAIHD   1             23\n",
       "GSVVIVGRIVLSGKPA       1              9\n",
       "KGSVVIVGRIVLSGKPAIIPK  1              4\n",
       "RIIYDRKFLMECRN         1              4\n",
       "KGSVVIVGRIVLSGKPAIIPKK 1              3\n",
       "PPEELKFQAGQKT          1              3\n",
       "KGSVVIVGRIVLSGKPAIIPA  1              3\n",
       "GSFLPNSEQQKSVDIVFSS    1              3\n",
       "GGAGHVPEYFVGIGTPISFYG  1              3\n",
       "ITFEDLLDYYGP           1              3\n",
       "IVALVVAIIIAIVVWSI      1              3\n",
       "LPEPLPQGQLTAY          1              3\n",
       "MWDFDDMPPADEDYSP       1              2\n",
       "PPRPLPVAPGSSKT         1              2\n",
       "ETFSDLWKLLPEN          1              2\n",
       "ENALLRYLLDKD           1              2\n",
       "TRTKIDWNKILS           1              2\n",
       "RIIYDRKFLMECRNSP       1              2\n",
       "SRVTWYDFLMED           1              2\n",
       "NWKLLAKGLLIRERLKR      1              2\n",
       "TRELDELMASLS           1              2\n",
       "TRKSIHIGPGRAFYTTGEI    1              2\n",
       "KSIRIQRGPGRAFVTIG      1              2\n",
       "PSKKRKRSRWNQD          1              2\n",
       "TTYADFIASGRTGRRNAIH    1              2"
      ]
     },
     "execution_count": 27,
     "metadata": {},
     "output_type": "execute_result"
    }
   ],
   "source": [
    "sequences_duplicated"
   ]
  },
  {
   "cell_type": "code",
   "execution_count": 28,
   "metadata": {},
   "outputs": [
    {
     "data": {
      "text/html": [
       "<div>\n",
       "<style scoped>\n",
       "    .dataframe tbody tr th:only-of-type {\n",
       "        vertical-align: middle;\n",
       "    }\n",
       "\n",
       "    .dataframe tbody tr th {\n",
       "        vertical-align: top;\n",
       "    }\n",
       "\n",
       "    .dataframe thead th {\n",
       "        text-align: right;\n",
       "    }\n",
       "</style>\n",
       "<table border=\"1\" class=\"dataframe\">\n",
       "  <thead>\n",
       "    <tr style=\"text-align: right;\">\n",
       "      <th></th>\n",
       "      <th></th>\n",
       "      <th>id_seq</th>\n",
       "    </tr>\n",
       "    <tr>\n",
       "      <th>sequence</th>\n",
       "      <th>response</th>\n",
       "      <th></th>\n",
       "    </tr>\n",
       "  </thead>\n",
       "  <tbody>\n",
       "    <tr>\n",
       "      <th>MQNNEIIKPAKYFSELEKSILLALVEKYKYVLECKKSDARTIALKQRTWQALAHEYNSQPSVSLRDFKQLKKCWENIKARTKKIMAHERREKVKRSVSPLLSTHVLGKEKIASMLPEQLYFLQSPPEEEPEYHPDASAQESFAVSNRELCDDEKEFIHFPVCEGTSQPEPSCSAVRITANKNYRSKTSQEGALKKMHEEEHHQQMSILQLQLIQMNEVHVAKIQQIERECEMAEEEHRIKMEVLNKKKMYWERKLQTFTKEWPVSSFNRPFPNSP</th>\n",
       "      <th>1</th>\n",
       "      <td>1</td>\n",
       "    </tr>\n",
       "    <tr>\n",
       "      <th>MQKFILSAFVVALVAADCALKCPDGYFSFKRAPSAKNSMTGLWCVKAILSDTLISPNQAKQVCEKDGSILTSFENLDERTKLATVLRDFLSAKKLDRGGMIVDGHRLKNCETDDRTVLNAEPCRNSSTGFTTDEKHTDNTFMWKSWADTEPGQSIFEKQIESCLQLAISQFKSRTELINDVFCNYVKHPQNEGAYDLWNYGAVCGRLPEWN</th>\n",
       "      <th>0</th>\n",
       "      <td>1</td>\n",
       "    </tr>\n",
       "    <tr>\n",
       "      <th>MQKIKFTDPQTNDVVEFAVEEETTLNGTRYLLVSEGEESGDCEAYILKEVSTKDEEVLYQMVEDDVEFSAIAKVFSELTDDDTALEY</th>\n",
       "      <th>0</th>\n",
       "      <td>1</td>\n",
       "    </tr>\n",
       "    <tr>\n",
       "      <th>MQKIAKRTINMAIGCLEQRKDECLYKLFRKGADVDNLKRYPIMESEIKKFSIKGNTAEALVYLESQYERGYYVYLLLDENKQLPGLFRIYSVHKCVTDKCKNEQPQY</th>\n",
       "      <th>0</th>\n",
       "      <td>1</td>\n",
       "    </tr>\n",
       "    <tr>\n",
       "      <th>MQKGNFRNQRKTVKCFNCGKEGHIAKNCRAPRKKGCWKCGKEGHQMKDCTERQAN</th>\n",
       "      <th>1</th>\n",
       "      <td>1</td>\n",
       "    </tr>\n",
       "  </tbody>\n",
       "</table>\n",
       "</div>"
      ],
      "text/plain": [
       "                                                             id_seq\n",
       "sequence                                           response        \n",
       "MQNNEIIKPAKYFSELEKSILLALVEKYKYVLECKKSDARTIALKQR... 1              1\n",
       "MQKFILSAFVVALVAADCALKCPDGYFSFKRAPSAKNSMTGLWCVKA... 0              1\n",
       "MQKIKFTDPQTNDVVEFAVEEETTLNGTRYLLVSEGEESGDCEAYIL... 0              1\n",
       "MQKIAKRTINMAIGCLEQRKDECLYKLFRKGADVDNLKRYPIMESEI... 0              1\n",
       "MQKGNFRNQRKTVKCFNCGKEGHIAKNCRAPRKKGCWKCGKEGHQMK... 1              1"
      ]
     },
     "execution_count": 28,
     "metadata": {},
     "output_type": "execute_result"
    }
   ],
   "source": [
    "sequences_no_duplicated.head(5)"
   ]
  },
  {
   "cell_type": "code",
   "execution_count": 32,
   "metadata": {},
   "outputs": [],
   "source": [
    "matrix_data = []\n",
    "\n",
    "for index in sequences_duplicated.index:\n",
    "    row = [\n",
    "        sequences_duplicated[\"id_seq\"][index],\n",
    "        index[0],\n",
    "        index[1]\n",
    "    ]\n",
    "    matrix_data.append(row)\n",
    "\n",
    "for index in sequences_no_duplicated.index:\n",
    "    row = [\n",
    "        sequences_no_duplicated[\"id_seq\"][index],\n",
    "        index[0],\n",
    "        index[1]\n",
    "    ]\n",
    "    matrix_data.append(row)\n",
    "\n",
    "df_data_process = pd.DataFrame(data=matrix_data, columns=[\"id_seq\", \"sequence\", \"response\"])"
   ]
  },
  {
   "cell_type": "code",
   "execution_count": 33,
   "metadata": {},
   "outputs": [
    {
     "data": {
      "text/plain": [
       "(17343, 3)"
      ]
     },
     "execution_count": 33,
     "metadata": {},
     "output_type": "execute_result"
    }
   ],
   "source": [
    "df_data_process.shape"
   ]
  },
  {
   "cell_type": "code",
   "execution_count": 34,
   "metadata": {},
   "outputs": [],
   "source": [
    "df_data_process.to_csv(\"../../process_data/solp_export_data.csv\", index=False)"
   ]
  },
  {
   "cell_type": "code",
   "execution_count": 35,
   "metadata": {},
   "outputs": [
    {
     "data": {
      "text/plain": [
       "0    8704\n",
       "1    8639\n",
       "Name: response, dtype: int64"
      ]
     },
     "execution_count": 35,
     "metadata": {},
     "output_type": "execute_result"
    }
   ],
   "source": [
    "df_data_process[\"response\"].value_counts()"
   ]
  }
 ],
 "metadata": {
  "kernelspec": {
   "display_name": "amp_class_models",
   "language": "python",
   "name": "python3"
  },
  "language_info": {
   "codemirror_mode": {
    "name": "ipython",
    "version": 3
   },
   "file_extension": ".py",
   "mimetype": "text/x-python",
   "name": "python",
   "nbconvert_exporter": "python",
   "pygments_lexer": "ipython3",
   "version": "3.9.19 (main, Mar 21 2024, 17:11:28) \n[GCC 11.2.0]"
  },
  "orig_nbformat": 4,
  "vscode": {
   "interpreter": {
    "hash": "7083de4b0402f53e7c3ee94a03dce799a26de2893c2a83f7f50740b3282fcfd1"
   }
  }
 },
 "nbformat": 4,
 "nbformat_minor": 2
}
