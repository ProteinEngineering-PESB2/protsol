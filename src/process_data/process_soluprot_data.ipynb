{
 "cells": [
  {
   "cell_type": "code",
   "execution_count": 1,
   "metadata": {},
   "outputs": [],
   "source": [
    "import pandas as pd\n",
    "from Bio import SeqIO"
   ]
  },
  {
   "cell_type": "code",
   "execution_count": 3,
   "metadata": {},
   "outputs": [],
   "source": [
    "def fasta_to_df(name_doc):\n",
    "    matrix_data = []\n",
    "\n",
    "    for record in SeqIO.parse(name_doc, \"fasta\"):\n",
    "        id_seq = record.id\n",
    "        sequence = str(record.seq)\n",
    "\n",
    "        row = [\n",
    "            id_seq,\n",
    "            sequence\n",
    "        ]\n",
    "\n",
    "        matrix_data.append(row)\n",
    "\n",
    "    df_process = pd.DataFrame(data=matrix_data, columns=[\"id_seq\", \"sequence\"])\n",
    "    return df_process"
   ]
  },
  {
   "cell_type": "code",
   "execution_count": 2,
   "metadata": {},
   "outputs": [],
   "source": [
    "df_train = pd.read_csv(\"../../raw_data/soluprot_data/training_set.csv\")\n",
    "df_test = pd.read_csv(\"../../raw_data/soluprot_data/test_set.csv\")"
   ]
  },
  {
   "cell_type": "code",
   "execution_count": 11,
   "metadata": {},
   "outputs": [],
   "source": [
    "df_train[\"sid\"] = df_train[\"sid\"].astype(str)\n",
    "df_test[\"sid\"] = df_test[\"sid\"].astype(str)"
   ]
  },
  {
   "cell_type": "code",
   "execution_count": 4,
   "metadata": {},
   "outputs": [],
   "source": [
    "data_train = fasta_to_df(\"../../raw_data/soluprot_data/training_set.fasta\")\n",
    "data_test = fasta_to_df(\"../../raw_data/soluprot_data/test_set.fasta\")"
   ]
  },
  {
   "cell_type": "code",
   "execution_count": 5,
   "metadata": {},
   "outputs": [
    {
     "data": {
      "text/html": [
       "<div>\n",
       "<style scoped>\n",
       "    .dataframe tbody tr th:only-of-type {\n",
       "        vertical-align: middle;\n",
       "    }\n",
       "\n",
       "    .dataframe tbody tr th {\n",
       "        vertical-align: top;\n",
       "    }\n",
       "\n",
       "    .dataframe thead th {\n",
       "        text-align: right;\n",
       "    }\n",
       "</style>\n",
       "<table border=\"1\" class=\"dataframe\">\n",
       "  <thead>\n",
       "    <tr style=\"text-align: right;\">\n",
       "      <th></th>\n",
       "      <th>id_seq</th>\n",
       "      <th>sequence</th>\n",
       "    </tr>\n",
       "  </thead>\n",
       "  <tbody>\n",
       "    <tr>\n",
       "      <th>0</th>\n",
       "      <td>97522</td>\n",
       "      <td>MRSSNNRHEGEEAMNRTQQWMEDLQKNISDLIARSPAADVERNVRA...</td>\n",
       "    </tr>\n",
       "    <tr>\n",
       "      <th>1</th>\n",
       "      <td>198988</td>\n",
       "      <td>MKTFSAILPLCFLFAVETAVAQEGNFKAGTYSAARQGIGGDVTVTL...</td>\n",
       "    </tr>\n",
       "    <tr>\n",
       "      <th>2</th>\n",
       "      <td>58879</td>\n",
       "      <td>QQVMYSNLKELVENRGDTVTTLKIEKRTKNQIYLMGGADYRITVDD...</td>\n",
       "    </tr>\n",
       "    <tr>\n",
       "      <th>3</th>\n",
       "      <td>44629</td>\n",
       "      <td>MNNQQIEDDLTYKIIGCAMKVHTTLGNGFQEVIYQRALAIEMKKAD...</td>\n",
       "    </tr>\n",
       "    <tr>\n",
       "      <th>4</th>\n",
       "      <td>93183</td>\n",
       "      <td>MGHVVKVALLGLGEVGEKFAEHFLEKIQEDRANVEIVAVAHRDLES...</td>\n",
       "    </tr>\n",
       "  </tbody>\n",
       "</table>\n",
       "</div>"
      ],
      "text/plain": [
       "   id_seq                                           sequence\n",
       "0   97522  MRSSNNRHEGEEAMNRTQQWMEDLQKNISDLIARSPAADVERNVRA...\n",
       "1  198988  MKTFSAILPLCFLFAVETAVAQEGNFKAGTYSAARQGIGGDVTVTL...\n",
       "2   58879  QQVMYSNLKELVENRGDTVTTLKIEKRTKNQIYLMGGADYRITVDD...\n",
       "3   44629  MNNQQIEDDLTYKIIGCAMKVHTTLGNGFQEVIYQRALAIEMKKAD...\n",
       "4   93183  MGHVVKVALLGLGEVGEKFAEHFLEKIQEDRANVEIVAVAHRDLES..."
      ]
     },
     "execution_count": 5,
     "metadata": {},
     "output_type": "execute_result"
    }
   ],
   "source": [
    "data_train.head(5)"
   ]
  },
  {
   "cell_type": "code",
   "execution_count": 6,
   "metadata": {},
   "outputs": [
    {
     "data": {
      "text/html": [
       "<div>\n",
       "<style scoped>\n",
       "    .dataframe tbody tr th:only-of-type {\n",
       "        vertical-align: middle;\n",
       "    }\n",
       "\n",
       "    .dataframe tbody tr th {\n",
       "        vertical-align: top;\n",
       "    }\n",
       "\n",
       "    .dataframe thead th {\n",
       "        text-align: right;\n",
       "    }\n",
       "</style>\n",
       "<table border=\"1\" class=\"dataframe\">\n",
       "  <thead>\n",
       "    <tr style=\"text-align: right;\">\n",
       "      <th></th>\n",
       "      <th>sid</th>\n",
       "      <th>solubility</th>\n",
       "    </tr>\n",
       "  </thead>\n",
       "  <tbody>\n",
       "    <tr>\n",
       "      <th>0</th>\n",
       "      <td>97522</td>\n",
       "      <td>1</td>\n",
       "    </tr>\n",
       "    <tr>\n",
       "      <th>1</th>\n",
       "      <td>198988</td>\n",
       "      <td>1</td>\n",
       "    </tr>\n",
       "    <tr>\n",
       "      <th>2</th>\n",
       "      <td>58879</td>\n",
       "      <td>1</td>\n",
       "    </tr>\n",
       "    <tr>\n",
       "      <th>3</th>\n",
       "      <td>44629</td>\n",
       "      <td>1</td>\n",
       "    </tr>\n",
       "    <tr>\n",
       "      <th>4</th>\n",
       "      <td>93183</td>\n",
       "      <td>1</td>\n",
       "    </tr>\n",
       "  </tbody>\n",
       "</table>\n",
       "</div>"
      ],
      "text/plain": [
       "      sid  solubility\n",
       "0   97522           1\n",
       "1  198988           1\n",
       "2   58879           1\n",
       "3   44629           1\n",
       "4   93183           1"
      ]
     },
     "execution_count": 6,
     "metadata": {},
     "output_type": "execute_result"
    }
   ],
   "source": [
    "df_train.head(5)"
   ]
  },
  {
   "cell_type": "code",
   "execution_count": 13,
   "metadata": {},
   "outputs": [],
   "source": [
    "data_train_merge = data_train.merge(right=df_train, left_on=\"id_seq\", right_on=\"sid\")\n",
    "data_train_merge = data_train_merge[[\"id_seq\", \"sequence\", \"solubility\"]]\n",
    "\n",
    "data_test_merge = data_test.merge(right=df_test, left_on=\"id_seq\", right_on=\"sid\")\n",
    "data_test_merge = data_test_merge[[\"id_seq\", \"sequence\", \"solubility\"]]\n",
    "\n",
    "data_concat = pd.concat([data_train_merge, data_test_merge], axis=0)\n"
   ]
  },
  {
   "cell_type": "code",
   "execution_count": 15,
   "metadata": {},
   "outputs": [
    {
     "data": {
      "text/plain": [
       "1    7268\n",
       "0    7268\n",
       "Name: solubility, dtype: int64"
      ]
     },
     "execution_count": 15,
     "metadata": {},
     "output_type": "execute_result"
    }
   ],
   "source": [
    "data_concat[\"solubility\"].value_counts()"
   ]
  },
  {
   "cell_type": "code",
   "execution_count": 17,
   "metadata": {},
   "outputs": [
    {
     "data": {
      "text/plain": [
       "(14536, 3)"
      ]
     },
     "execution_count": 17,
     "metadata": {},
     "output_type": "execute_result"
    }
   ],
   "source": [
    "data_concat.shape"
   ]
  },
  {
   "cell_type": "code",
   "execution_count": 16,
   "metadata": {},
   "outputs": [
    {
     "data": {
      "text/plain": [
       "14536"
      ]
     },
     "execution_count": 16,
     "metadata": {},
     "output_type": "execute_result"
    }
   ],
   "source": [
    "len(data_concat[\"sequence\"].unique())"
   ]
  },
  {
   "cell_type": "code",
   "execution_count": 18,
   "metadata": {},
   "outputs": [],
   "source": [
    "checking_duplicated = data_concat.groupby(by=[\"sequence\", \"solubility\"]).count().sort_values(by=\"id_seq\", ascending=False)"
   ]
  },
  {
   "cell_type": "code",
   "execution_count": 19,
   "metadata": {},
   "outputs": [
    {
     "data": {
      "text/plain": [
       "(14536, 1)"
      ]
     },
     "execution_count": 19,
     "metadata": {},
     "output_type": "execute_result"
    }
   ],
   "source": [
    "checking_duplicated[checking_duplicated[\"id_seq\"] == 1].shape"
   ]
  },
  {
   "cell_type": "code",
   "execution_count": 20,
   "metadata": {},
   "outputs": [],
   "source": [
    "data_concat.columns = [\"id_seq\",\"sequence\",\"response\"]"
   ]
  },
  {
   "cell_type": "code",
   "execution_count": 21,
   "metadata": {},
   "outputs": [],
   "source": [
    "data_concat.to_csv(\"../../process_data/soluprot_export_data.csv\", index=False)"
   ]
  }
 ],
 "metadata": {
  "kernelspec": {
   "display_name": "amp_class_models",
   "language": "python",
   "name": "python3"
  },
  "language_info": {
   "codemirror_mode": {
    "name": "ipython",
    "version": 3
   },
   "file_extension": ".py",
   "mimetype": "text/x-python",
   "name": "python",
   "nbconvert_exporter": "python",
   "pygments_lexer": "ipython3",
   "version": "3.9.19"
  },
  "orig_nbformat": 4,
  "vscode": {
   "interpreter": {
    "hash": "7083de4b0402f53e7c3ee94a03dce799a26de2893c2a83f7f50740b3282fcfd1"
   }
  }
 },
 "nbformat": 4,
 "nbformat_minor": 2
}
