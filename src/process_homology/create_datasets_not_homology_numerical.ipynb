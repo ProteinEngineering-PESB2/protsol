{
 "cells": [
  {
   "cell_type": "code",
   "execution_count": 1,
   "metadata": {},
   "outputs": [],
   "source": [
    "import pandas as pd\n",
    "from sklearn.model_selection import train_test_split"
   ]
  },
  {
   "cell_type": "code",
   "execution_count": 2,
   "metadata": {},
   "outputs": [
    {
     "data": {
      "text/plain": [
       "(196926, 4)"
      ]
     },
     "execution_count": 2,
     "metadata": {},
     "output_type": "execute_result"
    }
   ],
   "source": [
    "df_data = pd.read_csv(\"../../datasets_for_training/numerical_dataset_with_responses.csv\")\n",
    "df_data.shape"
   ]
  },
  {
   "cell_type": "code",
   "execution_count": 3,
   "metadata": {},
   "outputs": [
    {
     "data": {
      "text/html": [
       "<div>\n",
       "<style scoped>\n",
       "    .dataframe tbody tr th:only-of-type {\n",
       "        vertical-align: middle;\n",
       "    }\n",
       "\n",
       "    .dataframe tbody tr th {\n",
       "        vertical-align: top;\n",
       "    }\n",
       "\n",
       "    .dataframe thead th {\n",
       "        text-align: right;\n",
       "    }\n",
       "</style>\n",
       "<table border=\"1\" class=\"dataframe\">\n",
       "  <thead>\n",
       "    <tr style=\"text-align: right;\">\n",
       "      <th></th>\n",
       "      <th>sequence</th>\n",
       "      <th>response</th>\n",
       "      <th>length_sequence</th>\n",
       "      <th>is_canon_seq</th>\n",
       "    </tr>\n",
       "  </thead>\n",
       "  <tbody>\n",
       "    <tr>\n",
       "      <th>0</th>\n",
       "      <td>MSEMLFFVITTIVKAVVILAVMASLAGLATYAERKVLAYMQRRVGP...</td>\n",
       "      <td>71</td>\n",
       "      <td>331</td>\n",
       "      <td>True</td>\n",
       "    </tr>\n",
       "    <tr>\n",
       "      <th>1</th>\n",
       "      <td>MSAAIDAVELSRELIRKPSVTPADEGAMDVVERTLAGLGFACRRMR...</td>\n",
       "      <td>21</td>\n",
       "      <td>380</td>\n",
       "      <td>True</td>\n",
       "    </tr>\n",
       "    <tr>\n",
       "      <th>2</th>\n",
       "      <td>MRMIQRERKREKEEGQLKERTVVNMADPDDNEAEATGLQQYSGETT...</td>\n",
       "      <td>100</td>\n",
       "      <td>811</td>\n",
       "      <td>True</td>\n",
       "    </tr>\n",
       "    <tr>\n",
       "      <th>3</th>\n",
       "      <td>MSENQDLQKSFLETVKFDDKGLVPAIVQDFETGKVLMMAWMNRQSL...</td>\n",
       "      <td>81</td>\n",
       "      <td>137</td>\n",
       "      <td>True</td>\n",
       "    </tr>\n",
       "    <tr>\n",
       "      <th>4</th>\n",
       "      <td>MSENLNREPELNIGYITQVIGPVIDAVFSAGQLPKIYNALEVKSKD...</td>\n",
       "      <td>100</td>\n",
       "      <td>481</td>\n",
       "      <td>True</td>\n",
       "    </tr>\n",
       "  </tbody>\n",
       "</table>\n",
       "</div>"
      ],
      "text/plain": [
       "                                            sequence  response  \\\n",
       "0  MSEMLFFVITTIVKAVVILAVMASLAGLATYAERKVLAYMQRRVGP...        71   \n",
       "1  MSAAIDAVELSRELIRKPSVTPADEGAMDVVERTLAGLGFACRRMR...        21   \n",
       "2  MRMIQRERKREKEEGQLKERTVVNMADPDDNEAEATGLQQYSGETT...       100   \n",
       "3  MSENQDLQKSFLETVKFDDKGLVPAIVQDFETGKVLMMAWMNRQSL...        81   \n",
       "4  MSENLNREPELNIGYITQVIGPVIDAVFSAGQLPKIYNALEVKSKD...       100   \n",
       "\n",
       "   length_sequence  is_canon_seq  \n",
       "0              331          True  \n",
       "1              380          True  \n",
       "2              811          True  \n",
       "3              137          True  \n",
       "4              481          True  "
      ]
     },
     "execution_count": 3,
     "metadata": {},
     "output_type": "execute_result"
    }
   ],
   "source": [
    "df_data.head(5)"
   ]
  },
  {
   "cell_type": "code",
   "execution_count": 4,
   "metadata": {},
   "outputs": [],
   "source": [
    "df_data = df_data[[\"sequence\", \"response\"]]"
   ]
  },
  {
   "cell_type": "code",
   "execution_count": 5,
   "metadata": {},
   "outputs": [],
   "source": [
    "df_train, df_test = train_test_split(df_data, test_size=0.1, random_state=42)"
   ]
  },
  {
   "cell_type": "code",
   "execution_count": 6,
   "metadata": {},
   "outputs": [],
   "source": [
    "df_train.to_csv(\"../../processing_datasets/numerical_response/train_dataset.csv\", index=False)"
   ]
  },
  {
   "cell_type": "code",
   "execution_count": 7,
   "metadata": {},
   "outputs": [],
   "source": [
    "df_test.to_csv(\"../../processing_datasets/numerical_response/test_dataset.csv\", index=False)"
   ]
  }
 ],
 "metadata": {
  "kernelspec": {
   "display_name": "amp_class_models",
   "language": "python",
   "name": "python3"
  },
  "language_info": {
   "codemirror_mode": {
    "name": "ipython",
    "version": 3
   },
   "file_extension": ".py",
   "mimetype": "text/x-python",
   "name": "python",
   "nbconvert_exporter": "python",
   "pygments_lexer": "ipython3",
   "version": "3.9.19"
  },
  "orig_nbformat": 4,
  "vscode": {
   "interpreter": {
    "hash": "7083de4b0402f53e7c3ee94a03dce799a26de2893c2a83f7f50740b3282fcfd1"
   }
  }
 },
 "nbformat": 4,
 "nbformat_minor": 2
}
